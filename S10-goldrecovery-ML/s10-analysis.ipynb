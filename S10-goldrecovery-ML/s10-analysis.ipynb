{
 "cells": [
  {
   "attachments": {},
   "cell_type": "markdown",
   "metadata": {},
   "source": [
    "## Introduction\n",
    "\n",
    "Prepare a prototype of a machine learning model for Zyfra. The company develops efficiency solutions for heavy industry. The model should predict the amount of gold recovered from gold ore. You have the data on extraction and purification. The model will help to optimize the production and eliminate unprofitable parameters.\n",
    "\n",
    "Mined ore undergoes primary processing to get the ore mixture or rougher feed, which is the raw material for flotation (also known as the rougher process). After flotation, the material is sent to two-stage purification.\n",
    "\n",
    "1. Flotation\n",
    "\n",
    "Gold ore mixture is fed into the float banks to obtain rougher Au concentrate and rougher tails (product residues with a low concentration of valuable metals).\n",
    "The stability of this process is affected by the volatile and non-optimal physicochemical state of the flotation pulp (a mixture of solid particles and liquid).\n",
    "\n",
    "2. Purification\n",
    "\n",
    "The rougher concentrate undergoes two stages of purification. After purification, we have the final concentrate and new tails.\n",
    "\n",
    "We need to predict two values:\n",
    "\n",
    "- rougher concentrate recovery `rougher.output.recovery`\n",
    "- final concentrate recovery `final.output.recovery`\n",
    "\n",
    "Evaluation metric: symmetric Mean Absolute Percentage Error (sMAPE)"
   ]
  },
  {
   "cell_type": "code",
   "execution_count": 1,
   "metadata": {},
   "outputs": [],
   "source": [
    "import pandas as pd\n",
    "import numpy as np\n",
    "import scipy.stats as st\n",
    "import matplotlib.pyplot as plt\n",
    "from sklearn.model_selection import train_test_split\n",
    "from sklearn.tree import DecisionTreeRegressor\n",
    "from sklearn.linear_model import LinearRegression\n",
    "from sklearn.ensemble import RandomForestRegressor\n",
    "from sklearn.dummy import DummyRegressor\n",
    "from sklearn.metrics import mean_absolute_error, mean_squared_error, r2_score, make_scorer\n",
    "from sklearn.model_selection import cross_val_score"
   ]
  },
  {
   "cell_type": "code",
   "execution_count": 2,
   "metadata": {},
   "outputs": [],
   "source": [
    "# Read in the dataset\n",
    "df_train = pd.read_csv('datasets/gold_recovery_train.csv')\n",
    "df_test = pd.read_csv('datasets/gold_recovery_test.csv')\n",
    "df_full = pd.read_csv('datasets/gold_recovery_full.csv')"
   ]
  },
  {
   "cell_type": "code",
   "execution_count": 3,
   "metadata": {},
   "outputs": [],
   "source": [
    "# Convert date to datetime\n",
    "df_train['date'] = pd.to_datetime(df_train['date'], format='%Y-%m-%d %H:%M:%S')\n",
    "df_test['date'] = pd.to_datetime(df_test['date'], format='%Y-%m-%d %H:%M:%S')\n",
    "df_full['date'] = pd.to_datetime(df_full['date'], format='%Y-%m-%d %H:%M:%S')"
   ]
  },
  {
   "cell_type": "markdown",
   "metadata": {},
   "source": [
    "<b>Task 1.2:</b>\n",
    "\n",
    "Check that recovery is calculated correctly. Using the training set, calculate recovery for the rougher.output.recovery feature. Find the MAE between your calculations and the feature values. Provide findings."
   ]
  },
  {
   "cell_type": "code",
   "execution_count": 4,
   "metadata": {},
   "outputs": [],
   "source": [
    "# Recovery = C * (F - T)  /   F * (C - T) * 100%\n",
    "# C share of gold in the concentrate right after flotation (rougher.output.concentrate_au)\n",
    "# F share of gold in the feed before flotation (rougher.input.feed_au)\n",
    "# T share of gold in the rougher tails right after flotation (rougher.output.tail_au)\n",
    "\n",
    "num = df_train['rougher.output.concentrate_au'] * (df_train['rougher.input.feed_au'] - df_train['rougher.output.tail_au'])\n",
    "denom = df_train['rougher.input.feed_au'] * (df_train['rougher.output.concentrate_au'] - df_train['rougher.output.tail_au'])\n",
    "recovery_calc = num / denom * 100"
   ]
  },
  {
   "cell_type": "code",
   "execution_count": 5,
   "metadata": {},
   "outputs": [],
   "source": [
    "# Actual rougher.output.recovery values\n",
    "recovery = df_train['rougher.output.recovery']"
   ]
  },
  {
   "cell_type": "code",
   "execution_count": 6,
   "metadata": {},
   "outputs": [
    {
     "name": "stdout",
     "output_type": "stream",
     "text": [
      "MAE for calculated rougher.output.recovery feature is: 7.883623897364653e-15\n"
     ]
    }
   ],
   "source": [
    "# MAE calculation\n",
    "mae_recovery = np.abs(recovery_calc - recovery).sum() / len(recovery)\n",
    "print(f'MAE for calculated rougher.output.recovery feature is: {mae_recovery}')"
   ]
  },
  {
   "attachments": {},
   "cell_type": "markdown",
   "metadata": {},
   "source": [
    "The MAE between the calculation and the feature values for `rougher.output.recovery` in the training set is 7.88e-15 or essentially 0, meaning that the calculations are essentially spot on to the recovery values and that recovery is calculated correctly."
   ]
  },
  {
   "cell_type": "markdown",
   "metadata": {},
   "source": [
    "<b>Task 1.3:</b>\n",
    "\n",
    "Analyze the features not available in the test set. What are these parameters? What is their type?"
   ]
  },
  {
   "cell_type": "code",
   "execution_count": 7,
   "metadata": {},
   "outputs": [
    {
     "name": "stdout",
     "output_type": "stream",
     "text": [
      "<class 'pandas.core.frame.DataFrame'>\n",
      "RangeIndex: 5856 entries, 0 to 5855\n",
      "Data columns (total 53 columns):\n",
      " #   Column                                      Non-Null Count  Dtype         \n",
      "---  ------                                      --------------  -----         \n",
      " 0   date                                        5856 non-null   datetime64[ns]\n",
      " 1   primary_cleaner.input.sulfate               5554 non-null   float64       \n",
      " 2   primary_cleaner.input.depressant            5572 non-null   float64       \n",
      " 3   primary_cleaner.input.feed_size             5856 non-null   float64       \n",
      " 4   primary_cleaner.input.xanthate              5690 non-null   float64       \n",
      " 5   primary_cleaner.state.floatbank8_a_air      5840 non-null   float64       \n",
      " 6   primary_cleaner.state.floatbank8_a_level    5840 non-null   float64       \n",
      " 7   primary_cleaner.state.floatbank8_b_air      5840 non-null   float64       \n",
      " 8   primary_cleaner.state.floatbank8_b_level    5840 non-null   float64       \n",
      " 9   primary_cleaner.state.floatbank8_c_air      5840 non-null   float64       \n",
      " 10  primary_cleaner.state.floatbank8_c_level    5840 non-null   float64       \n",
      " 11  primary_cleaner.state.floatbank8_d_air      5840 non-null   float64       \n",
      " 12  primary_cleaner.state.floatbank8_d_level    5840 non-null   float64       \n",
      " 13  rougher.input.feed_ag                       5840 non-null   float64       \n",
      " 14  rougher.input.feed_pb                       5840 non-null   float64       \n",
      " 15  rougher.input.feed_rate                     5816 non-null   float64       \n",
      " 16  rougher.input.feed_size                     5834 non-null   float64       \n",
      " 17  rougher.input.feed_sol                      5789 non-null   float64       \n",
      " 18  rougher.input.feed_au                       5840 non-null   float64       \n",
      " 19  rougher.input.floatbank10_sulfate           5599 non-null   float64       \n",
      " 20  rougher.input.floatbank10_xanthate          5733 non-null   float64       \n",
      " 21  rougher.input.floatbank11_sulfate           5801 non-null   float64       \n",
      " 22  rougher.input.floatbank11_xanthate          5503 non-null   float64       \n",
      " 23  rougher.state.floatbank10_a_air             5839 non-null   float64       \n",
      " 24  rougher.state.floatbank10_a_level           5840 non-null   float64       \n",
      " 25  rougher.state.floatbank10_b_air             5839 non-null   float64       \n",
      " 26  rougher.state.floatbank10_b_level           5840 non-null   float64       \n",
      " 27  rougher.state.floatbank10_c_air             5839 non-null   float64       \n",
      " 28  rougher.state.floatbank10_c_level           5840 non-null   float64       \n",
      " 29  rougher.state.floatbank10_d_air             5839 non-null   float64       \n",
      " 30  rougher.state.floatbank10_d_level           5840 non-null   float64       \n",
      " 31  rougher.state.floatbank10_e_air             5839 non-null   float64       \n",
      " 32  rougher.state.floatbank10_e_level           5840 non-null   float64       \n",
      " 33  rougher.state.floatbank10_f_air             5839 non-null   float64       \n",
      " 34  rougher.state.floatbank10_f_level           5840 non-null   float64       \n",
      " 35  secondary_cleaner.state.floatbank2_a_air    5836 non-null   float64       \n",
      " 36  secondary_cleaner.state.floatbank2_a_level  5840 non-null   float64       \n",
      " 37  secondary_cleaner.state.floatbank2_b_air    5833 non-null   float64       \n",
      " 38  secondary_cleaner.state.floatbank2_b_level  5840 non-null   float64       \n",
      " 39  secondary_cleaner.state.floatbank3_a_air    5822 non-null   float64       \n",
      " 40  secondary_cleaner.state.floatbank3_a_level  5840 non-null   float64       \n",
      " 41  secondary_cleaner.state.floatbank3_b_air    5840 non-null   float64       \n",
      " 42  secondary_cleaner.state.floatbank3_b_level  5840 non-null   float64       \n",
      " 43  secondary_cleaner.state.floatbank4_a_air    5840 non-null   float64       \n",
      " 44  secondary_cleaner.state.floatbank4_a_level  5840 non-null   float64       \n",
      " 45  secondary_cleaner.state.floatbank4_b_air    5840 non-null   float64       \n",
      " 46  secondary_cleaner.state.floatbank4_b_level  5840 non-null   float64       \n",
      " 47  secondary_cleaner.state.floatbank5_a_air    5840 non-null   float64       \n",
      " 48  secondary_cleaner.state.floatbank5_a_level  5840 non-null   float64       \n",
      " 49  secondary_cleaner.state.floatbank5_b_air    5840 non-null   float64       \n",
      " 50  secondary_cleaner.state.floatbank5_b_level  5840 non-null   float64       \n",
      " 51  secondary_cleaner.state.floatbank6_a_air    5840 non-null   float64       \n",
      " 52  secondary_cleaner.state.floatbank6_a_level  5840 non-null   float64       \n",
      "dtypes: datetime64[ns](1), float64(52)\n",
      "memory usage: 2.4 MB\n"
     ]
    },
    {
     "data": {
      "text/html": [
       "<div>\n",
       "<style scoped>\n",
       "    .dataframe tbody tr th:only-of-type {\n",
       "        vertical-align: middle;\n",
       "    }\n",
       "\n",
       "    .dataframe tbody tr th {\n",
       "        vertical-align: top;\n",
       "    }\n",
       "\n",
       "    .dataframe thead th {\n",
       "        text-align: right;\n",
       "    }\n",
       "</style>\n",
       "<table border=\"1\" class=\"dataframe\">\n",
       "  <thead>\n",
       "    <tr style=\"text-align: right;\">\n",
       "      <th></th>\n",
       "      <th>date</th>\n",
       "      <th>primary_cleaner.input.sulfate</th>\n",
       "      <th>primary_cleaner.input.depressant</th>\n",
       "      <th>primary_cleaner.input.feed_size</th>\n",
       "      <th>primary_cleaner.input.xanthate</th>\n",
       "      <th>primary_cleaner.state.floatbank8_a_air</th>\n",
       "      <th>primary_cleaner.state.floatbank8_a_level</th>\n",
       "      <th>primary_cleaner.state.floatbank8_b_air</th>\n",
       "      <th>primary_cleaner.state.floatbank8_b_level</th>\n",
       "      <th>primary_cleaner.state.floatbank8_c_air</th>\n",
       "      <th>...</th>\n",
       "      <th>secondary_cleaner.state.floatbank4_a_air</th>\n",
       "      <th>secondary_cleaner.state.floatbank4_a_level</th>\n",
       "      <th>secondary_cleaner.state.floatbank4_b_air</th>\n",
       "      <th>secondary_cleaner.state.floatbank4_b_level</th>\n",
       "      <th>secondary_cleaner.state.floatbank5_a_air</th>\n",
       "      <th>secondary_cleaner.state.floatbank5_a_level</th>\n",
       "      <th>secondary_cleaner.state.floatbank5_b_air</th>\n",
       "      <th>secondary_cleaner.state.floatbank5_b_level</th>\n",
       "      <th>secondary_cleaner.state.floatbank6_a_air</th>\n",
       "      <th>secondary_cleaner.state.floatbank6_a_level</th>\n",
       "    </tr>\n",
       "  </thead>\n",
       "  <tbody>\n",
       "    <tr>\n",
       "      <th>0</th>\n",
       "      <td>2016-09-01 00:59:59</td>\n",
       "      <td>210.800909</td>\n",
       "      <td>14.993118</td>\n",
       "      <td>8.080000</td>\n",
       "      <td>1.005021</td>\n",
       "      <td>1398.981301</td>\n",
       "      <td>-500.225577</td>\n",
       "      <td>1399.144926</td>\n",
       "      <td>-499.919735</td>\n",
       "      <td>1400.102998</td>\n",
       "      <td>...</td>\n",
       "      <td>12.023554</td>\n",
       "      <td>-497.795834</td>\n",
       "      <td>8.016656</td>\n",
       "      <td>-501.289139</td>\n",
       "      <td>7.946562</td>\n",
       "      <td>-432.317850</td>\n",
       "      <td>4.872511</td>\n",
       "      <td>-500.037437</td>\n",
       "      <td>26.705889</td>\n",
       "      <td>-499.709414</td>\n",
       "    </tr>\n",
       "    <tr>\n",
       "      <th>1</th>\n",
       "      <td>2016-09-01 01:59:59</td>\n",
       "      <td>215.392455</td>\n",
       "      <td>14.987471</td>\n",
       "      <td>8.080000</td>\n",
       "      <td>0.990469</td>\n",
       "      <td>1398.777912</td>\n",
       "      <td>-500.057435</td>\n",
       "      <td>1398.055362</td>\n",
       "      <td>-499.778182</td>\n",
       "      <td>1396.151033</td>\n",
       "      <td>...</td>\n",
       "      <td>12.058140</td>\n",
       "      <td>-498.695773</td>\n",
       "      <td>8.130979</td>\n",
       "      <td>-499.634209</td>\n",
       "      <td>7.958270</td>\n",
       "      <td>-525.839648</td>\n",
       "      <td>4.878850</td>\n",
       "      <td>-500.162375</td>\n",
       "      <td>25.019940</td>\n",
       "      <td>-499.819438</td>\n",
       "    </tr>\n",
       "    <tr>\n",
       "      <th>2</th>\n",
       "      <td>2016-09-01 02:59:59</td>\n",
       "      <td>215.259946</td>\n",
       "      <td>12.884934</td>\n",
       "      <td>7.786667</td>\n",
       "      <td>0.996043</td>\n",
       "      <td>1398.493666</td>\n",
       "      <td>-500.868360</td>\n",
       "      <td>1398.860436</td>\n",
       "      <td>-499.764529</td>\n",
       "      <td>1398.075709</td>\n",
       "      <td>...</td>\n",
       "      <td>11.962366</td>\n",
       "      <td>-498.767484</td>\n",
       "      <td>8.096893</td>\n",
       "      <td>-500.827423</td>\n",
       "      <td>8.071056</td>\n",
       "      <td>-500.801673</td>\n",
       "      <td>4.905125</td>\n",
       "      <td>-499.828510</td>\n",
       "      <td>24.994862</td>\n",
       "      <td>-500.622559</td>\n",
       "    </tr>\n",
       "    <tr>\n",
       "      <th>3</th>\n",
       "      <td>2016-09-01 03:59:59</td>\n",
       "      <td>215.336236</td>\n",
       "      <td>12.006805</td>\n",
       "      <td>7.640000</td>\n",
       "      <td>0.863514</td>\n",
       "      <td>1399.618111</td>\n",
       "      <td>-498.863574</td>\n",
       "      <td>1397.440120</td>\n",
       "      <td>-499.211024</td>\n",
       "      <td>1400.129303</td>\n",
       "      <td>...</td>\n",
       "      <td>12.033091</td>\n",
       "      <td>-498.350935</td>\n",
       "      <td>8.074946</td>\n",
       "      <td>-499.474407</td>\n",
       "      <td>7.897085</td>\n",
       "      <td>-500.868509</td>\n",
       "      <td>4.931400</td>\n",
       "      <td>-499.963623</td>\n",
       "      <td>24.948919</td>\n",
       "      <td>-498.709987</td>\n",
       "    </tr>\n",
       "    <tr>\n",
       "      <th>4</th>\n",
       "      <td>2016-09-01 04:59:59</td>\n",
       "      <td>199.099327</td>\n",
       "      <td>10.682530</td>\n",
       "      <td>7.530000</td>\n",
       "      <td>0.805575</td>\n",
       "      <td>1401.268123</td>\n",
       "      <td>-500.808305</td>\n",
       "      <td>1398.128818</td>\n",
       "      <td>-499.504543</td>\n",
       "      <td>1402.172226</td>\n",
       "      <td>...</td>\n",
       "      <td>12.025367</td>\n",
       "      <td>-500.786497</td>\n",
       "      <td>8.054678</td>\n",
       "      <td>-500.397500</td>\n",
       "      <td>8.107890</td>\n",
       "      <td>-509.526725</td>\n",
       "      <td>4.957674</td>\n",
       "      <td>-500.360026</td>\n",
       "      <td>25.003331</td>\n",
       "      <td>-500.856333</td>\n",
       "    </tr>\n",
       "  </tbody>\n",
       "</table>\n",
       "<p>5 rows × 53 columns</p>\n",
       "</div>"
      ],
      "text/plain": [
       "                 date  primary_cleaner.input.sulfate  \\\n",
       "0 2016-09-01 00:59:59                     210.800909   \n",
       "1 2016-09-01 01:59:59                     215.392455   \n",
       "2 2016-09-01 02:59:59                     215.259946   \n",
       "3 2016-09-01 03:59:59                     215.336236   \n",
       "4 2016-09-01 04:59:59                     199.099327   \n",
       "\n",
       "   primary_cleaner.input.depressant  primary_cleaner.input.feed_size  \\\n",
       "0                         14.993118                         8.080000   \n",
       "1                         14.987471                         8.080000   \n",
       "2                         12.884934                         7.786667   \n",
       "3                         12.006805                         7.640000   \n",
       "4                         10.682530                         7.530000   \n",
       "\n",
       "   primary_cleaner.input.xanthate  primary_cleaner.state.floatbank8_a_air  \\\n",
       "0                        1.005021                             1398.981301   \n",
       "1                        0.990469                             1398.777912   \n",
       "2                        0.996043                             1398.493666   \n",
       "3                        0.863514                             1399.618111   \n",
       "4                        0.805575                             1401.268123   \n",
       "\n",
       "   primary_cleaner.state.floatbank8_a_level  \\\n",
       "0                               -500.225577   \n",
       "1                               -500.057435   \n",
       "2                               -500.868360   \n",
       "3                               -498.863574   \n",
       "4                               -500.808305   \n",
       "\n",
       "   primary_cleaner.state.floatbank8_b_air  \\\n",
       "0                             1399.144926   \n",
       "1                             1398.055362   \n",
       "2                             1398.860436   \n",
       "3                             1397.440120   \n",
       "4                             1398.128818   \n",
       "\n",
       "   primary_cleaner.state.floatbank8_b_level  \\\n",
       "0                               -499.919735   \n",
       "1                               -499.778182   \n",
       "2                               -499.764529   \n",
       "3                               -499.211024   \n",
       "4                               -499.504543   \n",
       "\n",
       "   primary_cleaner.state.floatbank8_c_air  ...  \\\n",
       "0                             1400.102998  ...   \n",
       "1                             1396.151033  ...   \n",
       "2                             1398.075709  ...   \n",
       "3                             1400.129303  ...   \n",
       "4                             1402.172226  ...   \n",
       "\n",
       "   secondary_cleaner.state.floatbank4_a_air  \\\n",
       "0                                 12.023554   \n",
       "1                                 12.058140   \n",
       "2                                 11.962366   \n",
       "3                                 12.033091   \n",
       "4                                 12.025367   \n",
       "\n",
       "   secondary_cleaner.state.floatbank4_a_level  \\\n",
       "0                                 -497.795834   \n",
       "1                                 -498.695773   \n",
       "2                                 -498.767484   \n",
       "3                                 -498.350935   \n",
       "4                                 -500.786497   \n",
       "\n",
       "   secondary_cleaner.state.floatbank4_b_air  \\\n",
       "0                                  8.016656   \n",
       "1                                  8.130979   \n",
       "2                                  8.096893   \n",
       "3                                  8.074946   \n",
       "4                                  8.054678   \n",
       "\n",
       "   secondary_cleaner.state.floatbank4_b_level  \\\n",
       "0                                 -501.289139   \n",
       "1                                 -499.634209   \n",
       "2                                 -500.827423   \n",
       "3                                 -499.474407   \n",
       "4                                 -500.397500   \n",
       "\n",
       "   secondary_cleaner.state.floatbank5_a_air  \\\n",
       "0                                  7.946562   \n",
       "1                                  7.958270   \n",
       "2                                  8.071056   \n",
       "3                                  7.897085   \n",
       "4                                  8.107890   \n",
       "\n",
       "   secondary_cleaner.state.floatbank5_a_level  \\\n",
       "0                                 -432.317850   \n",
       "1                                 -525.839648   \n",
       "2                                 -500.801673   \n",
       "3                                 -500.868509   \n",
       "4                                 -509.526725   \n",
       "\n",
       "   secondary_cleaner.state.floatbank5_b_air  \\\n",
       "0                                  4.872511   \n",
       "1                                  4.878850   \n",
       "2                                  4.905125   \n",
       "3                                  4.931400   \n",
       "4                                  4.957674   \n",
       "\n",
       "   secondary_cleaner.state.floatbank5_b_level  \\\n",
       "0                                 -500.037437   \n",
       "1                                 -500.162375   \n",
       "2                                 -499.828510   \n",
       "3                                 -499.963623   \n",
       "4                                 -500.360026   \n",
       "\n",
       "   secondary_cleaner.state.floatbank6_a_air  \\\n",
       "0                                 26.705889   \n",
       "1                                 25.019940   \n",
       "2                                 24.994862   \n",
       "3                                 24.948919   \n",
       "4                                 25.003331   \n",
       "\n",
       "   secondary_cleaner.state.floatbank6_a_level  \n",
       "0                                 -499.709414  \n",
       "1                                 -499.819438  \n",
       "2                                 -500.622559  \n",
       "3                                 -498.709987  \n",
       "4                                 -500.856333  \n",
       "\n",
       "[5 rows x 53 columns]"
      ]
     },
     "metadata": {},
     "output_type": "display_data"
    }
   ],
   "source": [
    "# Display the test set information\n",
    "df_test.info()\n",
    "display(df_test.head())"
   ]
  },
  {
   "cell_type": "code",
   "execution_count": 8,
   "metadata": {},
   "outputs": [
    {
     "name": "stdout",
     "output_type": "stream",
     "text": [
      "['final.output.concentrate_ag', 'final.output.concentrate_au', 'final.output.concentrate_pb', 'final.output.concentrate_sol', 'final.output.recovery', 'final.output.tail_ag', 'final.output.tail_au', 'final.output.tail_pb', 'final.output.tail_sol', 'primary_cleaner.output.concentrate_ag', 'primary_cleaner.output.concentrate_au', 'primary_cleaner.output.concentrate_pb', 'primary_cleaner.output.concentrate_sol', 'primary_cleaner.output.tail_ag', 'primary_cleaner.output.tail_au', 'primary_cleaner.output.tail_pb', 'primary_cleaner.output.tail_sol', 'rougher.calculation.au_pb_ratio', 'rougher.calculation.floatbank10_sulfate_to_au_feed', 'rougher.calculation.floatbank11_sulfate_to_au_feed', 'rougher.calculation.sulfate_to_au_concentrate', 'rougher.output.concentrate_ag', 'rougher.output.concentrate_au', 'rougher.output.concentrate_pb', 'rougher.output.concentrate_sol', 'rougher.output.recovery', 'rougher.output.tail_ag', 'rougher.output.tail_au', 'rougher.output.tail_pb', 'rougher.output.tail_sol', 'secondary_cleaner.output.tail_ag', 'secondary_cleaner.output.tail_au', 'secondary_cleaner.output.tail_pb', 'secondary_cleaner.output.tail_sol']\n"
     ]
    }
   ],
   "source": [
    "# Difference in columns between train and test set\n",
    "cols_difference = df_train.columns.difference(df_test.columns).tolist()\n",
    "print(cols_difference)"
   ]
  },
  {
   "attachments": {},
   "cell_type": "markdown",
   "metadata": {},
   "source": [
    "The features that are not included in the test set are all 'output' and 'calculation' types. These are likely parameters that are calculated from the measured data, and should be removed prior to training models."
   ]
  },
  {
   "cell_type": "markdown",
   "metadata": {},
   "source": [
    "<b>Task 1.4:</b> \n",
    "\n",
    "Perform data preprocessing."
   ]
  },
  {
   "cell_type": "code",
   "execution_count": 9,
   "metadata": {},
   "outputs": [
    {
     "name": "stdout",
     "output_type": "stream",
     "text": [
      "<class 'pandas.core.frame.DataFrame'>\n",
      "RangeIndex: 16860 entries, 0 to 16859\n",
      "Data columns (total 87 columns):\n",
      " #   Column                                              Non-Null Count  Dtype         \n",
      "---  ------                                              --------------  -----         \n",
      " 0   date                                                16860 non-null  datetime64[ns]\n",
      " 1   final.output.concentrate_ag                         16788 non-null  float64       \n",
      " 2   final.output.concentrate_pb                         16788 non-null  float64       \n",
      " 3   final.output.concentrate_sol                        16490 non-null  float64       \n",
      " 4   final.output.concentrate_au                         16789 non-null  float64       \n",
      " 5   final.output.recovery                               15339 non-null  float64       \n",
      " 6   final.output.tail_ag                                16794 non-null  float64       \n",
      " 7   final.output.tail_pb                                16677 non-null  float64       \n",
      " 8   final.output.tail_sol                               16715 non-null  float64       \n",
      " 9   final.output.tail_au                                16794 non-null  float64       \n",
      " 10  primary_cleaner.input.sulfate                       15553 non-null  float64       \n",
      " 11  primary_cleaner.input.depressant                    15598 non-null  float64       \n",
      " 12  primary_cleaner.input.feed_size                     16860 non-null  float64       \n",
      " 13  primary_cleaner.input.xanthate                      15875 non-null  float64       \n",
      " 14  primary_cleaner.output.concentrate_ag               16778 non-null  float64       \n",
      " 15  primary_cleaner.output.concentrate_pb               16502 non-null  float64       \n",
      " 16  primary_cleaner.output.concentrate_sol              16224 non-null  float64       \n",
      " 17  primary_cleaner.output.concentrate_au               16778 non-null  float64       \n",
      " 18  primary_cleaner.output.tail_ag                      16777 non-null  float64       \n",
      " 19  primary_cleaner.output.tail_pb                      16761 non-null  float64       \n",
      " 20  primary_cleaner.output.tail_sol                     16579 non-null  float64       \n",
      " 21  primary_cleaner.output.tail_au                      16777 non-null  float64       \n",
      " 22  primary_cleaner.state.floatbank8_a_air              16820 non-null  float64       \n",
      " 23  primary_cleaner.state.floatbank8_a_level            16827 non-null  float64       \n",
      " 24  primary_cleaner.state.floatbank8_b_air              16820 non-null  float64       \n",
      " 25  primary_cleaner.state.floatbank8_b_level            16833 non-null  float64       \n",
      " 26  primary_cleaner.state.floatbank8_c_air              16822 non-null  float64       \n",
      " 27  primary_cleaner.state.floatbank8_c_level            16833 non-null  float64       \n",
      " 28  primary_cleaner.state.floatbank8_d_air              16821 non-null  float64       \n",
      " 29  primary_cleaner.state.floatbank8_d_level            16833 non-null  float64       \n",
      " 30  rougher.calculation.sulfate_to_au_concentrate       16833 non-null  float64       \n",
      " 31  rougher.calculation.floatbank10_sulfate_to_au_feed  16833 non-null  float64       \n",
      " 32  rougher.calculation.floatbank11_sulfate_to_au_feed  16833 non-null  float64       \n",
      " 33  rougher.calculation.au_pb_ratio                     15618 non-null  float64       \n",
      " 34  rougher.input.feed_ag                               16778 non-null  float64       \n",
      " 35  rougher.input.feed_pb                               16632 non-null  float64       \n",
      " 36  rougher.input.feed_rate                             16347 non-null  float64       \n",
      " 37  rougher.input.feed_size                             16443 non-null  float64       \n",
      " 38  rougher.input.feed_sol                              16568 non-null  float64       \n",
      " 39  rougher.input.feed_au                               16777 non-null  float64       \n",
      " 40  rougher.input.floatbank10_sulfate                   15816 non-null  float64       \n",
      " 41  rougher.input.floatbank10_xanthate                  16514 non-null  float64       \n",
      " 42  rougher.input.floatbank11_sulfate                   16237 non-null  float64       \n",
      " 43  rougher.input.floatbank11_xanthate                  14956 non-null  float64       \n",
      " 44  rougher.output.concentrate_ag                       16778 non-null  float64       \n",
      " 45  rougher.output.concentrate_pb                       16778 non-null  float64       \n",
      " 46  rougher.output.concentrate_sol                      16698 non-null  float64       \n",
      " 47  rougher.output.concentrate_au                       16778 non-null  float64       \n",
      " 48  rougher.output.recovery                             14287 non-null  float64       \n",
      " 49  rougher.output.tail_ag                              14610 non-null  float64       \n",
      " 50  rougher.output.tail_pb                              16778 non-null  float64       \n",
      " 51  rougher.output.tail_sol                             14611 non-null  float64       \n",
      " 52  rougher.output.tail_au                              14611 non-null  float64       \n",
      " 53  rougher.state.floatbank10_a_air                     16807 non-null  float64       \n",
      " 54  rougher.state.floatbank10_a_level                   16807 non-null  float64       \n",
      " 55  rougher.state.floatbank10_b_air                     16807 non-null  float64       \n",
      " 56  rougher.state.floatbank10_b_level                   16807 non-null  float64       \n",
      " 57  rougher.state.floatbank10_c_air                     16807 non-null  float64       \n",
      " 58  rougher.state.floatbank10_c_level                   16814 non-null  float64       \n",
      " 59  rougher.state.floatbank10_d_air                     16802 non-null  float64       \n",
      " 60  rougher.state.floatbank10_d_level                   16809 non-null  float64       \n",
      " 61  rougher.state.floatbank10_e_air                     16257 non-null  float64       \n",
      " 62  rougher.state.floatbank10_e_level                   16809 non-null  float64       \n",
      " 63  rougher.state.floatbank10_f_air                     16802 non-null  float64       \n",
      " 64  rougher.state.floatbank10_f_level                   16802 non-null  float64       \n",
      " 65  secondary_cleaner.output.tail_ag                    16776 non-null  float64       \n",
      " 66  secondary_cleaner.output.tail_pb                    16764 non-null  float64       \n",
      " 67  secondary_cleaner.output.tail_sol                   14874 non-null  float64       \n",
      " 68  secondary_cleaner.output.tail_au                    16778 non-null  float64       \n",
      " 69  secondary_cleaner.state.floatbank2_a_air            16497 non-null  float64       \n",
      " 70  secondary_cleaner.state.floatbank2_a_level          16751 non-null  float64       \n",
      " 71  secondary_cleaner.state.floatbank2_b_air            16705 non-null  float64       \n",
      " 72  secondary_cleaner.state.floatbank2_b_level          16748 non-null  float64       \n",
      " 73  secondary_cleaner.state.floatbank3_a_air            16763 non-null  float64       \n",
      " 74  secondary_cleaner.state.floatbank3_a_level          16747 non-null  float64       \n",
      " 75  secondary_cleaner.state.floatbank3_b_air            16752 non-null  float64       \n",
      " 76  secondary_cleaner.state.floatbank3_b_level          16750 non-null  float64       \n",
      " 77  secondary_cleaner.state.floatbank4_a_air            16731 non-null  float64       \n",
      " 78  secondary_cleaner.state.floatbank4_a_level          16747 non-null  float64       \n",
      " 79  secondary_cleaner.state.floatbank4_b_air            16768 non-null  float64       \n",
      " 80  secondary_cleaner.state.floatbank4_b_level          16767 non-null  float64       \n",
      " 81  secondary_cleaner.state.floatbank5_a_air            16775 non-null  float64       \n",
      " 82  secondary_cleaner.state.floatbank5_a_level          16775 non-null  float64       \n",
      " 83  secondary_cleaner.state.floatbank5_b_air            16775 non-null  float64       \n",
      " 84  secondary_cleaner.state.floatbank5_b_level          16776 non-null  float64       \n",
      " 85  secondary_cleaner.state.floatbank6_a_air            16757 non-null  float64       \n",
      " 86  secondary_cleaner.state.floatbank6_a_level          16775 non-null  float64       \n",
      "dtypes: datetime64[ns](1), float64(86)\n",
      "memory usage: 11.2 MB\n"
     ]
    }
   ],
   "source": [
    "# Investigate missing values on train set\n",
    "df_train.info()"
   ]
  },
  {
   "cell_type": "code",
   "execution_count": 10,
   "metadata": {},
   "outputs": [],
   "source": [
    "# Using forward fill to fill in missing feature values\n",
    "cols_to_avoid = ['final.output.recovery', 'rougher.output.recovery']\n",
    "for item in df_train:\n",
    "    if item not in cols_to_avoid:\n",
    "        df_train[item] = df_train[item].ffill(axis = 0)"
   ]
  },
  {
   "cell_type": "code",
   "execution_count": 11,
   "metadata": {},
   "outputs": [
    {
     "data": {
      "text/html": [
       "<div>\n",
       "<style scoped>\n",
       "    .dataframe tbody tr th:only-of-type {\n",
       "        vertical-align: middle;\n",
       "    }\n",
       "\n",
       "    .dataframe tbody tr th {\n",
       "        vertical-align: top;\n",
       "    }\n",
       "\n",
       "    .dataframe thead th {\n",
       "        text-align: right;\n",
       "    }\n",
       "</style>\n",
       "<table border=\"1\" class=\"dataframe\">\n",
       "  <thead>\n",
       "    <tr style=\"text-align: right;\">\n",
       "      <th></th>\n",
       "      <th>final.output.recovery</th>\n",
       "      <th>rougher.output.recovery</th>\n",
       "    </tr>\n",
       "  </thead>\n",
       "  <tbody>\n",
       "    <tr>\n",
       "      <th>mean</th>\n",
       "      <td>0.090214</td>\n",
       "      <td>0.15261</td>\n",
       "    </tr>\n",
       "    <tr>\n",
       "      <th>sum</th>\n",
       "      <td>1521.000000</td>\n",
       "      <td>2573.00000</td>\n",
       "    </tr>\n",
       "  </tbody>\n",
       "</table>\n",
       "</div>"
      ],
      "text/plain": [
       "      final.output.recovery  rougher.output.recovery\n",
       "mean               0.090214                  0.15261\n",
       "sum             1521.000000               2573.00000"
      ]
     },
     "execution_count": 11,
     "metadata": {},
     "output_type": "execute_result"
    }
   ],
   "source": [
    "# Look at the missing values for targets\n",
    "df_train[['final.output.recovery', 'rougher.output.recovery']].isna().agg(['mean', 'sum'])"
   ]
  },
  {
   "cell_type": "markdown",
   "metadata": {},
   "source": [
    "Even though the missing values for the targets represent a good amount of the data set, these rows will need to be removed. We need to know how well the predictions match the target values."
   ]
  },
  {
   "cell_type": "code",
   "execution_count": 12,
   "metadata": {},
   "outputs": [],
   "source": [
    "# Dropping rows with missing values for targets\n",
    "df_train.dropna(subset=['final.output.recovery', 'rougher.output.recovery'], inplace=True)"
   ]
  },
  {
   "cell_type": "code",
   "execution_count": 13,
   "metadata": {},
   "outputs": [],
   "source": [
    "# Storing the targets to be predicted\n",
    "df_train_target_rougher_recovery = df_train['rougher.output.recovery']\n",
    "df_train_target_final_recovery = df_train['final.output.recovery']"
   ]
  },
  {
   "cell_type": "code",
   "execution_count": 14,
   "metadata": {},
   "outputs": [],
   "source": [
    "# Dropping columns (difference from train and test set) \n",
    "df_train_features = df_train.drop(cols_difference, axis=1)\n",
    "df_train_features.drop('date', axis=1, inplace=True)"
   ]
  },
  {
   "cell_type": "code",
   "execution_count": 15,
   "metadata": {},
   "outputs": [
    {
     "name": "stdout",
     "output_type": "stream",
     "text": [
      "<class 'pandas.core.frame.DataFrame'>\n",
      "Int64Index: 14149 entries, 0 to 16859\n",
      "Data columns (total 52 columns):\n",
      " #   Column                                      Non-Null Count  Dtype  \n",
      "---  ------                                      --------------  -----  \n",
      " 0   primary_cleaner.input.sulfate               14149 non-null  float64\n",
      " 1   primary_cleaner.input.depressant            14149 non-null  float64\n",
      " 2   primary_cleaner.input.feed_size             14149 non-null  float64\n",
      " 3   primary_cleaner.input.xanthate              14149 non-null  float64\n",
      " 4   primary_cleaner.state.floatbank8_a_air      14149 non-null  float64\n",
      " 5   primary_cleaner.state.floatbank8_a_level    14149 non-null  float64\n",
      " 6   primary_cleaner.state.floatbank8_b_air      14149 non-null  float64\n",
      " 7   primary_cleaner.state.floatbank8_b_level    14149 non-null  float64\n",
      " 8   primary_cleaner.state.floatbank8_c_air      14149 non-null  float64\n",
      " 9   primary_cleaner.state.floatbank8_c_level    14149 non-null  float64\n",
      " 10  primary_cleaner.state.floatbank8_d_air      14149 non-null  float64\n",
      " 11  primary_cleaner.state.floatbank8_d_level    14149 non-null  float64\n",
      " 12  rougher.input.feed_ag                       14149 non-null  float64\n",
      " 13  rougher.input.feed_pb                       14149 non-null  float64\n",
      " 14  rougher.input.feed_rate                     14149 non-null  float64\n",
      " 15  rougher.input.feed_size                     14149 non-null  float64\n",
      " 16  rougher.input.feed_sol                      14149 non-null  float64\n",
      " 17  rougher.input.feed_au                       14149 non-null  float64\n",
      " 18  rougher.input.floatbank10_sulfate           14149 non-null  float64\n",
      " 19  rougher.input.floatbank10_xanthate          14149 non-null  float64\n",
      " 20  rougher.input.floatbank11_sulfate           14149 non-null  float64\n",
      " 21  rougher.input.floatbank11_xanthate          14149 non-null  float64\n",
      " 22  rougher.state.floatbank10_a_air             14149 non-null  float64\n",
      " 23  rougher.state.floatbank10_a_level           14149 non-null  float64\n",
      " 24  rougher.state.floatbank10_b_air             14149 non-null  float64\n",
      " 25  rougher.state.floatbank10_b_level           14149 non-null  float64\n",
      " 26  rougher.state.floatbank10_c_air             14149 non-null  float64\n",
      " 27  rougher.state.floatbank10_c_level           14149 non-null  float64\n",
      " 28  rougher.state.floatbank10_d_air             14149 non-null  float64\n",
      " 29  rougher.state.floatbank10_d_level           14149 non-null  float64\n",
      " 30  rougher.state.floatbank10_e_air             14149 non-null  float64\n",
      " 31  rougher.state.floatbank10_e_level           14149 non-null  float64\n",
      " 32  rougher.state.floatbank10_f_air             14149 non-null  float64\n",
      " 33  rougher.state.floatbank10_f_level           14149 non-null  float64\n",
      " 34  secondary_cleaner.state.floatbank2_a_air    14149 non-null  float64\n",
      " 35  secondary_cleaner.state.floatbank2_a_level  14149 non-null  float64\n",
      " 36  secondary_cleaner.state.floatbank2_b_air    14149 non-null  float64\n",
      " 37  secondary_cleaner.state.floatbank2_b_level  14149 non-null  float64\n",
      " 38  secondary_cleaner.state.floatbank3_a_air    14149 non-null  float64\n",
      " 39  secondary_cleaner.state.floatbank3_a_level  14149 non-null  float64\n",
      " 40  secondary_cleaner.state.floatbank3_b_air    14149 non-null  float64\n",
      " 41  secondary_cleaner.state.floatbank3_b_level  14149 non-null  float64\n",
      " 42  secondary_cleaner.state.floatbank4_a_air    14149 non-null  float64\n",
      " 43  secondary_cleaner.state.floatbank4_a_level  14149 non-null  float64\n",
      " 44  secondary_cleaner.state.floatbank4_b_air    14149 non-null  float64\n",
      " 45  secondary_cleaner.state.floatbank4_b_level  14149 non-null  float64\n",
      " 46  secondary_cleaner.state.floatbank5_a_air    14149 non-null  float64\n",
      " 47  secondary_cleaner.state.floatbank5_a_level  14149 non-null  float64\n",
      " 48  secondary_cleaner.state.floatbank5_b_air    14149 non-null  float64\n",
      " 49  secondary_cleaner.state.floatbank5_b_level  14149 non-null  float64\n",
      " 50  secondary_cleaner.state.floatbank6_a_air    14149 non-null  float64\n",
      " 51  secondary_cleaner.state.floatbank6_a_level  14149 non-null  float64\n",
      "dtypes: float64(52)\n",
      "memory usage: 5.7 MB\n"
     ]
    }
   ],
   "source": [
    "# Check to confirm changes\n",
    "df_train_features.info()"
   ]
  },
  {
   "cell_type": "code",
   "execution_count": 16,
   "metadata": {},
   "outputs": [],
   "source": [
    "# Prep the test set\n",
    "# Grab the target parameters from the full csv file and merge\n",
    "# Split into features and target\n",
    "\n",
    "# merging dataframe from full csv file to merge into the test set\n",
    "merging_df = df_full.loc[:, ['date', 'final.output.recovery', 'rougher.output.recovery']]\n",
    "\n",
    "# Merge left into test data set\n",
    "test_merged = df_test.merge(merging_df, on='date', how='left')"
   ]
  },
  {
   "cell_type": "code",
   "execution_count": 17,
   "metadata": {},
   "outputs": [
    {
     "data": {
      "text/html": [
       "<div>\n",
       "<style scoped>\n",
       "    .dataframe tbody tr th:only-of-type {\n",
       "        vertical-align: middle;\n",
       "    }\n",
       "\n",
       "    .dataframe tbody tr th {\n",
       "        vertical-align: top;\n",
       "    }\n",
       "\n",
       "    .dataframe thead th {\n",
       "        text-align: right;\n",
       "    }\n",
       "</style>\n",
       "<table border=\"1\" class=\"dataframe\">\n",
       "  <thead>\n",
       "    <tr style=\"text-align: right;\">\n",
       "      <th></th>\n",
       "      <th>rougher.output.recovery</th>\n",
       "      <th>final.output.recovery</th>\n",
       "    </tr>\n",
       "  </thead>\n",
       "  <tbody>\n",
       "    <tr>\n",
       "      <th>mean</th>\n",
       "      <td>0.093238</td>\n",
       "      <td>0.075478</td>\n",
       "    </tr>\n",
       "    <tr>\n",
       "      <th>sum</th>\n",
       "      <td>546.000000</td>\n",
       "      <td>442.000000</td>\n",
       "    </tr>\n",
       "  </tbody>\n",
       "</table>\n",
       "</div>"
      ],
      "text/plain": [
       "      rougher.output.recovery  final.output.recovery\n",
       "mean                 0.093238               0.075478\n",
       "sum                546.000000             442.000000"
      ]
     },
     "execution_count": 17,
     "metadata": {},
     "output_type": "execute_result"
    }
   ],
   "source": [
    "# Check missing target values\n",
    "test_merged[['rougher.output.recovery', 'final.output.recovery']].isna().agg(['mean', 'sum'])"
   ]
  },
  {
   "cell_type": "code",
   "execution_count": 18,
   "metadata": {},
   "outputs": [],
   "source": [
    "# forward fill on test set for missing data\n",
    "for item in test_merged:\n",
    "    if item not in cols_to_avoid:\n",
    "        test_merged[item] = test_merged[item].ffill(axis = 0)"
   ]
  },
  {
   "cell_type": "code",
   "execution_count": 19,
   "metadata": {},
   "outputs": [],
   "source": [
    "# Remove missing target rows\n",
    "test_merged.dropna(subset=['rougher.output.recovery', 'final.output.recovery'], inplace=True)"
   ]
  },
  {
   "cell_type": "code",
   "execution_count": 20,
   "metadata": {},
   "outputs": [],
   "source": [
    "# Store target values\n",
    "df_test_target_final_recovery = test_merged['final.output.recovery']\n",
    "df_test_target_rougher_recovery = test_merged['rougher.output.recovery']"
   ]
  },
  {
   "cell_type": "code",
   "execution_count": 21,
   "metadata": {},
   "outputs": [
    {
     "name": "stdout",
     "output_type": "stream",
     "text": [
      "<class 'pandas.core.frame.DataFrame'>\n",
      "Int64Index: 5290 entries, 0 to 5855\n",
      "Data columns (total 52 columns):\n",
      " #   Column                                      Non-Null Count  Dtype  \n",
      "---  ------                                      --------------  -----  \n",
      " 0   primary_cleaner.input.sulfate               5290 non-null   float64\n",
      " 1   primary_cleaner.input.depressant            5290 non-null   float64\n",
      " 2   primary_cleaner.input.feed_size             5290 non-null   float64\n",
      " 3   primary_cleaner.input.xanthate              5290 non-null   float64\n",
      " 4   primary_cleaner.state.floatbank8_a_air      5290 non-null   float64\n",
      " 5   primary_cleaner.state.floatbank8_a_level    5290 non-null   float64\n",
      " 6   primary_cleaner.state.floatbank8_b_air      5290 non-null   float64\n",
      " 7   primary_cleaner.state.floatbank8_b_level    5290 non-null   float64\n",
      " 8   primary_cleaner.state.floatbank8_c_air      5290 non-null   float64\n",
      " 9   primary_cleaner.state.floatbank8_c_level    5290 non-null   float64\n",
      " 10  primary_cleaner.state.floatbank8_d_air      5290 non-null   float64\n",
      " 11  primary_cleaner.state.floatbank8_d_level    5290 non-null   float64\n",
      " 12  rougher.input.feed_ag                       5290 non-null   float64\n",
      " 13  rougher.input.feed_pb                       5290 non-null   float64\n",
      " 14  rougher.input.feed_rate                     5290 non-null   float64\n",
      " 15  rougher.input.feed_size                     5290 non-null   float64\n",
      " 16  rougher.input.feed_sol                      5290 non-null   float64\n",
      " 17  rougher.input.feed_au                       5290 non-null   float64\n",
      " 18  rougher.input.floatbank10_sulfate           5290 non-null   float64\n",
      " 19  rougher.input.floatbank10_xanthate          5290 non-null   float64\n",
      " 20  rougher.input.floatbank11_sulfate           5290 non-null   float64\n",
      " 21  rougher.input.floatbank11_xanthate          5290 non-null   float64\n",
      " 22  rougher.state.floatbank10_a_air             5290 non-null   float64\n",
      " 23  rougher.state.floatbank10_a_level           5290 non-null   float64\n",
      " 24  rougher.state.floatbank10_b_air             5290 non-null   float64\n",
      " 25  rougher.state.floatbank10_b_level           5290 non-null   float64\n",
      " 26  rougher.state.floatbank10_c_air             5290 non-null   float64\n",
      " 27  rougher.state.floatbank10_c_level           5290 non-null   float64\n",
      " 28  rougher.state.floatbank10_d_air             5290 non-null   float64\n",
      " 29  rougher.state.floatbank10_d_level           5290 non-null   float64\n",
      " 30  rougher.state.floatbank10_e_air             5290 non-null   float64\n",
      " 31  rougher.state.floatbank10_e_level           5290 non-null   float64\n",
      " 32  rougher.state.floatbank10_f_air             5290 non-null   float64\n",
      " 33  rougher.state.floatbank10_f_level           5290 non-null   float64\n",
      " 34  secondary_cleaner.state.floatbank2_a_air    5290 non-null   float64\n",
      " 35  secondary_cleaner.state.floatbank2_a_level  5290 non-null   float64\n",
      " 36  secondary_cleaner.state.floatbank2_b_air    5290 non-null   float64\n",
      " 37  secondary_cleaner.state.floatbank2_b_level  5290 non-null   float64\n",
      " 38  secondary_cleaner.state.floatbank3_a_air    5290 non-null   float64\n",
      " 39  secondary_cleaner.state.floatbank3_a_level  5290 non-null   float64\n",
      " 40  secondary_cleaner.state.floatbank3_b_air    5290 non-null   float64\n",
      " 41  secondary_cleaner.state.floatbank3_b_level  5290 non-null   float64\n",
      " 42  secondary_cleaner.state.floatbank4_a_air    5290 non-null   float64\n",
      " 43  secondary_cleaner.state.floatbank4_a_level  5290 non-null   float64\n",
      " 44  secondary_cleaner.state.floatbank4_b_air    5290 non-null   float64\n",
      " 45  secondary_cleaner.state.floatbank4_b_level  5290 non-null   float64\n",
      " 46  secondary_cleaner.state.floatbank5_a_air    5290 non-null   float64\n",
      " 47  secondary_cleaner.state.floatbank5_a_level  5290 non-null   float64\n",
      " 48  secondary_cleaner.state.floatbank5_b_air    5290 non-null   float64\n",
      " 49  secondary_cleaner.state.floatbank5_b_level  5290 non-null   float64\n",
      " 50  secondary_cleaner.state.floatbank6_a_air    5290 non-null   float64\n",
      " 51  secondary_cleaner.state.floatbank6_a_level  5290 non-null   float64\n",
      "dtypes: float64(52)\n",
      "memory usage: 2.1 MB\n"
     ]
    }
   ],
   "source": [
    "# Strip features\n",
    "df_test_features = test_merged.drop(['date', 'final.output.recovery', 'rougher.output.recovery'], axis=1)\n",
    "df_test_features.info()"
   ]
  },
  {
   "cell_type": "markdown",
   "metadata": {},
   "source": [
    "## Data analysis"
   ]
  },
  {
   "cell_type": "markdown",
   "metadata": {},
   "source": [
    "<b>Task 2.1</b>\n",
    "\n",
    "Take note of how the concentrations of metals (Au, Ag, Pb) change depending on the purification stage."
   ]
  },
  {
   "cell_type": "code",
   "execution_count": null,
   "metadata": {},
   "outputs": [],
   "source": [
    "# concentration of metals:\n",
    "# rougher.input.feed_XX\n",
    "# rougher.output.concentrate_XX\n",
    "# rougher.output.concentrate_XX\n",
    "# rougher.output.concentration_XX"
   ]
  },
  {
   "cell_type": "code",
   "execution_count": 22,
   "metadata": {},
   "outputs": [
    {
     "data": {
      "image/png": "[encoded data removed]",
      "text/plain": [
       "<Figure size 432x288 with 1 Axes>"
      ]
     },
     "metadata": {
      "needs_background": "light"
     },
     "output_type": "display_data"
    }
   ],
   "source": [
    "# Boxplots to show concentration of metals\n",
    "fig, ax = plt.subplots()\n",
    "ag_rougher_input = df_full['rougher.input.feed_ag'].dropna()\n",
    "ag_rougher_conc = df_full['rougher.output.concentrate_ag'].dropna()\n",
    "ag_prim_cleaner_conc = df_full['primary_cleaner.output.concentrate_ag'].dropna()\n",
    "ag_final_conc = df_full['final.output.concentrate_ag'].dropna()\n",
    "ax.boxplot([ag_rougher_input, ag_rougher_conc, ag_prim_cleaner_conc, ag_final_conc])\n",
    "plt.xticks([1, 2, 3, 4], ['Rougher Input', 'Rougher Output', 'Primary Cleaner', 'Final'])\n",
    "plt.title('Ag Concentration')\n",
    "plt.ylabel('Concentration')\n",
    "plt.show()"
   ]
  },
  {
   "cell_type": "code",
   "execution_count": 23,
   "metadata": {},
   "outputs": [
    {
     "data": {
      "image/png": "[encoded data removed]",
      "text/plain": [
       "<Figure size 432x288 with 1 Axes>"
      ]
     },
     "metadata": {
      "needs_background": "light"
     },
     "output_type": "display_data"
    }
   ],
   "source": [
    "# Boxplots to show concentration of metals\n",
    "fig, ax = plt.subplots()\n",
    "pb_rougher_input = df_full['rougher.input.feed_pb'].dropna()\n",
    "pb_rougher_conc = df_full['rougher.output.concentrate_pb'].dropna()\n",
    "pb_prim_cleaner_conc = df_full['primary_cleaner.output.concentrate_pb'].dropna()\n",
    "pb_final_conc = df_full['final.output.concentrate_pb'].dropna()\n",
    "ax.boxplot([pb_rougher_input, pb_rougher_conc, pb_prim_cleaner_conc, pb_final_conc])\n",
    "plt.xticks([1, 2, 3, 4], ['Rougher Input', 'Rougher Output', 'Primary Cleaner', 'Final'])\n",
    "plt.title('Pb Concentration')\n",
    "plt.ylabel('Concentration')\n",
    "plt.show()"
   ]
  },
  {
   "cell_type": "code",
   "execution_count": 24,
   "metadata": {},
   "outputs": [
    {
     "data": {
      "image/png": "[encoded data removed]",
      "text/plain": [
       "<Figure size 432x288 with 1 Axes>"
      ]
     },
     "metadata": {
      "needs_background": "light"
     },
     "output_type": "display_data"
    }
   ],
   "source": [
    "# Boxplots to show concentration of metals\n",
    "fig, ax = plt.subplots()\n",
    "au_rougher_input = df_full['rougher.input.feed_au'].dropna()\n",
    "au_rougher_conc = df_full['rougher.output.concentrate_au'].dropna()\n",
    "au_prim_cleaner_conc = df_full['primary_cleaner.output.concentrate_au'].dropna()\n",
    "au_final_conc = df_full['final.output.concentrate_au'].dropna()\n",
    "ax.boxplot([au_rougher_input, au_rougher_conc, au_prim_cleaner_conc, au_final_conc])\n",
    "plt.xticks([1, 2, 3, 4], ['Rougher Input', 'Rougher Output', 'Primary Cleaner', 'Final'])\n",
    "plt.title('Au Concentration')\n",
    "plt.ylabel('Concentration')\n",
    "plt.show()"
   ]
  },
  {
   "attachments": {},
   "cell_type": "markdown",
   "metadata": {},
   "source": [
    "Silver (Ag) concentration is reduced throughout each step of the the purification process. Lead (Pb) concentration appears to be increasing throughout the process. And gold (Au) concentration increases during each step of the purification process."
   ]
  },
  {
   "cell_type": "markdown",
   "metadata": {},
   "source": [
    "<b>Task 2.2:</b>\n",
    "\n",
    "Compare the feed particle size distributions in the training set and in the test set. If the distributions vary significantly, the model evaluation will be incorrect."
   ]
  },
  {
   "cell_type": "code",
   "execution_count": 25,
   "metadata": {},
   "outputs": [
    {
     "data": {
      "text/plain": [
       "count    14149.000000\n",
       "mean        61.247144\n",
       "std         26.840517\n",
       "min          9.659576\n",
       "25%         48.966751\n",
       "50%         55.424967\n",
       "75%         66.341673\n",
       "max        484.967466\n",
       "Name: rougher.input.feed_size, dtype: float64"
      ]
     },
     "execution_count": 25,
     "metadata": {},
     "output_type": "execute_result"
    }
   ],
   "source": [
    "# rougher.input.feed_size\n",
    "\n",
    "# Train set description on input feed particle size\n",
    "df_train['rougher.input.feed_size'].describe()"
   ]
  },
  {
   "cell_type": "code",
   "execution_count": 26,
   "metadata": {},
   "outputs": [
    {
     "data": {
      "text/plain": [
       "count    5834.000000\n",
       "mean       55.937535\n",
       "std        22.724254\n",
       "min         0.046369\n",
       "25%        43.890852\n",
       "50%        50.002004\n",
       "75%        61.638434\n",
       "max       477.445473\n",
       "Name: rougher.input.feed_size, dtype: float64"
      ]
     },
     "execution_count": 26,
     "metadata": {},
     "output_type": "execute_result"
    }
   ],
   "source": [
    "# Test set description on input feed particle size\n",
    "df_test['rougher.input.feed_size'].describe()"
   ]
  },
  {
   "cell_type": "code",
   "execution_count": 27,
   "metadata": {},
   "outputs": [
    {
     "data": {
      "image/png": "[encoded data removed]",
      "text/plain": [
       "<Figure size 720x432 with 1 Axes>"
      ]
     },
     "metadata": {
      "needs_background": "light"
     },
     "output_type": "display_data"
    }
   ],
   "source": [
    "# Comparing distributions of the train and test set by boxplot\n",
    "plt.figure(figsize=(10,6))\n",
    "plt.boxplot([df_train['rougher.input.feed_size'].dropna(), df_test['rougher.input.feed_size'].dropna()])\n",
    "plt.xticks([1, 2], ['Train', 'Test'])\n",
    "plt.ylim(0, 100)\n",
    "plt.ylabel('Feed size')\n",
    "plt.title('Distribution of feed particle size in training and test sets')\n",
    "plt.show()"
   ]
  },
  {
   "cell_type": "code",
   "execution_count": 28,
   "metadata": {},
   "outputs": [
    {
     "data": {
      "image/png": "[encoded data removed]",
      "text/plain": [
       "<Figure size 648x432 with 1 Axes>"
      ]
     },
     "metadata": {
      "needs_background": "light"
     },
     "output_type": "display_data"
    }
   ],
   "source": [
    "# Comparing between train and test by histogram\n",
    "df_train['rougher.input.feed_size'].plot(kind='hist', density=True, bins=60, alpha=0.6, figsize=(9,6))\n",
    "df_test['rougher.input.feed_size'].plot(kind='hist', density=True, bins=60, alpha=0.6)\n",
    "plt.xlim(0, 200)\n",
    "plt.legend(['Train', 'Test'])\n",
    "plt.title('Histogram between Train and Test set')\n",
    "plt.xlabel('Input particle feed size')\n",
    "plt.show()"
   ]
  },
  {
   "attachments": {},
   "cell_type": "markdown",
   "metadata": {},
   "source": [
    "Comparing the train and test set by boxplots or histogram, it seems that its possible that the distribution is similar enough to each other."
   ]
  },
  {
   "cell_type": "markdown",
   "metadata": {},
   "source": [
    "<b>Task 2.3:</b> \n",
    "\n",
    "Consider the total concentrations of all substances at different stages: raw feed, rougher concentrate, and final concentrate. Do you notice any abnormal values in the total distribution? If you do, is it worth removing such values from both samples? Describe the findings and eliminate anomalies."
   ]
  },
  {
   "cell_type": "code",
   "execution_count": 29,
   "metadata": {},
   "outputs": [
    {
     "data": {
      "image/png": "[encoded data removed]",
      "text/plain": [
       "<Figure size 1440x720 with 4 Axes>"
      ]
     },
     "metadata": {
      "needs_background": "light"
     },
     "output_type": "display_data"
    }
   ],
   "source": [
    "# rougher.input.feed_ag / pb / sol / au\n",
    "# rougher.output.concentrate_ag\n",
    "# primary_cleaner.output.concentrate_ag\n",
    "# final.output.concentrate_ag\n",
    "\n",
    "# Plot distributions of the different substances\n",
    "fig, ax = plt.subplots(2, 2, figsize=(20,10))\n",
    "ax[0, 0].boxplot([df_train['rougher.input.feed_ag'].dropna(), df_train['rougher.output.concentrate_ag'].dropna(), df_train['primary_cleaner.output.concentrate_ag'].dropna(), df_train['final.output.concentrate_ag'].dropna()])\n",
    "ax[0, 0].set_xticklabels(['rougher.input.feed_ag', 'rougher.output.concentrate_ag', 'primary_cleaner.out.concentrate_ag', 'final.output.concentrate_ag'], rotation=10)\n",
    "\n",
    "ax[0, 1].boxplot([df_train['rougher.input.feed_pb'].dropna(), df_train['rougher.output.concentrate_pb'].dropna(), df_train['primary_cleaner.output.concentrate_pb'].dropna(), df_train['final.output.concentrate_pb'].dropna()])\n",
    "ax[0, 1].set_xticklabels(['rougher.input.feed_pb', 'rougher.output.concentrate_pb', 'primary_cleaner.out.concentrate_pb', 'final.output.concentrate_pb'], rotation=10)\n",
    "\n",
    "ax[1, 0].boxplot([df_train['rougher.input.feed_sol'].dropna(), df_train['rougher.output.concentrate_sol'].dropna(), df_train['primary_cleaner.output.concentrate_sol'].dropna(), df_train['final.output.concentrate_sol'].dropna()])\n",
    "ax[1, 0].set_xticklabels(['rougher.input.feed_sol', 'rougher.output.concentrate_sol', 'primary_cleaner.out.concentrate_sol', 'final.output.concentrate_sol'], rotation=10)\n",
    "\n",
    "ax[1, 1].boxplot([df_train['rougher.input.feed_au'].dropna(), df_train['rougher.output.concentrate_au'].dropna(), df_train['primary_cleaner.output.concentrate_au'].dropna(), df_train['final.output.concentrate_au'].dropna()])\n",
    "ax[1, 1].set_xticklabels(['rougher.input.feed_au', 'rougher.output.concentrate_au', 'primary_cleaner.out.concentrate_au', 'final.output.concentrate_au'], rotation=10)\n",
    "plt.show()"
   ]
  },
  {
   "cell_type": "code",
   "execution_count": 30,
   "metadata": {},
   "outputs": [],
   "source": [
    "# Function for plotting each histogram distributions\n",
    "def plot_hist(element, title):\n",
    "    fig, ax = plt.subplots(2, 2, figsize=(15,8))\n",
    "    ax[0, 0].hist(df_train['rougher.input.feed_' + element], bins=100)\n",
    "    ax[0, 0].set_xlabel('rougher.input.feed')\n",
    "    ax[0, 0].set_ylabel('Frequency')\n",
    "\n",
    "    ax[0, 1].hist(df_train['rougher.output.concentrate_' + element], bins=100)\n",
    "    ax[0, 1].set_xlabel('rougher.output.concentrate')\n",
    "    ax[0, 1].set_ylabel('Frequency')\n",
    "\n",
    "    ax[1, 0].hist(df_train['primary_cleaner.output.concentrate_' + element], bins=100)\n",
    "    ax[1, 0].set_xlabel('primary_cleaner.output.concentrate')\n",
    "    ax[1, 0].set_ylabel('Frequency')\n",
    "\n",
    "    ax[1, 1].hist(df_train['final.output.concentrate_' + element], bins=100)\n",
    "    ax[1, 1].set_xlabel('final.output.concentrate')\n",
    "    ax[1, 1].set_ylabel('Frequency')\n",
    "    fig.suptitle(title)\n",
    "    plt.show()"
   ]
  },
  {
   "cell_type": "code",
   "execution_count": 31,
   "metadata": {},
   "outputs": [
    {
     "data": {
      "image/png": "[encoded data removed]",
      "text/plain": [
       "<Figure size 1080x576 with 4 Axes>"
      ]
     },
     "metadata": {
      "needs_background": "light"
     },
     "output_type": "display_data"
    }
   ],
   "source": [
    "# Plotting histograms for Ag\n",
    "plot_hist('ag', 'Ag plots distributions')"
   ]
  },
  {
   "cell_type": "code",
   "execution_count": 32,
   "metadata": {},
   "outputs": [
    {
     "data": {
      "image/png": "[encoded data removed]",
      "text/plain": [
       "<Figure size 1080x576 with 4 Axes>"
      ]
     },
     "metadata": {
      "needs_background": "light"
     },
     "output_type": "display_data"
    }
   ],
   "source": [
    "# Plotting histograms for Pb\n",
    "plot_hist('pb', 'Pb plots distributions')"
   ]
  },
  {
   "cell_type": "code",
   "execution_count": 33,
   "metadata": {},
   "outputs": [
    {
     "data": {
      "image/png": "[encoded data removed]",
      "text/plain": [
       "<Figure size 1080x576 with 4 Axes>"
      ]
     },
     "metadata": {
      "needs_background": "light"
     },
     "output_type": "display_data"
    }
   ],
   "source": [
    "# Plotting histograms for sol\n",
    "plot_hist('sol', 'Sol plots distributions')"
   ]
  },
  {
   "cell_type": "code",
   "execution_count": 34,
   "metadata": {},
   "outputs": [
    {
     "data": {
      "image/png": "[encoded data removed]",
      "text/plain": [
       "<Figure size 1080x576 with 4 Axes>"
      ]
     },
     "metadata": {
      "needs_background": "light"
     },
     "output_type": "display_data"
    }
   ],
   "source": [
    "# Plotting histograms for au\n",
    "plot_hist('au', 'Au plots distributions')"
   ]
  },
  {
   "attachments": {},
   "cell_type": "markdown",
   "metadata": {},
   "source": [
    "In the `output.concentrate` features, there are a considerable number of observations with a calculated output concentration of '0'. It is unknown how these values are calculated and possible that there are times where the input of the particular metal is '0' and can not yet be considered an anomaly."
   ]
  },
  {
   "cell_type": "code",
   "execution_count": 35,
   "metadata": {},
   "outputs": [
    {
     "data": {
      "image/png": "[encoded data removed]",
      "text/plain": [
       "<Figure size 1080x576 with 1 Axes>"
      ]
     },
     "metadata": {
      "needs_background": "light"
     },
     "output_type": "display_data"
    }
   ],
   "source": [
    "# Analyze the distribution of the inputs\n",
    "inputs = df_train.loc[:, df_train.columns.str.contains('input')]\n",
    "plt.figure(figsize=(15,8))\n",
    "for input in inputs:\n",
    "    plt.hist(df_train[input], bins=80, alpha=0.7)\n",
    "plt.xlabel('Inputs')\n",
    "plt.ylabel('Frequency')\n",
    "plt.title('Distribution of inputs')\n",
    "plt.show()"
   ]
  },
  {
   "cell_type": "markdown",
   "metadata": {},
   "source": [
    "`Input` parameters doesn't appear to have anomalies in the distributions."
   ]
  },
  {
   "cell_type": "markdown",
   "metadata": {},
   "source": [
    "## Build the model"
   ]
  },
  {
   "cell_type": "markdown",
   "metadata": {},
   "source": [
    "<b>Task 3.1:</b>\n",
    "\n",
    "Write a function to calculate the final sMAPE value."
   ]
  },
  {
   "cell_type": "code",
   "execution_count": 36,
   "metadata": {},
   "outputs": [],
   "source": [
    "# function to calculate smape\n",
    "def smape(target, prediction):\n",
    "    metric = (abs(target-prediction) / ((abs(target) + abs(prediction)) / 2)).sum() / len(target)\n",
    "    return metric * 100"
   ]
  },
  {
   "cell_type": "code",
   "execution_count": 37,
   "metadata": {},
   "outputs": [],
   "source": [
    "# function to calculate final smape\n",
    "def final_smape(smape_rougher, smape_final):\n",
    "    return (0.25 * smape_rougher) + (0.75 * smape_final)"
   ]
  },
  {
   "cell_type": "code",
   "execution_count": 38,
   "metadata": {},
   "outputs": [
    {
     "name": "stdout",
     "output_type": "stream",
     "text": [
      "<class 'pandas.core.frame.DataFrame'>\n",
      "Int64Index: 14149 entries, 0 to 16859\n",
      "Data columns (total 22 columns):\n",
      " #   Column                              Non-Null Count  Dtype  \n",
      "---  ------                              --------------  -----  \n",
      " 0   rougher.input.feed_ag               14149 non-null  float64\n",
      " 1   rougher.input.feed_pb               14149 non-null  float64\n",
      " 2   rougher.input.feed_rate             14149 non-null  float64\n",
      " 3   rougher.input.feed_size             14149 non-null  float64\n",
      " 4   rougher.input.feed_sol              14149 non-null  float64\n",
      " 5   rougher.input.feed_au               14149 non-null  float64\n",
      " 6   rougher.input.floatbank10_sulfate   14149 non-null  float64\n",
      " 7   rougher.input.floatbank10_xanthate  14149 non-null  float64\n",
      " 8   rougher.input.floatbank11_sulfate   14149 non-null  float64\n",
      " 9   rougher.input.floatbank11_xanthate  14149 non-null  float64\n",
      " 10  rougher.state.floatbank10_a_air     14149 non-null  float64\n",
      " 11  rougher.state.floatbank10_a_level   14149 non-null  float64\n",
      " 12  rougher.state.floatbank10_b_air     14149 non-null  float64\n",
      " 13  rougher.state.floatbank10_b_level   14149 non-null  float64\n",
      " 14  rougher.state.floatbank10_c_air     14149 non-null  float64\n",
      " 15  rougher.state.floatbank10_c_level   14149 non-null  float64\n",
      " 16  rougher.state.floatbank10_d_air     14149 non-null  float64\n",
      " 17  rougher.state.floatbank10_d_level   14149 non-null  float64\n",
      " 18  rougher.state.floatbank10_e_air     14149 non-null  float64\n",
      " 19  rougher.state.floatbank10_e_level   14149 non-null  float64\n",
      " 20  rougher.state.floatbank10_f_air     14149 non-null  float64\n",
      " 21  rougher.state.floatbank10_f_level   14149 non-null  float64\n",
      "dtypes: float64(22)\n",
      "memory usage: 2.5 MB\n"
     ]
    }
   ],
   "source": [
    "# start with predicting rougher.output.recovery\n",
    "# features: df_train_features\n",
    "# target: df_train_target_rougher_recovery\n",
    "\n",
    "# cols to drop for rougher recovery\n",
    "# need to get rid of all the purification states, secondary_cleaner and primary_cleaner because that comes after\n",
    "rougher_train_features = df_train_features\n",
    "rougher_train_features = rougher_train_features.loc[:, ~rougher_train_features.columns.str.startswith('primary')]\n",
    "rougher_train_features = rougher_train_features.loc[:, ~rougher_train_features.columns.str.startswith('secondary')]\n",
    "rougher_train_features.info()"
   ]
  },
  {
   "cell_type": "markdown",
   "metadata": {},
   "source": [
    "<b>Task 3.2:</b>\n",
    "\n",
    "Train different models. Evaluate them using cross-validation. Pick the best model and test it using the test sample. Provide findings."
   ]
  },
  {
   "cell_type": "code",
   "execution_count": 39,
   "metadata": {},
   "outputs": [],
   "source": [
    "# make smape function a scorer\n",
    "smape_score = make_scorer(smape, greater_is_better=False)"
   ]
  },
  {
   "cell_type": "code",
   "execution_count": 40,
   "metadata": {},
   "outputs": [
    {
     "name": "stdout",
     "output_type": "stream",
     "text": [
      "Mean sMAPE: -12.102469096399238 standard deviation: 3.2803621809122996\n"
     ]
    }
   ],
   "source": [
    "# Cross validation and tuning hyperparameters for decision tree model\n",
    "best_depth_dtr = 0\n",
    "best_smape_dtr = -100\n",
    "for depth in range(1,6):\n",
    "    model_dtr = DecisionTreeRegressor(random_state=12345, max_depth=depth)\n",
    "    scores_crossval_dtr = cross_val_score(model_dtr, rougher_train_features, df_train_target_rougher_recovery, scoring=smape_score, cv=5)\n",
    "    smape_mean = scores_crossval_dtr.mean()\n",
    "    if smape_mean > best_smape_dtr:\n",
    "        best_depth_dtr = depth\n",
    "        best_smape_dtr = smape_mean\n",
    "\n",
    "# best hyperparameters\n",
    "model_dtr = DecisionTreeRegressor(random_state=12345, max_depth=best_depth_dtr)\n",
    "scores_crossval_dtr = cross_val_score(model_dtr, rougher_train_features, df_train_target_rougher_recovery, scoring=smape_score, cv=5)\n",
    "print('Mean sMAPE:', scores_crossval_dtr.mean(), 'standard deviation:', scores_crossval_dtr.std())"
   ]
  },
  {
   "cell_type": "code",
   "execution_count": 41,
   "metadata": {},
   "outputs": [
    {
     "name": "stdout",
     "output_type": "stream",
     "text": [
      "Mean sMAPE: -12.551117594363209 standard deviation: 2.7145489199306265\n"
     ]
    }
   ],
   "source": [
    "# Cross validation to evaluate linear regression model\n",
    "model_lr = LinearRegression()\n",
    "scores_crossval_lr = cross_val_score(model_lr, rougher_train_features, df_train_target_rougher_recovery, scoring=smape_score, cv=5)\n",
    "print('Mean sMAPE:', scores_crossval_lr.mean(), 'standard deviation:', scores_crossval_lr.std())"
   ]
  },
  {
   "cell_type": "code",
   "execution_count": 42,
   "metadata": {},
   "outputs": [
    {
     "name": "stdout",
     "output_type": "stream",
     "text": [
      "70\n",
      "3\n",
      "-11.59449165388706\n"
     ]
    }
   ],
   "source": [
    "# Cross validation using random forest\n",
    "best_est_rf = 0\n",
    "best_smape_rf = -100\n",
    "best_depth_rf = 0\n",
    "for est in range(70, 81, 10): # previously optimized\n",
    "    for depth in range(3, 4): # previously optimized\n",
    "        model_rf = RandomForestRegressor(random_state=12345, n_estimators=est, max_depth=depth)\n",
    "        scores_crossval_rf = cross_val_score(model_rf, rougher_train_features, df_train_target_rougher_recovery, scoring=smape_score, cv=5)\n",
    "        smape_mean = scores_crossval_rf.mean()\n",
    "        if smape_mean > best_smape_rf:\n",
    "            best_est_rf = est\n",
    "            best_depth_rf = depth\n",
    "            best_smape_rf = smape_mean\n",
    "\n",
    "print(best_est_rf)\n",
    "print(best_depth_rf)\n",
    "print(best_smape_rf)"
   ]
  },
  {
   "cell_type": "code",
   "execution_count": 43,
   "metadata": {},
   "outputs": [
    {
     "name": "stdout",
     "output_type": "stream",
     "text": [
      "Mean sMAPE: -11.59449165388706 standard deviation: 2.7323530163334095\n"
     ]
    }
   ],
   "source": [
    "# Random forest with tuned hyperparameters\n",
    "model_rf = RandomForestRegressor(random_state=12345, n_estimators=70, max_depth=3)\n",
    "scores_crossval_rf = cross_val_score(model_rf, rougher_train_features, df_train_target_rougher_recovery, scoring=smape_score, cv=5)\n",
    "print('Mean sMAPE:', scores_crossval_rf.mean(), 'standard deviation:', scores_crossval_rf.std())"
   ]
  },
  {
   "attachments": {},
   "cell_type": "markdown",
   "metadata": {},
   "source": [
    "Three different models were evaluated, decision tree regressor, linear regression, and random forest. Overall best model is with random forest for the prediction of `rougher.output.recovery`.\n",
    "\n",
    "Let's see how well the prediction on `final.output.recovery` target."
   ]
  },
  {
   "cell_type": "code",
   "execution_count": 44,
   "metadata": {},
   "outputs": [],
   "source": [
    "# Prediction of final.output.recovery\n",
    "# features: df_train_features\n",
    "# target: df_train_target_final_recovery\n",
    "final_train_features = df_train_features"
   ]
  },
  {
   "cell_type": "code",
   "execution_count": 45,
   "metadata": {},
   "outputs": [
    {
     "name": "stdout",
     "output_type": "stream",
     "text": [
      "Mean sMAPE: -10.786682434334105 standard deviation: 0.9584000414866387\n"
     ]
    }
   ],
   "source": [
    "# Decision tree regressor\n",
    "scores_crossval_dtr = cross_val_score(model_dtr, final_train_features, df_train_target_final_recovery, scoring=smape_score, cv=5)\n",
    "print('Mean sMAPE:', scores_crossval_dtr.mean(), 'standard deviation:', scores_crossval_dtr.std())"
   ]
  },
  {
   "cell_type": "code",
   "execution_count": 46,
   "metadata": {},
   "outputs": [
    {
     "name": "stdout",
     "output_type": "stream",
     "text": [
      "Mean sMAPE: -12.303943672313304 standard deviation: 1.8258020757791753\n"
     ]
    }
   ],
   "source": [
    "# Linear regression\n",
    "scores_crossval_lr = cross_val_score(model_lr, final_train_features, df_train_target_final_recovery, scoring=smape_score, cv=5)\n",
    "print('Mean sMAPE:', scores_crossval_lr.mean(), 'standard deviation:', scores_crossval_lr.std())"
   ]
  },
  {
   "cell_type": "code",
   "execution_count": 47,
   "metadata": {},
   "outputs": [
    {
     "name": "stdout",
     "output_type": "stream",
     "text": [
      "Mean sMAPE: -10.317482698487757 standard deviation: 0.8410877740285967\n"
     ]
    }
   ],
   "source": [
    "# Random forest\n",
    "scores_crossval_rf = cross_val_score(model_rf, final_train_features, df_train_target_final_recovery, scoring=smape_score, cv=5)\n",
    "print('Mean sMAPE:', scores_crossval_rf.mean(), 'standard deviation:', scores_crossval_rf.std())"
   ]
  },
  {
   "attachments": {},
   "cell_type": "markdown",
   "metadata": {},
   "source": [
    "Again, the random forest model has the best metrics overall in prediction of `final.output.recovery`."
   ]
  },
  {
   "attachments": {},
   "cell_type": "markdown",
   "metadata": {},
   "source": [
    "## Trained model on test set evaluation"
   ]
  },
  {
   "cell_type": "code",
   "execution_count": 48,
   "metadata": {},
   "outputs": [
    {
     "name": "stdout",
     "output_type": "stream",
     "text": [
      "<class 'pandas.core.frame.DataFrame'>\n",
      "Int64Index: 5290 entries, 0 to 5855\n",
      "Data columns (total 52 columns):\n",
      " #   Column                                      Non-Null Count  Dtype  \n",
      "---  ------                                      --------------  -----  \n",
      " 0   primary_cleaner.input.sulfate               5290 non-null   float64\n",
      " 1   primary_cleaner.input.depressant            5290 non-null   float64\n",
      " 2   primary_cleaner.input.feed_size             5290 non-null   float64\n",
      " 3   primary_cleaner.input.xanthate              5290 non-null   float64\n",
      " 4   primary_cleaner.state.floatbank8_a_air      5290 non-null   float64\n",
      " 5   primary_cleaner.state.floatbank8_a_level    5290 non-null   float64\n",
      " 6   primary_cleaner.state.floatbank8_b_air      5290 non-null   float64\n",
      " 7   primary_cleaner.state.floatbank8_b_level    5290 non-null   float64\n",
      " 8   primary_cleaner.state.floatbank8_c_air      5290 non-null   float64\n",
      " 9   primary_cleaner.state.floatbank8_c_level    5290 non-null   float64\n",
      " 10  primary_cleaner.state.floatbank8_d_air      5290 non-null   float64\n",
      " 11  primary_cleaner.state.floatbank8_d_level    5290 non-null   float64\n",
      " 12  rougher.input.feed_ag                       5290 non-null   float64\n",
      " 13  rougher.input.feed_pb                       5290 non-null   float64\n",
      " 14  rougher.input.feed_rate                     5290 non-null   float64\n",
      " 15  rougher.input.feed_size                     5290 non-null   float64\n",
      " 16  rougher.input.feed_sol                      5290 non-null   float64\n",
      " 17  rougher.input.feed_au                       5290 non-null   float64\n",
      " 18  rougher.input.floatbank10_sulfate           5290 non-null   float64\n",
      " 19  rougher.input.floatbank10_xanthate          5290 non-null   float64\n",
      " 20  rougher.input.floatbank11_sulfate           5290 non-null   float64\n",
      " 21  rougher.input.floatbank11_xanthate          5290 non-null   float64\n",
      " 22  rougher.state.floatbank10_a_air             5290 non-null   float64\n",
      " 23  rougher.state.floatbank10_a_level           5290 non-null   float64\n",
      " 24  rougher.state.floatbank10_b_air             5290 non-null   float64\n",
      " 25  rougher.state.floatbank10_b_level           5290 non-null   float64\n",
      " 26  rougher.state.floatbank10_c_air             5290 non-null   float64\n",
      " 27  rougher.state.floatbank10_c_level           5290 non-null   float64\n",
      " 28  rougher.state.floatbank10_d_air             5290 non-null   float64\n",
      " 29  rougher.state.floatbank10_d_level           5290 non-null   float64\n",
      " 30  rougher.state.floatbank10_e_air             5290 non-null   float64\n",
      " 31  rougher.state.floatbank10_e_level           5290 non-null   float64\n",
      " 32  rougher.state.floatbank10_f_air             5290 non-null   float64\n",
      " 33  rougher.state.floatbank10_f_level           5290 non-null   float64\n",
      " 34  secondary_cleaner.state.floatbank2_a_air    5290 non-null   float64\n",
      " 35  secondary_cleaner.state.floatbank2_a_level  5290 non-null   float64\n",
      " 36  secondary_cleaner.state.floatbank2_b_air    5290 non-null   float64\n",
      " 37  secondary_cleaner.state.floatbank2_b_level  5290 non-null   float64\n",
      " 38  secondary_cleaner.state.floatbank3_a_air    5290 non-null   float64\n",
      " 39  secondary_cleaner.state.floatbank3_a_level  5290 non-null   float64\n",
      " 40  secondary_cleaner.state.floatbank3_b_air    5290 non-null   float64\n",
      " 41  secondary_cleaner.state.floatbank3_b_level  5290 non-null   float64\n",
      " 42  secondary_cleaner.state.floatbank4_a_air    5290 non-null   float64\n",
      " 43  secondary_cleaner.state.floatbank4_a_level  5290 non-null   float64\n",
      " 44  secondary_cleaner.state.floatbank4_b_air    5290 non-null   float64\n",
      " 45  secondary_cleaner.state.floatbank4_b_level  5290 non-null   float64\n",
      " 46  secondary_cleaner.state.floatbank5_a_air    5290 non-null   float64\n",
      " 47  secondary_cleaner.state.floatbank5_a_level  5290 non-null   float64\n",
      " 48  secondary_cleaner.state.floatbank5_b_air    5290 non-null   float64\n",
      " 49  secondary_cleaner.state.floatbank5_b_level  5290 non-null   float64\n",
      " 50  secondary_cleaner.state.floatbank6_a_air    5290 non-null   float64\n",
      " 51  secondary_cleaner.state.floatbank6_a_level  5290 non-null   float64\n",
      "dtypes: float64(52)\n",
      "memory usage: 2.1 MB\n"
     ]
    }
   ],
   "source": [
    "# Process test set\n",
    "# df_test_target_final_recovery\n",
    "# df_test_target_rougher_recovery\n",
    "df_test_features.info()"
   ]
  },
  {
   "cell_type": "code",
   "execution_count": 49,
   "metadata": {},
   "outputs": [
    {
     "name": "stdout",
     "output_type": "stream",
     "text": [
      "<class 'pandas.core.frame.DataFrame'>\n",
      "Int64Index: 5290 entries, 0 to 5855\n",
      "Data columns (total 22 columns):\n",
      " #   Column                              Non-Null Count  Dtype  \n",
      "---  ------                              --------------  -----  \n",
      " 0   rougher.input.feed_ag               5290 non-null   float64\n",
      " 1   rougher.input.feed_pb               5290 non-null   float64\n",
      " 2   rougher.input.feed_rate             5290 non-null   float64\n",
      " 3   rougher.input.feed_size             5290 non-null   float64\n",
      " 4   rougher.input.feed_sol              5290 non-null   float64\n",
      " 5   rougher.input.feed_au               5290 non-null   float64\n",
      " 6   rougher.input.floatbank10_sulfate   5290 non-null   float64\n",
      " 7   rougher.input.floatbank10_xanthate  5290 non-null   float64\n",
      " 8   rougher.input.floatbank11_sulfate   5290 non-null   float64\n",
      " 9   rougher.input.floatbank11_xanthate  5290 non-null   float64\n",
      " 10  rougher.state.floatbank10_a_air     5290 non-null   float64\n",
      " 11  rougher.state.floatbank10_a_level   5290 non-null   float64\n",
      " 12  rougher.state.floatbank10_b_air     5290 non-null   float64\n",
      " 13  rougher.state.floatbank10_b_level   5290 non-null   float64\n",
      " 14  rougher.state.floatbank10_c_air     5290 non-null   float64\n",
      " 15  rougher.state.floatbank10_c_level   5290 non-null   float64\n",
      " 16  rougher.state.floatbank10_d_air     5290 non-null   float64\n",
      " 17  rougher.state.floatbank10_d_level   5290 non-null   float64\n",
      " 18  rougher.state.floatbank10_e_air     5290 non-null   float64\n",
      " 19  rougher.state.floatbank10_e_level   5290 non-null   float64\n",
      " 20  rougher.state.floatbank10_f_air     5290 non-null   float64\n",
      " 21  rougher.state.floatbank10_f_level   5290 non-null   float64\n",
      "dtypes: float64(22)\n",
      "memory usage: 950.5 KB\n"
     ]
    }
   ],
   "source": [
    "# cols to drop for rougher recovery\n",
    "# need to get rid of all the purification states, secondary_cleaner and primary_cleaner because that comes after\n",
    "test_features_rougher = df_test_features\n",
    "test_features_rougher = test_features_rougher.loc[:, ~test_features_rougher.columns.str.startswith('primary')]\n",
    "test_features_rougher = test_features_rougher.loc[:, ~test_features_rougher.columns.str.startswith('secondary')]\n",
    "test_features_rougher.info()"
   ]
  },
  {
   "cell_type": "code",
   "execution_count": 50,
   "metadata": {},
   "outputs": [
    {
     "data": {
      "text/html": [
       "<style>#sk-container-id-1 {color: black;background-color: white;}#sk-container-id-1 pre{padding: 0;}#sk-container-id-1 div.sk-toggleable {background-color: white;}#sk-container-id-1 label.sk-toggleable__label {cursor: pointer;display: block;width: 100%;margin-bottom: 0;padding: 0.3em;box-sizing: border-box;text-align: center;}#sk-container-id-1 label.sk-toggleable__label-arrow:before {content: \"▸\";float: left;margin-right: 0.25em;color: #696969;}#sk-container-id-1 label.sk-toggleable__label-arrow:hover:before {color: black;}#sk-container-id-1 div.sk-estimator:hover label.sk-toggleable__label-arrow:before {color: black;}#sk-container-id-1 div.sk-toggleable__content {max-height: 0;max-width: 0;overflow: hidden;text-align: left;background-color: #f0f8ff;}#sk-container-id-1 div.sk-toggleable__content pre {margin: 0.2em;color: black;border-radius: 0.25em;background-color: #f0f8ff;}#sk-container-id-1 input.sk-toggleable__control:checked~div.sk-toggleable__content {max-height: 200px;max-width: 100%;overflow: auto;}#sk-container-id-1 input.sk-toggleable__control:checked~label.sk-toggleable__label-arrow:before {content: \"▾\";}#sk-container-id-1 div.sk-estimator input.sk-toggleable__control:checked~label.sk-toggleable__label {background-color: #d4ebff;}#sk-container-id-1 div.sk-label input.sk-toggleable__control:checked~label.sk-toggleable__label {background-color: #d4ebff;}#sk-container-id-1 input.sk-hidden--visually {border: 0;clip: rect(1px 1px 1px 1px);clip: rect(1px, 1px, 1px, 1px);height: 1px;margin: -1px;overflow: hidden;padding: 0;position: absolute;width: 1px;}#sk-container-id-1 div.sk-estimator {font-family: monospace;background-color: #f0f8ff;border: 1px dotted black;border-radius: 0.25em;box-sizing: border-box;margin-bottom: 0.5em;}#sk-container-id-1 div.sk-estimator:hover {background-color: #d4ebff;}#sk-container-id-1 div.sk-parallel-item::after {content: \"\";width: 100%;border-bottom: 1px solid gray;flex-grow: 1;}#sk-container-id-1 div.sk-label:hover label.sk-toggleable__label {background-color: #d4ebff;}#sk-container-id-1 div.sk-serial::before {content: \"\";position: absolute;border-left: 1px solid gray;box-sizing: border-box;top: 0;bottom: 0;left: 50%;z-index: 0;}#sk-container-id-1 div.sk-serial {display: flex;flex-direction: column;align-items: center;background-color: white;padding-right: 0.2em;padding-left: 0.2em;position: relative;}#sk-container-id-1 div.sk-item {position: relative;z-index: 1;}#sk-container-id-1 div.sk-parallel {display: flex;align-items: stretch;justify-content: center;background-color: white;position: relative;}#sk-container-id-1 div.sk-item::before, #sk-container-id-1 div.sk-parallel-item::before {content: \"\";position: absolute;border-left: 1px solid gray;box-sizing: border-box;top: 0;bottom: 0;left: 50%;z-index: -1;}#sk-container-id-1 div.sk-parallel-item {display: flex;flex-direction: column;z-index: 1;position: relative;background-color: white;}#sk-container-id-1 div.sk-parallel-item:first-child::after {align-self: flex-end;width: 50%;}#sk-container-id-1 div.sk-parallel-item:last-child::after {align-self: flex-start;width: 50%;}#sk-container-id-1 div.sk-parallel-item:only-child::after {width: 0;}#sk-container-id-1 div.sk-dashed-wrapped {border: 1px dashed gray;margin: 0 0.4em 0.5em 0.4em;box-sizing: border-box;padding-bottom: 0.4em;background-color: white;}#sk-container-id-1 div.sk-label label {font-family: monospace;font-weight: bold;display: inline-block;line-height: 1.2em;}#sk-container-id-1 div.sk-label-container {text-align: center;}#sk-container-id-1 div.sk-container {/* jupyter's `normalize.less` sets `[hidden] { display: none; }` but bootstrap.min.css set `[hidden] { display: none !important; }` so we also need the `!important` here to be able to override the default hidden behavior on the sphinx rendered scikit-learn.org. See: https://github.com/scikit-learn/scikit-learn/issues/21755 */display: inline-block !important;position: relative;}#sk-container-id-1 div.sk-text-repr-fallback {display: none;}</style><div id=\"sk-container-id-1\" class=\"sk-top-container\"><div class=\"sk-text-repr-fallback\"><pre>RandomForestRegressor(max_depth=3, n_estimators=70, random_state=12345)</pre><b>In a Jupyter environment, please rerun this cell to show the HTML representation or trust the notebook. <br />On GitHub, the HTML representation is unable to render, please try loading this page with nbviewer.org.</b></div><div class=\"sk-container\" hidden><div class=\"sk-item\"><div class=\"sk-estimator sk-toggleable\"><input class=\"sk-toggleable__control sk-hidden--visually\" id=\"sk-estimator-id-1\" type=\"checkbox\" checked><label for=\"sk-estimator-id-1\" class=\"sk-toggleable__label sk-toggleable__label-arrow\">RandomForestRegressor</label><div class=\"sk-toggleable__content\"><pre>RandomForestRegressor(max_depth=3, n_estimators=70, random_state=12345)</pre></div></div></div></div></div>"
      ],
      "text/plain": [
       "RandomForestRegressor(max_depth=3, n_estimators=70, random_state=12345)"
      ]
     },
     "execution_count": 50,
     "metadata": {},
     "output_type": "execute_result"
    }
   ],
   "source": [
    "# Random forest fit on train set\n",
    "model_rf_rougher = RandomForestRegressor(random_state=12345, n_estimators=70, max_depth=3)\n",
    "model_rf_final = RandomForestRegressor(random_state=12345, n_estimators=70, max_depth=3)\n",
    "model_rf_rougher.fit(rougher_train_features, df_train_target_rougher_recovery)\n",
    "model_rf_final.fit(final_train_features, df_train_target_final_recovery)"
   ]
  },
  {
   "cell_type": "code",
   "execution_count": 51,
   "metadata": {},
   "outputs": [
    {
     "name": "stdout",
     "output_type": "stream",
     "text": [
      "rougher.output.recovery MAE: 6.347825869711753\n",
      "rougher.output.recovery RMSE: 14.055864402626469\n",
      "rougher.output.recovery R2: -0.15541426575810813\n",
      "rougher.output.recovery sMAPE: 9.730917566381212\n",
      "final.output.recovery MAE: 5.6808343370111665\n",
      "final.output.recovery RMSE: 9.110162673643542\n",
      "final.output.recovery R2: 0.08289335055382463\n",
      "final.output.recovery sMAPE: 9.33255272658634\n"
     ]
    }
   ],
   "source": [
    "# Prediction on test set\n",
    "prediction_test_rougher = model_rf_rougher.predict(test_features_rougher)\n",
    "prediction_test_final = model_rf_final.predict(df_test_features)\n",
    "\n",
    "print('rougher.output.recovery MAE:', mean_absolute_error(df_test_target_rougher_recovery, prediction_test_rougher))\n",
    "print('rougher.output.recovery RMSE:', mean_squared_error(df_test_target_rougher_recovery, prediction_test_rougher, squared=False))\n",
    "print('rougher.output.recovery R2:', r2_score(df_test_target_rougher_recovery, prediction_test_rougher))\n",
    "print('rougher.output.recovery sMAPE:', smape(df_test_target_rougher_recovery, prediction_test_rougher))\n",
    "\n",
    "print('final.output.recovery MAE:', mean_absolute_error(df_test_target_final_recovery, prediction_test_final))\n",
    "print('final.output.recovery RMSE:', mean_squared_error(df_test_target_final_recovery, prediction_test_final, squared=False))\n",
    "print('final.output.recovery R2:', r2_score(df_test_target_final_recovery, prediction_test_final))\n",
    "print('final.output.recovery sMAPE:', smape(df_test_target_final_recovery, prediction_test_final))"
   ]
  },
  {
   "cell_type": "code",
   "execution_count": 52,
   "metadata": {},
   "outputs": [
    {
     "name": "stdout",
     "output_type": "stream",
     "text": [
      "Final sMAPE on test set: 9.432143936535057\n"
     ]
    }
   ],
   "source": [
    "# final smape\n",
    "print('Final sMAPE on test set:', final_smape(smape(df_test_target_rougher_recovery, prediction_test_rougher), smape(df_test_target_final_recovery, prediction_test_final)))"
   ]
  },
  {
   "cell_type": "code",
   "execution_count": 53,
   "metadata": {},
   "outputs": [
    {
     "data": {
      "text/html": [
       "<style>#sk-container-id-2 {color: black;background-color: white;}#sk-container-id-2 pre{padding: 0;}#sk-container-id-2 div.sk-toggleable {background-color: white;}#sk-container-id-2 label.sk-toggleable__label {cursor: pointer;display: block;width: 100%;margin-bottom: 0;padding: 0.3em;box-sizing: border-box;text-align: center;}#sk-container-id-2 label.sk-toggleable__label-arrow:before {content: \"▸\";float: left;margin-right: 0.25em;color: #696969;}#sk-container-id-2 label.sk-toggleable__label-arrow:hover:before {color: black;}#sk-container-id-2 div.sk-estimator:hover label.sk-toggleable__label-arrow:before {color: black;}#sk-container-id-2 div.sk-toggleable__content {max-height: 0;max-width: 0;overflow: hidden;text-align: left;background-color: #f0f8ff;}#sk-container-id-2 div.sk-toggleable__content pre {margin: 0.2em;color: black;border-radius: 0.25em;background-color: #f0f8ff;}#sk-container-id-2 input.sk-toggleable__control:checked~div.sk-toggleable__content {max-height: 200px;max-width: 100%;overflow: auto;}#sk-container-id-2 input.sk-toggleable__control:checked~label.sk-toggleable__label-arrow:before {content: \"▾\";}#sk-container-id-2 div.sk-estimator input.sk-toggleable__control:checked~label.sk-toggleable__label {background-color: #d4ebff;}#sk-container-id-2 div.sk-label input.sk-toggleable__control:checked~label.sk-toggleable__label {background-color: #d4ebff;}#sk-container-id-2 input.sk-hidden--visually {border: 0;clip: rect(1px 1px 1px 1px);clip: rect(1px, 1px, 1px, 1px);height: 1px;margin: -1px;overflow: hidden;padding: 0;position: absolute;width: 1px;}#sk-container-id-2 div.sk-estimator {font-family: monospace;background-color: #f0f8ff;border: 1px dotted black;border-radius: 0.25em;box-sizing: border-box;margin-bottom: 0.5em;}#sk-container-id-2 div.sk-estimator:hover {background-color: #d4ebff;}#sk-container-id-2 div.sk-parallel-item::after {content: \"\";width: 100%;border-bottom: 1px solid gray;flex-grow: 1;}#sk-container-id-2 div.sk-label:hover label.sk-toggleable__label {background-color: #d4ebff;}#sk-container-id-2 div.sk-serial::before {content: \"\";position: absolute;border-left: 1px solid gray;box-sizing: border-box;top: 0;bottom: 0;left: 50%;z-index: 0;}#sk-container-id-2 div.sk-serial {display: flex;flex-direction: column;align-items: center;background-color: white;padding-right: 0.2em;padding-left: 0.2em;position: relative;}#sk-container-id-2 div.sk-item {position: relative;z-index: 1;}#sk-container-id-2 div.sk-parallel {display: flex;align-items: stretch;justify-content: center;background-color: white;position: relative;}#sk-container-id-2 div.sk-item::before, #sk-container-id-2 div.sk-parallel-item::before {content: \"\";position: absolute;border-left: 1px solid gray;box-sizing: border-box;top: 0;bottom: 0;left: 50%;z-index: -1;}#sk-container-id-2 div.sk-parallel-item {display: flex;flex-direction: column;z-index: 1;position: relative;background-color: white;}#sk-container-id-2 div.sk-parallel-item:first-child::after {align-self: flex-end;width: 50%;}#sk-container-id-2 div.sk-parallel-item:last-child::after {align-self: flex-start;width: 50%;}#sk-container-id-2 div.sk-parallel-item:only-child::after {width: 0;}#sk-container-id-2 div.sk-dashed-wrapped {border: 1px dashed gray;margin: 0 0.4em 0.5em 0.4em;box-sizing: border-box;padding-bottom: 0.4em;background-color: white;}#sk-container-id-2 div.sk-label label {font-family: monospace;font-weight: bold;display: inline-block;line-height: 1.2em;}#sk-container-id-2 div.sk-label-container {text-align: center;}#sk-container-id-2 div.sk-container {/* jupyter's `normalize.less` sets `[hidden] { display: none; }` but bootstrap.min.css set `[hidden] { display: none !important; }` so we also need the `!important` here to be able to override the default hidden behavior on the sphinx rendered scikit-learn.org. See: https://github.com/scikit-learn/scikit-learn/issues/21755 */display: inline-block !important;position: relative;}#sk-container-id-2 div.sk-text-repr-fallback {display: none;}</style><div id=\"sk-container-id-2\" class=\"sk-top-container\"><div class=\"sk-text-repr-fallback\"><pre>DummyRegressor()</pre><b>In a Jupyter environment, please rerun this cell to show the HTML representation or trust the notebook. <br />On GitHub, the HTML representation is unable to render, please try loading this page with nbviewer.org.</b></div><div class=\"sk-container\" hidden><div class=\"sk-item\"><div class=\"sk-estimator sk-toggleable\"><input class=\"sk-toggleable__control sk-hidden--visually\" id=\"sk-estimator-id-2\" type=\"checkbox\" checked><label for=\"sk-estimator-id-2\" class=\"sk-toggleable__label sk-toggleable__label-arrow\">DummyRegressor</label><div class=\"sk-toggleable__content\"><pre>DummyRegressor()</pre></div></div></div></div></div>"
      ],
      "text/plain": [
       "DummyRegressor()"
      ]
     },
     "execution_count": 53,
     "metadata": {},
     "output_type": "execute_result"
    }
   ],
   "source": [
    "# Baseline comparison dummy regressor\n",
    "dummy_regr_rougher = DummyRegressor(strategy='mean')\n",
    "dummy_regr_final = DummyRegressor(strategy='mean')\n",
    "dummy_regr_rougher.fit(rougher_train_features, df_train_target_rougher_recovery)\n",
    "dummy_regr_final.fit(final_train_features, df_train_target_final_recovery)"
   ]
  },
  {
   "cell_type": "code",
   "execution_count": 54,
   "metadata": {},
   "outputs": [
    {
     "name": "stdout",
     "output_type": "stream",
     "text": [
      "Baseline rougher MAE: 7.1265625628969484\n",
      "Baseline rougher RMSE: 13.27598937872692\n",
      "Baseline rougher R2: -0.0307572550197015\n",
      "Baseline rougher sMAPE: 10.379799283438492\n",
      "Baseline final MAE: 6.369286087770005\n",
      "Baseline final RMSE: 9.71130254381456\n",
      "Baseline final R2: -0.04213155671095925\n",
      "Baseline final sMAPE: 10.25957407354855\n"
     ]
    }
   ],
   "source": [
    "# Prediction with baseline comparator\n",
    "dummy_pred_rougher = dummy_regr_rougher.predict(test_features_rougher)\n",
    "dummy_pred_final = dummy_regr_final.predict(df_test_features)\n",
    "\n",
    "print('Baseline rougher MAE:', mean_absolute_error(df_test_target_rougher_recovery, dummy_pred_rougher))\n",
    "print('Baseline rougher RMSE:', mean_squared_error(df_test_target_rougher_recovery, dummy_pred_rougher, squared=False))\n",
    "print('Baseline rougher R2:', r2_score(df_test_target_rougher_recovery, dummy_pred_rougher))\n",
    "print('Baseline rougher sMAPE:', smape(df_test_target_rougher_recovery, dummy_pred_rougher))\n",
    "\n",
    "print('Baseline final MAE:', mean_absolute_error(df_test_target_final_recovery, dummy_pred_final))\n",
    "print('Baseline final RMSE:', mean_squared_error(df_test_target_final_recovery, dummy_pred_final, squared=False))\n",
    "print('Baseline final R2:', r2_score(df_test_target_final_recovery, dummy_pred_final))\n",
    "print('Baseline final sMAPE:', smape(df_test_target_final_recovery, dummy_pred_final))"
   ]
  },
  {
   "cell_type": "code",
   "execution_count": 55,
   "metadata": {},
   "outputs": [
    {
     "name": "stdout",
     "output_type": "stream",
     "text": [
      "Final sMAPE on baseline: 10.289630376021035\n"
     ]
    }
   ],
   "source": [
    "# final smape on baseline\n",
    "print('Final sMAPE on baseline:', final_smape(smape(df_test_target_rougher_recovery, dummy_pred_rougher), smape(df_test_target_final_recovery, dummy_pred_final)))"
   ]
  },
  {
   "attachments": {},
   "cell_type": "markdown",
   "metadata": {},
   "source": [
    "## Results and discussion"
   ]
  },
  {
   "attachments": {},
   "cell_type": "markdown",
   "metadata": {},
   "source": [
    "The metric final sMAPE between a trained random forest model on the prediction of gold recovered is 9.43, compared to a baseline constant model predicting the mean of the test set with a final sMAPE of 10.29.\n",
    "\n",
    "The trained model does show an improvement in prediction. Whether this ~0.9% improvement is significant or not for their purposes, but it could make a difference as cost savings and profitability can improve at larger scales.\n",
    "\n",
    "There are a couple areas where the trained model can be improved. Any additional information on the features can help guide how to process the data even more to have a better fit to the models. Another is that the test set may have some slight differences between the training set, so the predictions can be negatively affected.   "
   ]
  }
 ],
 "metadata": {
  "kernelspec": {
   "display_name": "Python 3.9.12 ('base')",
   "language": "python",
   "name": "python3"
  },
  "language_info": {
   "codemirror_mode": {
    "name": "ipython",
    "version": 3
   },
   "file_extension": ".py",
   "mimetype": "text/x-python",
   "name": "python",
   "nbconvert_exporter": "python",
   "pygments_lexer": "ipython3",
   "version": "3.9.12"
  },
  "orig_nbformat": 4,
  "vscode": {
   "interpreter": {
    "hash": "ad2bdc8ecc057115af97d19610ffacc2b4e99fae6737bb82f5d7fb13d2f2c186"
   }
  }
 },
 "nbformat": 4,
 "nbformat_minor": 2
}
