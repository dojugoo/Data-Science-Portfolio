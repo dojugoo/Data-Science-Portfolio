{
 "cells": [
  {
   "attachments": {},
   "cell_type": "markdown",
   "metadata": {},
   "source": [
    "## Project description - Supervised Learning\n",
    "\n",
    "Beta Bank customers are leaving: little by little, chipping away every month. The bankers figured out it’s cheaper to save the existing customers rather than to attract new ones.\n",
    "\n",
    "We need to predict whether a customer will leave the bank soon. You have the data on clients’ past behavior and termination of contracts with the bank.\n",
    "\n",
    "## Data description\n",
    "\n",
    "Data from the `/datasets/Churn.csv` file:\n",
    "\n",
    "Features\n",
    "- `RowNumber` — data string index\n",
    "- `CustomerId` — unique customer identifier\n",
    "- `Surname` — surname\n",
    "- `CreditScore` — credit score\n",
    "- `Geography` — country of residence\n",
    "- `Gender` — gender\n",
    "- `Age` — age\n",
    "- `Tenure` — period of maturation for a customer’s fixed deposit (years)\n",
    "- `Balance` — account balance\n",
    "- `NumOfProducts` — number of banking products used by the customer\n",
    "- `HasCrCard` — customer has a credit card\n",
    "- `IsActiveMember` — customer’s activeness\n",
    "- `EstimatedSalary` — estimated salary\n",
    "\n",
    "Target\n",
    "- `Exited` — сustomer has left\n",
    "\n",
    "## Overview of work process\n",
    "\n",
    "I present here a brief overview of how the data set was processed and analyzed. First, the data needs to be prepared prior to input for training models. Preparation of the data set included filling missing values, label encoding, and feature standardization. From here, models were trained without class balancing to get a sense of baseline metrics of the models. Techniques for class balancing, such as downsampling and upsampling, were used and then the different models were then optimized to find the best model in terms of accuracy for this data set. From this, we can determine the best model, and metrics were generated from the determined best model."
   ]
  },
  {
   "cell_type": "code",
   "execution_count": 11,
   "metadata": {},
   "outputs": [],
   "source": [
    "import pandas as pd\n",
    "import matplotlib.pyplot as plt\n",
    "from sklearn.model_selection import train_test_split\n",
    "from sklearn.tree import DecisionTreeClassifier\n",
    "from sklearn.ensemble import RandomForestClassifier\n",
    "from sklearn.linear_model import LogisticRegression\n",
    "from sklearn.preprocessing import StandardScaler\n",
    "from sklearn.metrics import accuracy_score\n",
    "from sklearn.metrics import confusion_matrix\n",
    "from sklearn.metrics import recall_score\n",
    "from sklearn.metrics import precision_score\n",
    "from sklearn.metrics import f1_score\n",
    "from sklearn.utils import shuffle\n",
    "from sklearn.metrics import roc_curve\n",
    "from sklearn.metrics import roc_auc_score"
   ]
  },
  {
   "cell_type": "markdown",
   "metadata": {},
   "source": [
    "## Data Preparation"
   ]
  },
  {
   "cell_type": "code",
   "execution_count": 12,
   "metadata": {},
   "outputs": [],
   "source": [
    "# Read in the data into df dataframe\n",
    "df = pd.read_csv('Churn.csv')"
   ]
  },
  {
   "cell_type": "code",
   "execution_count": 13,
   "metadata": {},
   "outputs": [
    {
     "name": "stdout",
     "output_type": "stream",
     "text": [
      "<class 'pandas.core.frame.DataFrame'>\n",
      "RangeIndex: 10000 entries, 0 to 9999\n",
      "Data columns (total 14 columns):\n",
      " #   Column           Non-Null Count  Dtype  \n",
      "---  ------           --------------  -----  \n",
      " 0   RowNumber        10000 non-null  int64  \n",
      " 1   CustomerId       10000 non-null  int64  \n",
      " 2   Surname          10000 non-null  object \n",
      " 3   CreditScore      10000 non-null  int64  \n",
      " 4   Geography        10000 non-null  object \n",
      " 5   Gender           10000 non-null  object \n",
      " 6   Age              10000 non-null  int64  \n",
      " 7   Tenure           9091 non-null   float64\n",
      " 8   Balance          10000 non-null  float64\n",
      " 9   NumOfProducts    10000 non-null  int64  \n",
      " 10  HasCrCard        10000 non-null  int64  \n",
      " 11  IsActiveMember   10000 non-null  int64  \n",
      " 12  EstimatedSalary  10000 non-null  float64\n",
      " 13  Exited           10000 non-null  int64  \n",
      "dtypes: float64(3), int64(8), object(3)\n",
      "memory usage: 1.1+ MB\n"
     ]
    },
    {
     "data": {
      "text/html": [
       "<div>\n",
       "<style scoped>\n",
       "    .dataframe tbody tr th:only-of-type {\n",
       "        vertical-align: middle;\n",
       "    }\n",
       "\n",
       "    .dataframe tbody tr th {\n",
       "        vertical-align: top;\n",
       "    }\n",
       "\n",
       "    .dataframe thead th {\n",
       "        text-align: right;\n",
       "    }\n",
       "</style>\n",
       "<table border=\"1\" class=\"dataframe\">\n",
       "  <thead>\n",
       "    <tr style=\"text-align: right;\">\n",
       "      <th></th>\n",
       "      <th>RowNumber</th>\n",
       "      <th>CustomerId</th>\n",
       "      <th>Surname</th>\n",
       "      <th>CreditScore</th>\n",
       "      <th>Geography</th>\n",
       "      <th>Gender</th>\n",
       "      <th>Age</th>\n",
       "      <th>Tenure</th>\n",
       "      <th>Balance</th>\n",
       "      <th>NumOfProducts</th>\n",
       "      <th>HasCrCard</th>\n",
       "      <th>IsActiveMember</th>\n",
       "      <th>EstimatedSalary</th>\n",
       "      <th>Exited</th>\n",
       "    </tr>\n",
       "  </thead>\n",
       "  <tbody>\n",
       "    <tr>\n",
       "      <th>0</th>\n",
       "      <td>1</td>\n",
       "      <td>15634602</td>\n",
       "      <td>Hargrave</td>\n",
       "      <td>619</td>\n",
       "      <td>France</td>\n",
       "      <td>Female</td>\n",
       "      <td>42</td>\n",
       "      <td>2.0</td>\n",
       "      <td>0.00</td>\n",
       "      <td>1</td>\n",
       "      <td>1</td>\n",
       "      <td>1</td>\n",
       "      <td>101348.88</td>\n",
       "      <td>1</td>\n",
       "    </tr>\n",
       "    <tr>\n",
       "      <th>1</th>\n",
       "      <td>2</td>\n",
       "      <td>15647311</td>\n",
       "      <td>Hill</td>\n",
       "      <td>608</td>\n",
       "      <td>Spain</td>\n",
       "      <td>Female</td>\n",
       "      <td>41</td>\n",
       "      <td>1.0</td>\n",
       "      <td>83807.86</td>\n",
       "      <td>1</td>\n",
       "      <td>0</td>\n",
       "      <td>1</td>\n",
       "      <td>112542.58</td>\n",
       "      <td>0</td>\n",
       "    </tr>\n",
       "    <tr>\n",
       "      <th>2</th>\n",
       "      <td>3</td>\n",
       "      <td>15619304</td>\n",
       "      <td>Onio</td>\n",
       "      <td>502</td>\n",
       "      <td>France</td>\n",
       "      <td>Female</td>\n",
       "      <td>42</td>\n",
       "      <td>8.0</td>\n",
       "      <td>159660.80</td>\n",
       "      <td>3</td>\n",
       "      <td>1</td>\n",
       "      <td>0</td>\n",
       "      <td>113931.57</td>\n",
       "      <td>1</td>\n",
       "    </tr>\n",
       "    <tr>\n",
       "      <th>3</th>\n",
       "      <td>4</td>\n",
       "      <td>15701354</td>\n",
       "      <td>Boni</td>\n",
       "      <td>699</td>\n",
       "      <td>France</td>\n",
       "      <td>Female</td>\n",
       "      <td>39</td>\n",
       "      <td>1.0</td>\n",
       "      <td>0.00</td>\n",
       "      <td>2</td>\n",
       "      <td>0</td>\n",
       "      <td>0</td>\n",
       "      <td>93826.63</td>\n",
       "      <td>0</td>\n",
       "    </tr>\n",
       "    <tr>\n",
       "      <th>4</th>\n",
       "      <td>5</td>\n",
       "      <td>15737888</td>\n",
       "      <td>Mitchell</td>\n",
       "      <td>850</td>\n",
       "      <td>Spain</td>\n",
       "      <td>Female</td>\n",
       "      <td>43</td>\n",
       "      <td>2.0</td>\n",
       "      <td>125510.82</td>\n",
       "      <td>1</td>\n",
       "      <td>1</td>\n",
       "      <td>1</td>\n",
       "      <td>79084.10</td>\n",
       "      <td>0</td>\n",
       "    </tr>\n",
       "    <tr>\n",
       "      <th>5</th>\n",
       "      <td>6</td>\n",
       "      <td>15574012</td>\n",
       "      <td>Chu</td>\n",
       "      <td>645</td>\n",
       "      <td>Spain</td>\n",
       "      <td>Male</td>\n",
       "      <td>44</td>\n",
       "      <td>8.0</td>\n",
       "      <td>113755.78</td>\n",
       "      <td>2</td>\n",
       "      <td>1</td>\n",
       "      <td>0</td>\n",
       "      <td>149756.71</td>\n",
       "      <td>1</td>\n",
       "    </tr>\n",
       "    <tr>\n",
       "      <th>6</th>\n",
       "      <td>7</td>\n",
       "      <td>15592531</td>\n",
       "      <td>Bartlett</td>\n",
       "      <td>822</td>\n",
       "      <td>France</td>\n",
       "      <td>Male</td>\n",
       "      <td>50</td>\n",
       "      <td>7.0</td>\n",
       "      <td>0.00</td>\n",
       "      <td>2</td>\n",
       "      <td>1</td>\n",
       "      <td>1</td>\n",
       "      <td>10062.80</td>\n",
       "      <td>0</td>\n",
       "    </tr>\n",
       "    <tr>\n",
       "      <th>7</th>\n",
       "      <td>8</td>\n",
       "      <td>15656148</td>\n",
       "      <td>Obinna</td>\n",
       "      <td>376</td>\n",
       "      <td>Germany</td>\n",
       "      <td>Female</td>\n",
       "      <td>29</td>\n",
       "      <td>4.0</td>\n",
       "      <td>115046.74</td>\n",
       "      <td>4</td>\n",
       "      <td>1</td>\n",
       "      <td>0</td>\n",
       "      <td>119346.88</td>\n",
       "      <td>1</td>\n",
       "    </tr>\n",
       "    <tr>\n",
       "      <th>8</th>\n",
       "      <td>9</td>\n",
       "      <td>15792365</td>\n",
       "      <td>He</td>\n",
       "      <td>501</td>\n",
       "      <td>France</td>\n",
       "      <td>Male</td>\n",
       "      <td>44</td>\n",
       "      <td>4.0</td>\n",
       "      <td>142051.07</td>\n",
       "      <td>2</td>\n",
       "      <td>0</td>\n",
       "      <td>1</td>\n",
       "      <td>74940.50</td>\n",
       "      <td>0</td>\n",
       "    </tr>\n",
       "    <tr>\n",
       "      <th>9</th>\n",
       "      <td>10</td>\n",
       "      <td>15592389</td>\n",
       "      <td>H?</td>\n",
       "      <td>684</td>\n",
       "      <td>France</td>\n",
       "      <td>Male</td>\n",
       "      <td>27</td>\n",
       "      <td>2.0</td>\n",
       "      <td>134603.88</td>\n",
       "      <td>1</td>\n",
       "      <td>1</td>\n",
       "      <td>1</td>\n",
       "      <td>71725.73</td>\n",
       "      <td>0</td>\n",
       "    </tr>\n",
       "  </tbody>\n",
       "</table>\n",
       "</div>"
      ],
      "text/plain": [
       "   RowNumber  CustomerId   Surname  CreditScore Geography  Gender  Age  \\\n",
       "0          1    15634602  Hargrave          619    France  Female   42   \n",
       "1          2    15647311      Hill          608     Spain  Female   41   \n",
       "2          3    15619304      Onio          502    France  Female   42   \n",
       "3          4    15701354      Boni          699    France  Female   39   \n",
       "4          5    15737888  Mitchell          850     Spain  Female   43   \n",
       "5          6    15574012       Chu          645     Spain    Male   44   \n",
       "6          7    15592531  Bartlett          822    France    Male   50   \n",
       "7          8    15656148    Obinna          376   Germany  Female   29   \n",
       "8          9    15792365        He          501    France    Male   44   \n",
       "9         10    15592389        H?          684    France    Male   27   \n",
       "\n",
       "   Tenure    Balance  NumOfProducts  HasCrCard  IsActiveMember  \\\n",
       "0     2.0       0.00              1          1               1   \n",
       "1     1.0   83807.86              1          0               1   \n",
       "2     8.0  159660.80              3          1               0   \n",
       "3     1.0       0.00              2          0               0   \n",
       "4     2.0  125510.82              1          1               1   \n",
       "5     8.0  113755.78              2          1               0   \n",
       "6     7.0       0.00              2          1               1   \n",
       "7     4.0  115046.74              4          1               0   \n",
       "8     4.0  142051.07              2          0               1   \n",
       "9     2.0  134603.88              1          1               1   \n",
       "\n",
       "   EstimatedSalary  Exited  \n",
       "0        101348.88       1  \n",
       "1        112542.58       0  \n",
       "2        113931.57       1  \n",
       "3         93826.63       0  \n",
       "4         79084.10       0  \n",
       "5        149756.71       1  \n",
       "6         10062.80       0  \n",
       "7        119346.88       1  \n",
       "8         74940.50       0  \n",
       "9         71725.73       0  "
      ]
     },
     "metadata": {},
     "output_type": "display_data"
    }
   ],
   "source": [
    "# Display information on the dataset\n",
    "df.info()\n",
    "display(df.head(10))"
   ]
  },
  {
   "cell_type": "markdown",
   "metadata": {},
   "source": [
    "Thoughts on the data set to prepare for training:\n",
    "- RowNumber, CustomerId, and Surname columns can be removed and not included as features because of their irrelevance to why someone would leave the bank. We don't want to train the models with these fields.\n",
    "- Missing values in the 'Tenure' column, will be investigated to determine the best way to address the missing values\n",
    "- Label encoding for the following columns: 'Geography', 'Gender'\n",
    "- Columns needing to be standardized or feature scaled: 'CreditScore', 'Age', 'Tenure', 'Balance', and 'EstimatedSalary'"
   ]
  },
  {
   "cell_type": "code",
   "execution_count": 14,
   "metadata": {},
   "outputs": [],
   "source": [
    "# Remove the RowNumber, CustomerId, and Surname columns\n",
    "data = df.drop(['RowNumber', 'CustomerId', 'Surname'], axis=1)"
   ]
  },
  {
   "cell_type": "code",
   "execution_count": 15,
   "metadata": {},
   "outputs": [
    {
     "name": "stdout",
     "output_type": "stream",
     "text": [
      "[ 2.  1.  8.  7.  4.  6.  3. 10.  5.  9.  0. nan]\n",
      "4.997690023099769\n"
     ]
    }
   ],
   "source": [
    "# Investigating the Tenure column\n",
    "print(data['Tenure'].unique())\n",
    "print(data['Tenure'].mean())"
   ]
  },
  {
   "cell_type": "markdown",
   "metadata": {},
   "source": [
    "Tenure column ranges from 0-10 with a mean value of 5. The missing values represent about 10% of the data. Plan is to fill the missing values with the mean of 5."
   ]
  },
  {
   "cell_type": "code",
   "execution_count": 16,
   "metadata": {},
   "outputs": [],
   "source": [
    "# Fill missing 'Tenure' values with the mean and convert to int type\n",
    "data['Tenure'] = data['Tenure'].fillna(5).astype('int64')"
   ]
  },
  {
   "cell_type": "code",
   "execution_count": 17,
   "metadata": {},
   "outputs": [],
   "source": [
    "# One hot encoding for the 'Geography' and 'Gender' columns\n",
    "data_ohe = pd.get_dummies(data, drop_first=True)"
   ]
  },
  {
   "cell_type": "code",
   "execution_count": 18,
   "metadata": {},
   "outputs": [],
   "source": [
    "# Split data set into features and target\n",
    "features = data_ohe.drop('Exited', axis=1)\n",
    "target = data_ohe['Exited']"
   ]
  },
  {
   "cell_type": "code",
   "execution_count": 19,
   "metadata": {},
   "outputs": [
    {
     "name": "stdout",
     "output_type": "stream",
     "text": [
      "<class 'pandas.core.frame.DataFrame'>\n",
      "RangeIndex: 10000 entries, 0 to 9999\n",
      "Data columns (total 11 columns):\n",
      " #   Column             Non-Null Count  Dtype  \n",
      "---  ------             --------------  -----  \n",
      " 0   CreditScore        10000 non-null  int64  \n",
      " 1   Age                10000 non-null  int64  \n",
      " 2   Tenure             10000 non-null  int64  \n",
      " 3   Balance            10000 non-null  float64\n",
      " 4   NumOfProducts      10000 non-null  int64  \n",
      " 5   HasCrCard          10000 non-null  int64  \n",
      " 6   IsActiveMember     10000 non-null  int64  \n",
      " 7   EstimatedSalary    10000 non-null  float64\n",
      " 8   Geography_Germany  10000 non-null  uint8  \n",
      " 9   Geography_Spain    10000 non-null  uint8  \n",
      " 10  Gender_Male        10000 non-null  uint8  \n",
      "dtypes: float64(2), int64(6), uint8(3)\n",
      "memory usage: 654.4 KB\n"
     ]
    },
    {
     "data": {
      "text/html": [
       "<div>\n",
       "<style scoped>\n",
       "    .dataframe tbody tr th:only-of-type {\n",
       "        vertical-align: middle;\n",
       "    }\n",
       "\n",
       "    .dataframe tbody tr th {\n",
       "        vertical-align: top;\n",
       "    }\n",
       "\n",
       "    .dataframe thead th {\n",
       "        text-align: right;\n",
       "    }\n",
       "</style>\n",
       "<table border=\"1\" class=\"dataframe\">\n",
       "  <thead>\n",
       "    <tr style=\"text-align: right;\">\n",
       "      <th></th>\n",
       "      <th>CreditScore</th>\n",
       "      <th>Age</th>\n",
       "      <th>Tenure</th>\n",
       "      <th>Balance</th>\n",
       "      <th>NumOfProducts</th>\n",
       "      <th>HasCrCard</th>\n",
       "      <th>IsActiveMember</th>\n",
       "      <th>EstimatedSalary</th>\n",
       "      <th>Geography_Germany</th>\n",
       "      <th>Geography_Spain</th>\n",
       "      <th>Gender_Male</th>\n",
       "    </tr>\n",
       "  </thead>\n",
       "  <tbody>\n",
       "    <tr>\n",
       "      <th>count</th>\n",
       "      <td>10000.000000</td>\n",
       "      <td>10000.000000</td>\n",
       "      <td>10000.00000</td>\n",
       "      <td>10000.000000</td>\n",
       "      <td>10000.000000</td>\n",
       "      <td>10000.00000</td>\n",
       "      <td>10000.000000</td>\n",
       "      <td>10000.000000</td>\n",
       "      <td>10000.000000</td>\n",
       "      <td>10000.000000</td>\n",
       "      <td>10000.000000</td>\n",
       "    </tr>\n",
       "    <tr>\n",
       "      <th>mean</th>\n",
       "      <td>650.528800</td>\n",
       "      <td>38.921800</td>\n",
       "      <td>4.99790</td>\n",
       "      <td>76485.889288</td>\n",
       "      <td>1.530200</td>\n",
       "      <td>0.70550</td>\n",
       "      <td>0.515100</td>\n",
       "      <td>100090.239881</td>\n",
       "      <td>0.250900</td>\n",
       "      <td>0.247700</td>\n",
       "      <td>0.545700</td>\n",
       "    </tr>\n",
       "    <tr>\n",
       "      <th>std</th>\n",
       "      <td>96.653299</td>\n",
       "      <td>10.487806</td>\n",
       "      <td>2.76001</td>\n",
       "      <td>62397.405202</td>\n",
       "      <td>0.581654</td>\n",
       "      <td>0.45584</td>\n",
       "      <td>0.499797</td>\n",
       "      <td>57510.492818</td>\n",
       "      <td>0.433553</td>\n",
       "      <td>0.431698</td>\n",
       "      <td>0.497932</td>\n",
       "    </tr>\n",
       "    <tr>\n",
       "      <th>min</th>\n",
       "      <td>350.000000</td>\n",
       "      <td>18.000000</td>\n",
       "      <td>0.00000</td>\n",
       "      <td>0.000000</td>\n",
       "      <td>1.000000</td>\n",
       "      <td>0.00000</td>\n",
       "      <td>0.000000</td>\n",
       "      <td>11.580000</td>\n",
       "      <td>0.000000</td>\n",
       "      <td>0.000000</td>\n",
       "      <td>0.000000</td>\n",
       "    </tr>\n",
       "    <tr>\n",
       "      <th>25%</th>\n",
       "      <td>584.000000</td>\n",
       "      <td>32.000000</td>\n",
       "      <td>3.00000</td>\n",
       "      <td>0.000000</td>\n",
       "      <td>1.000000</td>\n",
       "      <td>0.00000</td>\n",
       "      <td>0.000000</td>\n",
       "      <td>51002.110000</td>\n",
       "      <td>0.000000</td>\n",
       "      <td>0.000000</td>\n",
       "      <td>0.000000</td>\n",
       "    </tr>\n",
       "    <tr>\n",
       "      <th>50%</th>\n",
       "      <td>652.000000</td>\n",
       "      <td>37.000000</td>\n",
       "      <td>5.00000</td>\n",
       "      <td>97198.540000</td>\n",
       "      <td>1.000000</td>\n",
       "      <td>1.00000</td>\n",
       "      <td>1.000000</td>\n",
       "      <td>100193.915000</td>\n",
       "      <td>0.000000</td>\n",
       "      <td>0.000000</td>\n",
       "      <td>1.000000</td>\n",
       "    </tr>\n",
       "    <tr>\n",
       "      <th>75%</th>\n",
       "      <td>718.000000</td>\n",
       "      <td>44.000000</td>\n",
       "      <td>7.00000</td>\n",
       "      <td>127644.240000</td>\n",
       "      <td>2.000000</td>\n",
       "      <td>1.00000</td>\n",
       "      <td>1.000000</td>\n",
       "      <td>149388.247500</td>\n",
       "      <td>1.000000</td>\n",
       "      <td>0.000000</td>\n",
       "      <td>1.000000</td>\n",
       "    </tr>\n",
       "    <tr>\n",
       "      <th>max</th>\n",
       "      <td>850.000000</td>\n",
       "      <td>92.000000</td>\n",
       "      <td>10.00000</td>\n",
       "      <td>250898.090000</td>\n",
       "      <td>4.000000</td>\n",
       "      <td>1.00000</td>\n",
       "      <td>1.000000</td>\n",
       "      <td>199992.480000</td>\n",
       "      <td>1.000000</td>\n",
       "      <td>1.000000</td>\n",
       "      <td>1.000000</td>\n",
       "    </tr>\n",
       "  </tbody>\n",
       "</table>\n",
       "</div>"
      ],
      "text/plain": [
       "        CreditScore           Age       Tenure        Balance  NumOfProducts  \\\n",
       "count  10000.000000  10000.000000  10000.00000   10000.000000   10000.000000   \n",
       "mean     650.528800     38.921800      4.99790   76485.889288       1.530200   \n",
       "std       96.653299     10.487806      2.76001   62397.405202       0.581654   \n",
       "min      350.000000     18.000000      0.00000       0.000000       1.000000   \n",
       "25%      584.000000     32.000000      3.00000       0.000000       1.000000   \n",
       "50%      652.000000     37.000000      5.00000   97198.540000       1.000000   \n",
       "75%      718.000000     44.000000      7.00000  127644.240000       2.000000   \n",
       "max      850.000000     92.000000     10.00000  250898.090000       4.000000   \n",
       "\n",
       "         HasCrCard  IsActiveMember  EstimatedSalary  Geography_Germany  \\\n",
       "count  10000.00000    10000.000000     10000.000000       10000.000000   \n",
       "mean       0.70550        0.515100    100090.239881           0.250900   \n",
       "std        0.45584        0.499797     57510.492818           0.433553   \n",
       "min        0.00000        0.000000        11.580000           0.000000   \n",
       "25%        0.00000        0.000000     51002.110000           0.000000   \n",
       "50%        1.00000        1.000000    100193.915000           0.000000   \n",
       "75%        1.00000        1.000000    149388.247500           1.000000   \n",
       "max        1.00000        1.000000    199992.480000           1.000000   \n",
       "\n",
       "       Geography_Spain   Gender_Male  \n",
       "count     10000.000000  10000.000000  \n",
       "mean          0.247700      0.545700  \n",
       "std           0.431698      0.497932  \n",
       "min           0.000000      0.000000  \n",
       "25%           0.000000      0.000000  \n",
       "50%           0.000000      1.000000  \n",
       "75%           0.000000      1.000000  \n",
       "max           1.000000      1.000000  "
      ]
     },
     "execution_count": 19,
     "metadata": {},
     "output_type": "execute_result"
    }
   ],
   "source": [
    "# Check on the features dataset\n",
    "features.info()\n",
    "features.describe()"
   ]
  },
  {
   "cell_type": "markdown",
   "metadata": {},
   "source": [
    "Confirming that data is transformed to what was expected."
   ]
  },
  {
   "cell_type": "code",
   "execution_count": 20,
   "metadata": {},
   "outputs": [],
   "source": [
    "# Splitting the data set into 60% training, 20% validation, and 20% test set\n",
    "features_train, features_split, target_train, target_split = train_test_split(\n",
    "    features, target, test_size=0.4, random_state=12345)\n",
    "features_valid, features_test, target_valid, target_test = train_test_split(\n",
    "    features_split, target_split, test_size=0.5, random_state=12345)"
   ]
  },
  {
   "cell_type": "code",
   "execution_count": 21,
   "metadata": {},
   "outputs": [],
   "source": [
    "# Standardize columns\n",
    "cols_to_scale = ['CreditScore', 'Age', 'Tenure', 'Balance', 'EstimatedSalary']\n",
    "scaler = StandardScaler()\n",
    "\n",
    "# Fit to training set\n",
    "scaler.fit(features_train[cols_to_scale])\n",
    "\n",
    "# Transform to the sets\n",
    "pd.options.mode.chained_assignment = None\n",
    "features_train[cols_to_scale] = scaler.transform(features_train[cols_to_scale])\n",
    "features_valid[cols_to_scale] = scaler.transform(features_valid[cols_to_scale])\n",
    "features_test[cols_to_scale] = scaler.transform(features_test[cols_to_scale])"
   ]
  },
  {
   "cell_type": "code",
   "execution_count": 22,
   "metadata": {},
   "outputs": [
    {
     "name": "stdout",
     "output_type": "stream",
     "text": [
      "(6000, 11)\n",
      "(6000,)\n",
      "(2000, 11)\n",
      "(2000,)\n",
      "(2000, 11)\n",
      "(2000,)\n"
     ]
    }
   ],
   "source": [
    "# Confirm the splits by printing the sets\n",
    "print(features_train.shape)\n",
    "print(target_train.shape)\n",
    "print(features_valid.shape)\n",
    "print(target_valid.shape)\n",
    "print(features_test.shape)\n",
    "print(target_test.shape)"
   ]
  },
  {
   "cell_type": "markdown",
   "metadata": {},
   "source": [
    "Next, let's take a look at class balance."
   ]
  },
  {
   "cell_type": "code",
   "execution_count": 23,
   "metadata": {},
   "outputs": [
    {
     "name": "stdout",
     "output_type": "stream",
     "text": [
      "(7963, 14)\n",
      "(2037, 14)\n"
     ]
    }
   ],
   "source": [
    "# Printing the number of target = 0, or target = 1\n",
    "print(df.query(\"Exited == 0\").shape)\n",
    "print(df.query(\"Exited == 1\").shape)"
   ]
  },
  {
   "cell_type": "markdown",
   "metadata": {},
   "source": [
    "The number of 'negative' outcomes (customers staying with the bank) are 4x more than the 'positive' outcomes (customers leaving the bank). There is a class imbalance that will need to be addressed. First, the models will be trained without fixing the class imbalance to get a baseline of the models."
   ]
  },
  {
   "cell_type": "markdown",
   "metadata": {},
   "source": [
    "## Initial modeling without fixing class imbalance"
   ]
  },
  {
   "cell_type": "code",
   "execution_count": 24,
   "metadata": {},
   "outputs": [
    {
     "name": "stdout",
     "output_type": "stream",
     "text": [
      "Decision Tree best depth: 6\n",
      "Accuracy on training set: 0.872, validation set: 0.858, test set: 0.848\n",
      "Confusion matrix: \n",
      "[[1528   54]\n",
      " [ 230  188]]\n",
      "Recall: 0.450, Precision: 0.777, F1: 0.570\n"
     ]
    }
   ],
   "source": [
    "# Evaluate data set using decision tree model\n",
    "# best_score = 0\n",
    "best_depth = 0\n",
    "best_f1 = 0\n",
    "for depth in range(1, 11):\n",
    "    model = DecisionTreeClassifier(random_state=12345, max_depth=depth)\n",
    "    model.fit(features_train, target_train)\n",
    "    # score_valid = model.score(features_valid, target_valid)\n",
    "    predicted = model.predict(features_valid)\n",
    "    f1 = f1_score(target_valid, predicted)\n",
    "    if f1 > best_f1:\n",
    "        best_f1 = f1\n",
    "        best_depth = depth\n",
    "\n",
    "# Use highest scoring model parameters to calculate metrics\n",
    "model_best = DecisionTreeClassifier(random_state=12345, max_depth=best_depth)\n",
    "model_best.fit(features_train, target_train)\n",
    "\n",
    "# Scoring accuracy on the different sets\n",
    "score_train = model_best.score(features_train, target_train)\n",
    "score_valid = model_best.score(features_valid, target_valid)\n",
    "score_test = model_best.score(features_test, target_test)\n",
    "\n",
    "# Calculating metrics\n",
    "predicted_valid = model_best.predict(features_valid) \n",
    "cf_matrix = confusion_matrix(target_valid, predicted_valid) # confusion matrix\n",
    "recall = recall_score(target_valid, predicted_valid) # recall\n",
    "precision = precision_score(target_valid, predicted_valid) # precision\n",
    "f1_sc = f1_score(target_valid, predicted_valid) # F1 score\n",
    "\n",
    "# Print output\n",
    "print(f'Decision Tree best depth: {best_depth}')\n",
    "print(f'Accuracy on training set: {score_train:.3f}, validation set: {score_valid:.3f}, test set: {score_test:.3f}')\n",
    "print(f'Confusion matrix: \\n{cf_matrix}')\n",
    "print(f'Recall: {recall:.3f}, Precision: {precision:.3f}, F1: {f1_sc:.3f}')"
   ]
  },
  {
   "cell_type": "code",
   "execution_count": 25,
   "metadata": {},
   "outputs": [
    {
     "name": "stdout",
     "output_type": "stream",
     "text": [
      "Constant model accuracy score: 0.791\n"
     ]
    }
   ],
   "source": [
    "# Sanity check with a constant model of all '0's (negative outcomes)\n",
    "constant_model = pd.Series(0, index=features_valid.index)\n",
    "score_constant = accuracy_score(constant_model, target_valid)\n",
    "print(f'Constant model accuracy score: {score_constant:.3f}')"
   ]
  },
  {
   "cell_type": "markdown",
   "metadata": {},
   "source": [
    "Comments on decision tree without class imbalance adjustments:\n",
    "\n",
    "At least the trained model has some improvement in the accuracy over the constant model. Also, accuracy is consistent between training, validation, and the test set. Even though the F1 score is close to our target (0.59), there are methods to try to improve this model even more when attempting to fix class imbalance.\n",
    "\n",
    "Next, let's evaluate the Logistic Regression model."
   ]
  },
  {
   "cell_type": "code",
   "execution_count": 26,
   "metadata": {},
   "outputs": [
    {
     "name": "stdout",
     "output_type": "stream",
     "text": [
      "Logistic Regression best solver: lbfgs\n",
      "Accuracy on training set: 0.819, validation set: 0.802, test set: 0.791\n",
      "Confusion matrix: \n",
      "[[1506   76]\n",
      " [ 320   98]]\n",
      "Recall: 0.234, Precision: 0.563, F1: 0.331\n",
      "Constant model accuracy score: 0.791\n"
     ]
    }
   ],
   "source": [
    "# Evaluate data set using logistic regression\n",
    "# best_score = 0\n",
    "best_solver = ''\n",
    "solvers = ['lbfgs', 'liblinear', 'newton-cg']\n",
    "best_f1 = 0\n",
    "for solv in solvers:\n",
    "    model = LogisticRegression(random_state=12345, solver=solv)\n",
    "    model.fit(features_train, target_train)\n",
    "    # score_valid = model.score(features_valid, target_valid)\n",
    "    predicted = model.predict(features_valid)\n",
    "    f1 = f1_score(target_valid, predicted)\n",
    "    if f1 > best_f1:\n",
    "        best_f1 = f1\n",
    "        best_solver = solv\n",
    "\n",
    "# Use highest scoring model parameters to calculate metrics\n",
    "model_best = LogisticRegression(random_state=12345, solver=best_solver)\n",
    "model_best.fit(features_train, target_train)\n",
    "\n",
    "# Scoring accuracy on the different sets\n",
    "score_train = model_best.score(features_train, target_train)\n",
    "score_valid = model_best.score(features_valid, target_valid)\n",
    "score_test = model_best.score(features_test, target_test)\n",
    "\n",
    "# Calculating metrics\n",
    "predicted_valid = model_best.predict(features_valid) \n",
    "cf_matrix = confusion_matrix(target_valid, predicted_valid) # confusion matrix\n",
    "recall = recall_score(target_valid, predicted_valid) # recall\n",
    "precision = precision_score(target_valid, predicted_valid) # precision\n",
    "f1_sc = f1_score(target_valid, predicted_valid) # F1 score\n",
    "\n",
    "# Print output\n",
    "print(f'Logistic Regression best solver: {best_solver}')\n",
    "print(f'Accuracy on training set: {score_train:.3f}, validation set: {score_valid:.3f}, test set: {score_test:.3f}')\n",
    "print(f'Confusion matrix: \\n{cf_matrix}')\n",
    "print(f'Recall: {recall:.3f}, Precision: {precision:.3f}, F1: {f1_sc:.3f}')\n",
    "\n",
    "# Sanity check of the constant model\n",
    "print(f'Constant model accuracy score: {score_constant:.3f}')"
   ]
  },
  {
   "cell_type": "markdown",
   "metadata": {},
   "source": [
    "Comments on logistic regression:\n",
    "\n",
    "This performed very poorly, with the test set accuracy the same as the constant model. Also, the F1 score is very low with low recall and low precision. Not very good!\n",
    "\n",
    "Let's move on to the random forest model."
   ]
  },
  {
   "cell_type": "code",
   "execution_count": 27,
   "metadata": {},
   "outputs": [
    {
     "name": "stdout",
     "output_type": "stream",
     "text": [
      "Random Forest best n_estimator value: 20, max_depth: 9\n",
      "Accuracy on training set: 0.893, validation set: 0.864, test set: 0.846\n",
      "Confusion matrix: \n",
      "[[1543   39]\n",
      " [ 233  185]]\n",
      "Recall: 0.443, Precision: 0.826, F1: 0.576\n",
      "Constant model accuracy score: 0.791\n"
     ]
    }
   ],
   "source": [
    "# Evaluate data set using random forest\n",
    "# best_score = 0\n",
    "best_est = 0\n",
    "best_depth = 0\n",
    "best_f1 = 0\n",
    "for est in range(20, 81, 10):\n",
    "    for depth in range(5, 10):\n",
    "        model = RandomForestClassifier(random_state=12345, n_estimators=est, max_depth=depth)\n",
    "        model.fit(features_train, target_train)\n",
    "        # score_valid = model.score(features_valid, target_valid)\n",
    "        predicted = model.predict(features_valid)\n",
    "        f1 = f1_score(target_valid, predicted)\n",
    "        if f1 > best_f1:\n",
    "            best_f1 = f1\n",
    "            best_depth = depth\n",
    "            best_est = est\n",
    "\n",
    "# Use highest scoring model parameters to calculate metrics\n",
    "model_best = RandomForestClassifier(random_state=12345, n_estimators=best_est, max_depth=best_depth)\n",
    "model_best.fit(features_train, target_train)\n",
    "\n",
    "# Scoring accuracy on the different sets\n",
    "score_train = model_best.score(features_train, target_train)\n",
    "score_valid = model_best.score(features_valid, target_valid)\n",
    "score_test = model_best.score(features_test, target_test)\n",
    "\n",
    "# Calculating metrics\n",
    "predicted_valid = model_best.predict(features_valid) \n",
    "cf_matrix = confusion_matrix(target_valid, predicted_valid) # confusion matrix\n",
    "recall = recall_score(target_valid, predicted_valid) # recall\n",
    "precision = precision_score(target_valid, predicted_valid) # precision\n",
    "f1_sc = f1_score(target_valid, predicted_valid) # F1 score\n",
    "\n",
    "# Print output\n",
    "print(f'Random Forest best n_estimator value: {best_est}, max_depth: {best_depth}')\n",
    "print(f'Accuracy on training set: {score_train:.3f}, validation set: {score_valid:.3f}, test set: {score_test:.3f}')\n",
    "print(f'Confusion matrix: \\n{cf_matrix}')\n",
    "print(f'Recall: {recall:.3f}, Precision: {precision:.3f}, F1: {f1_sc:.3f}')\n",
    "\n",
    "# Sanity check of the constant model\n",
    "print(f'Constant model accuracy score: {score_constant:.3f}')"
   ]
  },
  {
   "cell_type": "markdown",
   "metadata": {},
   "source": [
    "Accuracy and metrics with the random forest are similar to the decision tree results. "
   ]
  },
  {
   "cell_type": "markdown",
   "metadata": {},
   "source": [
    "## Downsample and Upsample for Class Imbalance"
   ]
  },
  {
   "cell_type": "code",
   "execution_count": 28,
   "metadata": {},
   "outputs": [
    {
     "name": "stdout",
     "output_type": "stream",
     "text": [
      "7963\n",
      "2037\n"
     ]
    }
   ],
   "source": [
    "# Printing out the lengths of the negative and positive outcomes for target\n",
    "print(len(target[target == 0]))\n",
    "print(len(target[target == 1]))"
   ]
  },
  {
   "cell_type": "markdown",
   "metadata": {},
   "source": [
    "Downsample the negative class to 25%, and upsample the positive class 4x, and re-evaluate the models in each case."
   ]
  },
  {
   "cell_type": "code",
   "execution_count": 29,
   "metadata": {},
   "outputs": [
    {
     "name": "stdout",
     "output_type": "stream",
     "text": [
      "Positive class length:  (1201,)\n",
      "Negative class length:  (1196,)\n"
     ]
    }
   ],
   "source": [
    "# Downsample function\n",
    "def downsample(features, target, fraction):\n",
    "    # Split features and targets to 1 and 0\n",
    "    features_zeros = features[target == 0]\n",
    "    features_ones = features[target == 1]\n",
    "    target_zeros = target[target == 0]\n",
    "    target_ones = target[target == 1]\n",
    "\n",
    "    # downsample the negative class in features and concat to rest of features\n",
    "    features_zeros_downsampled = features_zeros.sample(frac=fraction, random_state=12345)\n",
    "    features_downsampled = pd.concat([features_zeros_downsampled] + [features_ones])\n",
    "\n",
    "    # downsample the target and concat to rest of target\n",
    "    target_zeros_downsampled = target_zeros.sample(frac=fraction, random_state=12345)\n",
    "    target_downsampled = pd.concat([target_zeros_downsampled] + [target_ones])\n",
    "\n",
    "    # Shuffle the resulting data\n",
    "    features_downsampled, target_downsampled = shuffle(features_downsampled, target_downsampled)\n",
    "    return features_downsampled, target_downsampled\n",
    "\n",
    "# Downsample on the training data set\n",
    "features_train_downsampled, target_train_downsampled = downsample(features_train, target_train, 0.25)\n",
    "\n",
    "# Print out the resulting lengths to confirm downsampling\n",
    "print('Positive class length: ', target_train_downsampled[target_train_downsampled == 0].shape)\n",
    "print('Negative class length: ', target_train_downsampled[target_train_downsampled == 1].shape)"
   ]
  },
  {
   "cell_type": "code",
   "execution_count": 30,
   "metadata": {},
   "outputs": [
    {
     "name": "stdout",
     "output_type": "stream",
     "text": [
      "Positive class length:  (4804,)\n",
      "Negative class length:  (4784,)\n"
     ]
    }
   ],
   "source": [
    "# Upsample function\n",
    "def upsample(features, target, repeat):\n",
    "    features_zeros = features[target == 0]\n",
    "    features_ones = features[target == 1]\n",
    "    target_zeros = target[target == 0]\n",
    "    target_ones = target[target == 1]\n",
    "\n",
    "    # Upsample the positive class by amount given by repeat\n",
    "    features_upsampled = pd.concat([features_zeros] + [features_ones] * repeat)\n",
    "    target_upsampled = pd.concat([target_zeros] + [target_ones] * repeat)\n",
    "\n",
    "    # Shuffle the resulting data\n",
    "    features_upsampled, target_upsampled = shuffle(features_upsampled, target_upsampled, random_state=12345)\n",
    "    return features_upsampled, target_upsampled\n",
    "\n",
    "# Upsample on the training data set\n",
    "features_train_upsampled, target_train_upsampled = upsample(features_train, target_train, 4)\n",
    "\n",
    "# Print out the resulting lengths to confirm upsampling\n",
    "print('Positive class length: ', target_train_upsampled[target_train_upsampled == 0].shape)\n",
    "print('Negative class length: ', target_train_upsampled[target_train_upsampled == 1].shape)"
   ]
  },
  {
   "cell_type": "markdown",
   "metadata": {},
   "source": [
    "Lengths for both classes are fairly equal. Now let's train on these data sets."
   ]
  },
  {
   "cell_type": "code",
   "execution_count": 31,
   "metadata": {},
   "outputs": [
    {
     "name": "stdout",
     "output_type": "stream",
     "text": [
      "Decision Tree with downsampled training set best depth: 5\n",
      "Accuracy on training set: 0.799, validation set: 0.800, test set: 0.810\n",
      "Confusion matrix: \n",
      "[[1307  275]\n",
      " [ 125  293]]\n",
      "Recall: 0.701, Precision: 0.516, F1: 0.594\n",
      "Constant model accuracy score: 0.791\n"
     ]
    }
   ],
   "source": [
    "# Decision tree model on downsampled training data set\n",
    "best_score = 0\n",
    "best_depth = 0\n",
    "for depth in range(1, 11):\n",
    "    model = DecisionTreeClassifier(random_state=12345, max_depth=depth)\n",
    "    model.fit(features_train_downsampled, target_train_downsampled)\n",
    "    score_valid = model.score(features_valid, target_valid)\n",
    "    if score_valid > best_score:\n",
    "        best_score = score_valid\n",
    "        best_depth = depth\n",
    "\n",
    "# Use highest scoring model parameters to calculate metrics\n",
    "model_best = DecisionTreeClassifier(random_state=12345, max_depth=best_depth)\n",
    "model_best.fit(features_train_downsampled, target_train_downsampled)\n",
    "\n",
    "# Scoring accuracy on the different sets\n",
    "score_train = model_best.score(features_train, target_train)\n",
    "score_valid = model_best.score(features_valid, target_valid)\n",
    "score_test = model_best.score(features_test, target_test)\n",
    "\n",
    "# Calculating metrics\n",
    "predicted_valid = model_best.predict(features_valid) \n",
    "cf_matrix = confusion_matrix(target_valid, predicted_valid) # confusion matrix\n",
    "recall = recall_score(target_valid, predicted_valid) # recall\n",
    "precision = precision_score(target_valid, predicted_valid) # precision\n",
    "f1_sc = f1_score(target_valid, predicted_valid) # F1 score\n",
    "\n",
    "# Print output\n",
    "print(f'Decision Tree with downsampled training set best depth: {best_depth}')\n",
    "print(f'Accuracy on training set: {score_train:.3f}, validation set: {score_valid:.3f}, test set: {score_test:.3f}')\n",
    "print(f'Confusion matrix: \\n{cf_matrix}')\n",
    "print(f'Recall: {recall:.3f}, Precision: {precision:.3f}, F1: {f1_sc:.3f}')\n",
    "\n",
    "# Sanity check with a constant model of all '0's (negative outcomes)\n",
    "print(f'Constant model accuracy score: {score_constant:.3f}')"
   ]
  },
  {
   "cell_type": "code",
   "execution_count": 32,
   "metadata": {},
   "outputs": [
    {
     "name": "stdout",
     "output_type": "stream",
     "text": [
      "Decision Tree with upsampled training set best depth: 5\n",
      "Accuracy on training set: 0.807, validation set: 0.810, test set: 0.798\n",
      "Confusion matrix: \n",
      "[[1341  241]\n",
      " [ 138  280]]\n",
      "Recall: 0.670, Precision: 0.537, F1: 0.596\n",
      "Constant model accuracy score: 0.791\n"
     ]
    }
   ],
   "source": [
    "# Decision tree model on upsampled training data set\n",
    "best_score = 0\n",
    "best_depth = 0\n",
    "for depth in range(1, 11):\n",
    "    model = DecisionTreeClassifier(random_state=12345, max_depth=depth)\n",
    "    model.fit(features_train_upsampled, target_train_upsampled)\n",
    "    score_valid = model.score(features_valid, target_valid)\n",
    "    if score_valid > best_score:\n",
    "        best_score = score_valid\n",
    "        best_depth = depth\n",
    "\n",
    "# Use highest scoring model parameters to calculate metrics\n",
    "model_best = DecisionTreeClassifier(random_state=12345, max_depth=best_depth)\n",
    "model_best.fit(features_train_upsampled, target_train_upsampled)\n",
    "\n",
    "# Scoring accuracy on the different sets\n",
    "score_train = model_best.score(features_train, target_train)\n",
    "score_valid = model_best.score(features_valid, target_valid)\n",
    "score_test = model_best.score(features_test, target_test)\n",
    "\n",
    "# Calculating metrics\n",
    "predicted_valid = model_best.predict(features_valid) \n",
    "cf_matrix = confusion_matrix(target_valid, predicted_valid) # confusion matrix\n",
    "recall = recall_score(target_valid, predicted_valid) # recall\n",
    "precision = precision_score(target_valid, predicted_valid) # precision\n",
    "f1_sc = f1_score(target_valid, predicted_valid) # F1 score\n",
    "\n",
    "# Print output\n",
    "print(f'Decision Tree with upsampled training set best depth: {best_depth}')\n",
    "print(f'Accuracy on training set: {score_train:.3f}, validation set: {score_valid:.3f}, test set: {score_test:.3f}')\n",
    "print(f'Confusion matrix: \\n{cf_matrix}')\n",
    "print(f'Recall: {recall:.3f}, Precision: {precision:.3f}, F1: {f1_sc:.3f}')\n",
    "\n",
    "# Sanity check with a constant model of all '0's (negative outcomes)\n",
    "print(f'Constant model accuracy score: {score_constant:.3f}')"
   ]
  },
  {
   "cell_type": "markdown",
   "metadata": {},
   "source": [
    "Comparing between downsampling and upsampling, there's not significant differences. Accuracy between data sets are similar and F1 is close to equal.\n",
    "\n",
    "Comparing to not downsampling or upsampling, the overall accuracy decreased from the test set of 0.849 to around 0.8. This accuracy is similar to the constant model. However, the F1 score improved slightly from 0.570 to 0.596.\n",
    "\n",
    "Overall, the parameters used here for a Decision Tree model indicates that this may not be a good model to use for this particular data set based on the metrics."
   ]
  },
  {
   "cell_type": "markdown",
   "metadata": {},
   "source": [
    "Next section is on training Logistic Regression model with the downsampled or upsampled training data set."
   ]
  },
  {
   "cell_type": "code",
   "execution_count": 33,
   "metadata": {},
   "outputs": [
    {
     "name": "stdout",
     "output_type": "stream",
     "text": [
      "Logistic Regression with downsampled training data set best solver: lbfgs\n",
      "Accuracy on training set: 0.716, validation set: 0.701, test set: 0.699\n",
      "Confusion matrix: \n",
      "[[1120  462]\n",
      " [ 137  281]]\n",
      "Recall: 0.672, Precision: 0.378, F1: 0.484\n",
      "Constant model accuracy score: 0.791\n"
     ]
    }
   ],
   "source": [
    "# Logistic regression with downsampled training data set\n",
    "best_score = 0\n",
    "best_solver = ''\n",
    "solvers = ['lbfgs', 'liblinear', 'newton-cg']\n",
    "for solv in solvers:\n",
    "    model = LogisticRegression(random_state=12345, solver=solv)\n",
    "    model.fit(features_train_downsampled, target_train_downsampled)\n",
    "    score_valid = model.score(features_valid, target_valid)\n",
    "    if score_valid > best_score:\n",
    "        best_score = score_valid\n",
    "        best_solver = solv\n",
    "\n",
    "# Use highest scoring model parameters to calculate metrics\n",
    "model_best = LogisticRegression(random_state=12345, solver=best_solver)\n",
    "model_best.fit(features_train_downsampled, target_train_downsampled)\n",
    "\n",
    "# Scoring accuracy on the different sets\n",
    "score_train = model_best.score(features_train, target_train)\n",
    "score_valid = model_best.score(features_valid, target_valid)\n",
    "score_test = model_best.score(features_test, target_test)\n",
    "\n",
    "# Calculating metrics\n",
    "predicted_valid = model_best.predict(features_valid) \n",
    "cf_matrix = confusion_matrix(target_valid, predicted_valid) # confusion matrix\n",
    "recall = recall_score(target_valid, predicted_valid) # recall\n",
    "precision = precision_score(target_valid, predicted_valid) # precision\n",
    "f1_sc = f1_score(target_valid, predicted_valid) # F1 score\n",
    "\n",
    "# Print output\n",
    "print(f'Logistic Regression with downsampled training data set best solver: {best_solver}')\n",
    "print(f'Accuracy on training set: {score_train:.3f}, validation set: {score_valid:.3f}, test set: {score_test:.3f}')\n",
    "print(f'Confusion matrix: \\n{cf_matrix}')\n",
    "print(f'Recall: {recall:.3f}, Precision: {precision:.3f}, F1: {f1_sc:.3f}')\n",
    "\n",
    "# Sanity check of the constant model\n",
    "print(f'Constant model accuracy score: {score_constant:.3f}')"
   ]
  },
  {
   "cell_type": "code",
   "execution_count": 34,
   "metadata": {},
   "outputs": [
    {
     "name": "stdout",
     "output_type": "stream",
     "text": [
      "Logistic Regression with upsampled data set best solver: lbfgs\n",
      "Accuracy on training set: 0.718, validation set: 0.702, test set: 0.698\n",
      "Confusion matrix: \n",
      "[[1119  463]\n",
      " [ 133  285]]\n",
      "Recall: 0.682, Precision: 0.381, F1: 0.489\n",
      "Constant model accuracy score: 0.791\n"
     ]
    }
   ],
   "source": [
    "# Logistic regression with upsampled training data set\n",
    "best_score = 0\n",
    "best_solver = ''\n",
    "solvers = ['lbfgs', 'liblinear', 'newton-cg']\n",
    "for solv in solvers:\n",
    "    model = LogisticRegression(random_state=12345, solver=solv)\n",
    "    model.fit(features_train_upsampled, target_train_upsampled)\n",
    "    score_valid = model.score(features_valid, target_valid)\n",
    "    if score_valid > best_score:\n",
    "        best_score = score_valid\n",
    "        best_solver = solv\n",
    "\n",
    "# Use highest scoring model parameters to calculate metrics\n",
    "model_best = LogisticRegression(random_state=12345, solver=best_solver)\n",
    "model_best.fit(features_train_upsampled, target_train_upsampled)\n",
    "\n",
    "# Scoring accuracy on the different sets\n",
    "score_train = model_best.score(features_train, target_train)\n",
    "score_valid = model_best.score(features_valid, target_valid)\n",
    "score_test = model_best.score(features_test, target_test)\n",
    "\n",
    "# Calculating metrics\n",
    "predicted_valid = model_best.predict(features_valid) \n",
    "cf_matrix = confusion_matrix(target_valid, predicted_valid) # confusion matrix\n",
    "recall = recall_score(target_valid, predicted_valid) # recall\n",
    "precision = precision_score(target_valid, predicted_valid) # precision\n",
    "f1_sc = f1_score(target_valid, predicted_valid) # F1 score\n",
    "\n",
    "# Print output\n",
    "print(f'Logistic Regression with upsampled data set best solver: {best_solver}')\n",
    "print(f'Accuracy on training set: {score_train:.3f}, validation set: {score_valid:.3f}, test set: {score_test:.3f}')\n",
    "print(f'Confusion matrix: \\n{cf_matrix}')\n",
    "print(f'Recall: {recall:.3f}, Precision: {precision:.3f}, F1: {f1_sc:.3f}')\n",
    "\n",
    "# Sanity check of the constant model\n",
    "print(f'Constant model accuracy score: {score_constant:.3f}')"
   ]
  },
  {
   "cell_type": "markdown",
   "metadata": {},
   "source": [
    "Again, the metrics between downsampled or upsampled data this time on a logistic regression model were similar in terms of the overall accuracy of the test set and the F1 metric. We also see a decrease in the accuracy compared to not balancing the classes, yet the F1 metric has increased. So far, this model is the worse as the accuracy is lower than the constant model score."
   ]
  },
  {
   "cell_type": "markdown",
   "metadata": {},
   "source": [
    "Time to train the downsampled or upsampled data on a Random Forest model."
   ]
  },
  {
   "cell_type": "code",
   "execution_count": 35,
   "metadata": {},
   "outputs": [
    {
     "name": "stdout",
     "output_type": "stream",
     "text": [
      "Random Forest with downsampled training data best n_estimator value: 10, max_depth: 5\n",
      "Accuracy on training set: 0.798, validation set: 0.794, test set: 0.783\n",
      "Confusion matrix: \n",
      "[[1276  306]\n",
      " [ 106  312]]\n",
      "Recall: 0.746, Precision: 0.505, F1: 0.602\n",
      "Constant model accuracy score: 0.791\n"
     ]
    }
   ],
   "source": [
    "# Random forest with downsampled data\n",
    "best_score = 0\n",
    "best_est = 0\n",
    "best_depth = 0\n",
    "for est in range(10, 81, 10):\n",
    "    for depth in range(5, 10):\n",
    "        model = RandomForestClassifier(random_state=12345, n_estimators=est, max_depth=depth)\n",
    "        model.fit(features_train_downsampled, target_train_downsampled)\n",
    "        score_valid = model.score(features_valid, target_valid)\n",
    "        if score_valid > best_score:\n",
    "            best_score = score_valid\n",
    "            best_depth = depth\n",
    "            best_est = est\n",
    "\n",
    "# Use highest scoring model parameters to calculate metrics\n",
    "model_best = RandomForestClassifier(random_state=12345, n_estimators=best_est, max_depth=best_depth)\n",
    "model_best.fit(features_train_downsampled, target_train_downsampled)\n",
    "\n",
    "# Scoring accuracy on the different sets\n",
    "score_train = model_best.score(features_train, target_train)\n",
    "score_valid = model_best.score(features_valid, target_valid)\n",
    "score_test = model_best.score(features_test, target_test)\n",
    "\n",
    "# Calculating metrics\n",
    "predicted_valid = model_best.predict(features_valid) \n",
    "cf_matrix = confusion_matrix(target_valid, predicted_valid) # confusion matrix\n",
    "recall = recall_score(target_valid, predicted_valid) # recall\n",
    "precision = precision_score(target_valid, predicted_valid) # precision\n",
    "f1_sc = f1_score(target_valid, predicted_valid) # F1 score\n",
    "\n",
    "# Print output\n",
    "print(f'Random Forest with downsampled training data best n_estimator value: {best_est}, max_depth: {best_depth}')\n",
    "print(f'Accuracy on training set: {score_train:.3f}, validation set: {score_valid:.3f}, test set: {score_test:.3f}')\n",
    "print(f'Confusion matrix: \\n{cf_matrix}')\n",
    "print(f'Recall: {recall:.3f}, Precision: {precision:.3f}, F1: {f1_sc:.3f}')\n",
    "\n",
    "# Sanity check of the constant model\n",
    "print(f'Constant model accuracy score: {score_constant:.3f}')"
   ]
  },
  {
   "cell_type": "code",
   "execution_count": 36,
   "metadata": {},
   "outputs": [
    {
     "name": "stdout",
     "output_type": "stream",
     "text": [
      "Random Forest with upsampled training data best n_estimator value: 70, max_depth: 9\n",
      "Accuracy on training set: 0.889, validation set: 0.826, test set: 0.811\n",
      "Confusion matrix: \n",
      "[[1355  227]\n",
      " [ 122  296]]\n",
      "Recall: 0.708, Precision: 0.566, F1: 0.629\n",
      "Constant model accuracy score: 0.791\n"
     ]
    }
   ],
   "source": [
    "# Random forest with upsampled data\n",
    "best_score = 0\n",
    "best_est = 0\n",
    "best_depth = 0\n",
    "for est in range(10, 81, 10):\n",
    "    for depth in range(5, 10):\n",
    "        model = RandomForestClassifier(random_state=12345, n_estimators=est, max_depth=depth)\n",
    "        model.fit(features_train_upsampled, target_train_upsampled)\n",
    "        score_valid = model.score(features_valid, target_valid)\n",
    "        if score_valid > best_score:\n",
    "            best_score = score_valid\n",
    "            best_depth = depth\n",
    "            best_est = est\n",
    "\n",
    "# Use highest scoring model parameters to calculate metrics\n",
    "model_best = RandomForestClassifier(random_state=12345, n_estimators=best_est, max_depth=best_depth)\n",
    "model_best.fit(features_train_upsampled, target_train_upsampled)\n",
    "\n",
    "# Scoring accuracy on the different sets\n",
    "score_train = model_best.score(features_train, target_train)\n",
    "score_valid = model_best.score(features_valid, target_valid)\n",
    "score_test = model_best.score(features_test, target_test)\n",
    "\n",
    "# Calculating metrics\n",
    "predicted_valid = model_best.predict(features_valid) \n",
    "cf_matrix = confusion_matrix(target_valid, predicted_valid) # confusion matrix\n",
    "recall = recall_score(target_valid, predicted_valid) # recall\n",
    "precision = precision_score(target_valid, predicted_valid) # precision\n",
    "f1_sc = f1_score(target_valid, predicted_valid) # F1 score\n",
    "\n",
    "# Print output\n",
    "print(f'Random Forest with upsampled training data best n_estimator value: {best_est}, max_depth: {best_depth}')\n",
    "print(f'Accuracy on training set: {score_train:.3f}, validation set: {score_valid:.3f}, test set: {score_test:.3f}')\n",
    "print(f'Confusion matrix: \\n{cf_matrix}')\n",
    "print(f'Recall: {recall:.3f}, Precision: {precision:.3f}, F1: {f1_sc:.3f}')\n",
    "\n",
    "# Sanity check of the constant model\n",
    "print(f'Constant model accuracy score: {score_constant:.3f}')"
   ]
  },
  {
   "cell_type": "markdown",
   "metadata": {},
   "source": [
    "Optimizing for random forest with the upsampled data seems to have the best result. The accuracy of the test set is higher than the constant model. And the F1 score has increased to above the target goal of 0.59."
   ]
  },
  {
   "cell_type": "markdown",
   "metadata": {},
   "source": [
    "## Best model - Random Forest"
   ]
  },
  {
   "cell_type": "markdown",
   "metadata": {},
   "source": [
    "The best model to predict whether customers will leave the bank will be displayed below, from the optimized parameters explored and described above."
   ]
  },
  {
   "cell_type": "code",
   "execution_count": 37,
   "metadata": {},
   "outputs": [
    {
     "name": "stdout",
     "output_type": "stream",
     "text": [
      "Accuracy on test set: 0.811\n",
      "Confusion matrix: \n",
      "[[1331  246]\n",
      " [ 131  292]]\n",
      "Recall: 0.690, Precision: 0.543, F1: 0.608\n"
     ]
    }
   ],
   "source": [
    "# Training best model\n",
    "model_best = RandomForestClassifier(random_state=12345, n_estimators=70, max_depth=9)\n",
    "model_best.fit(features_train_upsampled, target_train_upsampled)\n",
    "predicted_test = model_best.predict(features_test) \n",
    "\n",
    "# Scoring accuracy on test set\n",
    "score_test = accuracy_score(target_test, predicted_test)\n",
    "\n",
    "# Calculating metrics on the test set\n",
    "cf_matrix = confusion_matrix(target_test, predicted_test) # confusion matrix\n",
    "recall = recall_score(target_test, predicted_test) # recall\n",
    "precision = precision_score(target_test, predicted_test) # precision\n",
    "f1_sc = f1_score(target_test, predicted_test) # F1 score\n",
    "\n",
    "# Print output\n",
    "print(f'Accuracy on test set: {score_test:.3f}')\n",
    "print(f'Confusion matrix: \\n{cf_matrix}')\n",
    "print(f'Recall: {recall:.3f}, Precision: {precision:.3f}, F1: {f1_sc:.3f}')"
   ]
  },
  {
   "cell_type": "code",
   "execution_count": 38,
   "metadata": {},
   "outputs": [
    {
     "data": {
      "image/png": "[encoded data removed]",
      "text/plain": [
       "<Figure size 432x288 with 1 Axes>"
      ]
     },
     "metadata": {
      "needs_background": "light"
     },
     "output_type": "display_data"
    }
   ],
   "source": [
    "# Plotting ROC curve for the best model\n",
    "probabilities_valid = model_best.predict_proba(features_test)\n",
    "probabilities_one_valid = probabilities_valid[:, 1]\n",
    "\n",
    "fpr, tpr, thresholds = roc_curve(target_test, probabilities_one_valid)\n",
    "plt.figure()\n",
    "# ROC curve for random model (looks like a straight line)\n",
    "plt.plot([0, 1], [0, 1], linestyle='--')\n",
    "plt.plot(fpr, tpr)\n",
    "plt.xlim([0, 1])\n",
    "plt.ylim([0, 1])\n",
    "plt.xlabel('False Positive Rate')\n",
    "plt.ylabel('True Positive Rate')\n",
    "plt.title('ROC curve')\n",
    "plt.show()"
   ]
  },
  {
   "cell_type": "code",
   "execution_count": 39,
   "metadata": {},
   "outputs": [
    {
     "name": "stdout",
     "output_type": "stream",
     "text": [
      "AUC-ROC is: 0.8531655550908374\n"
     ]
    }
   ],
   "source": [
    "# Calculate AUC-ROC\n",
    "auc_roc = roc_auc_score(target_test, probabilities_one_valid)\n",
    "print(f'AUC-ROC is: {auc_roc}')"
   ]
  },
  {
   "cell_type": "markdown",
   "metadata": {},
   "source": [
    "## Results and discussion\n",
    "\n",
    "The best model was determined to be a random forest model and the quality was improved by upsampling the data and improving the class imbalance. \n",
    "\n",
    "The resulting metrics had an accuracy of 0.811, F1 score of 0.608, and AUC-ROC of 0.853.\n",
    "\n",
    "F1 score is a score that ranges from 0 to 1, where 0 is the worse and 1 is the best possible score. It is evaluated from both the recall and precision metrics. It was achieved to have a F1 score greater than 0.59 as the target.\n",
    "\n",
    "AUC-ROC or aurea under the curve for receiver operating characteristic, this score ranges from 0.5 to 1, where 0.5 means the model is as good as random, and where 1 is the best score. This metric is the relationship between the true positive rate (TPR) and the false positive rate (FPR) of the model. Having a AUC-ROC of 0.853 means that our model is better than random, but not perfect."
   ]
  }
 ],
 "metadata": {
  "kernelspec": {
   "display_name": "Python 3.9.12 ('base')",
   "language": "python",
   "name": "python3"
  },
  "language_info": {
   "codemirror_mode": {
    "name": "ipython",
    "version": 3
   },
   "file_extension": ".py",
   "mimetype": "text/x-python",
   "name": "python",
   "nbconvert_exporter": "python",
   "pygments_lexer": "ipython3",
   "version": "3.9.12"
  },
  "orig_nbformat": 4,
  "vscode": {
   "interpreter": {
    "hash": "ad2bdc8ecc057115af97d19610ffacc2b4e99fae6737bb82f5d7fb13d2f2c186"
   }
  }
 },
 "nbformat": 4,
 "nbformat_minor": 2
}
