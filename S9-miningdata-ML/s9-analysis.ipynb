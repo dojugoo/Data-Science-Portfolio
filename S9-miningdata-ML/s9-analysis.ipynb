{
 "cells": [
  {
   "attachments": {},
   "cell_type": "markdown",
   "metadata": {},
   "source": [
    "## Project description\n",
    "\n",
    "You work for the OilyGiant mining company. Your task is to find the best place for a new well.\n",
    "\n",
    "Steps to choose the location:\n",
    "- Collect the oil well parameters in the selected region: oil quality and volume of reserves;\n",
    "- Build a model for predicting the volume of reserves in the new wells;\n",
    "- Pick the oil wells with the highest estimated values;\n",
    "- Pick the region with the highest total profit for the selected oil wells.\n",
    "\n",
    "You have data on oil samples from three regions. Parameters of each oil well in the region are already known. Build a model that will help to pick the region with the highest profit margin. Analyze potential profit and risks using the Bootstrapping technique.\n",
    "\n",
    "## Data description\n",
    "\n",
    "Geological exploration data for the three regions are stored in files:\n",
    "\n",
    "- `id` — unique oil well identifier\n",
    "- `f0, f1, f2` — three features of points (their specific meaning is unimportant, but the features themselves are significant)\n",
    "- `product` — volume of reserves in the oil well (thousand barrels).\n",
    "\n",
    "Conditions:\n",
    "- Only linear regression is suitable for model training (the rest are not sufficiently predictable).\n",
    "- When exploring the region, a study of 500 points is carried with picking the best 200 points for the profit calculation.\n",
    "- The budget for development of 200 oil wells is 100 USD million.\n",
    "- One barrel of raw materials brings 4.5 USD of revenue The revenue from one unit of product is 4,500 dollars (volume of reserves is in thousand barrels).\n",
    "- After the risk evaluation, keep only the regions with the risk of losses lower than 2.5%. From the ones that fit the criteria, the region with the highest average profit should be selected."
   ]
  },
  {
   "cell_type": "code",
   "execution_count": 1,
   "metadata": {},
   "outputs": [],
   "source": [
    "import pandas as pd\n",
    "import numpy as np\n",
    "from scipy import stats as st\n",
    "from sklearn.model_selection import train_test_split\n",
    "from sklearn.linear_model import LinearRegression\n",
    "from sklearn.metrics import mean_squared_error"
   ]
  },
  {
   "cell_type": "markdown",
   "metadata": {},
   "source": [
    "## Data loading and preparation"
   ]
  },
  {
   "cell_type": "code",
   "execution_count": 2,
   "metadata": {},
   "outputs": [],
   "source": [
    "# Read data into dataframes with different regions\n",
    "df_reg0 = pd.read_csv('datasets/geo_data_0.csv')\n",
    "df_reg1 = pd.read_csv('datasets/geo_data_1.csv')\n",
    "df_reg2 = pd.read_csv('datasets/geo_data_2.csv')"
   ]
  },
  {
   "cell_type": "code",
   "execution_count": 3,
   "metadata": {},
   "outputs": [
    {
     "name": "stdout",
     "output_type": "stream",
     "text": [
      "<class 'pandas.core.frame.DataFrame'>\n",
      "RangeIndex: 100000 entries, 0 to 99999\n",
      "Data columns (total 5 columns):\n",
      " #   Column   Non-Null Count   Dtype  \n",
      "---  ------   --------------   -----  \n",
      " 0   id       100000 non-null  object \n",
      " 1   f0       100000 non-null  float64\n",
      " 2   f1       100000 non-null  float64\n",
      " 3   f2       100000 non-null  float64\n",
      " 4   product  100000 non-null  float64\n",
      "dtypes: float64(4), object(1)\n",
      "memory usage: 3.8+ MB\n"
     ]
    },
    {
     "data": {
      "text/html": [
       "<div>\n",
       "<style scoped>\n",
       "    .dataframe tbody tr th:only-of-type {\n",
       "        vertical-align: middle;\n",
       "    }\n",
       "\n",
       "    .dataframe tbody tr th {\n",
       "        vertical-align: top;\n",
       "    }\n",
       "\n",
       "    .dataframe thead th {\n",
       "        text-align: right;\n",
       "    }\n",
       "</style>\n",
       "<table border=\"1\" class=\"dataframe\">\n",
       "  <thead>\n",
       "    <tr style=\"text-align: right;\">\n",
       "      <th></th>\n",
       "      <th>id</th>\n",
       "      <th>f0</th>\n",
       "      <th>f1</th>\n",
       "      <th>f2</th>\n",
       "      <th>product</th>\n",
       "    </tr>\n",
       "  </thead>\n",
       "  <tbody>\n",
       "    <tr>\n",
       "      <th>0</th>\n",
       "      <td>txEyH</td>\n",
       "      <td>0.705745</td>\n",
       "      <td>-0.497823</td>\n",
       "      <td>1.221170</td>\n",
       "      <td>105.280062</td>\n",
       "    </tr>\n",
       "    <tr>\n",
       "      <th>1</th>\n",
       "      <td>2acmU</td>\n",
       "      <td>1.334711</td>\n",
       "      <td>-0.340164</td>\n",
       "      <td>4.365080</td>\n",
       "      <td>73.037750</td>\n",
       "    </tr>\n",
       "    <tr>\n",
       "      <th>2</th>\n",
       "      <td>409Wp</td>\n",
       "      <td>1.022732</td>\n",
       "      <td>0.151990</td>\n",
       "      <td>1.419926</td>\n",
       "      <td>85.265647</td>\n",
       "    </tr>\n",
       "    <tr>\n",
       "      <th>3</th>\n",
       "      <td>iJLyR</td>\n",
       "      <td>-0.032172</td>\n",
       "      <td>0.139033</td>\n",
       "      <td>2.978566</td>\n",
       "      <td>168.620776</td>\n",
       "    </tr>\n",
       "    <tr>\n",
       "      <th>4</th>\n",
       "      <td>Xdl7t</td>\n",
       "      <td>1.988431</td>\n",
       "      <td>0.155413</td>\n",
       "      <td>4.751769</td>\n",
       "      <td>154.036647</td>\n",
       "    </tr>\n",
       "  </tbody>\n",
       "</table>\n",
       "</div>"
      ],
      "text/plain": [
       "      id        f0        f1        f2     product\n",
       "0  txEyH  0.705745 -0.497823  1.221170  105.280062\n",
       "1  2acmU  1.334711 -0.340164  4.365080   73.037750\n",
       "2  409Wp  1.022732  0.151990  1.419926   85.265647\n",
       "3  iJLyR -0.032172  0.139033  2.978566  168.620776\n",
       "4  Xdl7t  1.988431  0.155413  4.751769  154.036647"
      ]
     },
     "metadata": {},
     "output_type": "display_data"
    },
    {
     "data": {
      "text/html": [
       "<div>\n",
       "<style scoped>\n",
       "    .dataframe tbody tr th:only-of-type {\n",
       "        vertical-align: middle;\n",
       "    }\n",
       "\n",
       "    .dataframe tbody tr th {\n",
       "        vertical-align: top;\n",
       "    }\n",
       "\n",
       "    .dataframe thead th {\n",
       "        text-align: right;\n",
       "    }\n",
       "</style>\n",
       "<table border=\"1\" class=\"dataframe\">\n",
       "  <thead>\n",
       "    <tr style=\"text-align: right;\">\n",
       "      <th></th>\n",
       "      <th>f0</th>\n",
       "      <th>f1</th>\n",
       "      <th>f2</th>\n",
       "      <th>product</th>\n",
       "    </tr>\n",
       "  </thead>\n",
       "  <tbody>\n",
       "    <tr>\n",
       "      <th>count</th>\n",
       "      <td>100000.000000</td>\n",
       "      <td>100000.000000</td>\n",
       "      <td>100000.000000</td>\n",
       "      <td>100000.000000</td>\n",
       "    </tr>\n",
       "    <tr>\n",
       "      <th>mean</th>\n",
       "      <td>0.500419</td>\n",
       "      <td>0.250143</td>\n",
       "      <td>2.502647</td>\n",
       "      <td>92.500000</td>\n",
       "    </tr>\n",
       "    <tr>\n",
       "      <th>std</th>\n",
       "      <td>0.871832</td>\n",
       "      <td>0.504433</td>\n",
       "      <td>3.248248</td>\n",
       "      <td>44.288691</td>\n",
       "    </tr>\n",
       "    <tr>\n",
       "      <th>min</th>\n",
       "      <td>-1.408605</td>\n",
       "      <td>-0.848218</td>\n",
       "      <td>-12.088328</td>\n",
       "      <td>0.000000</td>\n",
       "    </tr>\n",
       "    <tr>\n",
       "      <th>25%</th>\n",
       "      <td>-0.072580</td>\n",
       "      <td>-0.200881</td>\n",
       "      <td>0.287748</td>\n",
       "      <td>56.497507</td>\n",
       "    </tr>\n",
       "    <tr>\n",
       "      <th>50%</th>\n",
       "      <td>0.502360</td>\n",
       "      <td>0.250252</td>\n",
       "      <td>2.515969</td>\n",
       "      <td>91.849972</td>\n",
       "    </tr>\n",
       "    <tr>\n",
       "      <th>75%</th>\n",
       "      <td>1.073581</td>\n",
       "      <td>0.700646</td>\n",
       "      <td>4.715088</td>\n",
       "      <td>128.564089</td>\n",
       "    </tr>\n",
       "    <tr>\n",
       "      <th>max</th>\n",
       "      <td>2.362331</td>\n",
       "      <td>1.343769</td>\n",
       "      <td>16.003790</td>\n",
       "      <td>185.364347</td>\n",
       "    </tr>\n",
       "  </tbody>\n",
       "</table>\n",
       "</div>"
      ],
      "text/plain": [
       "                  f0             f1             f2        product\n",
       "count  100000.000000  100000.000000  100000.000000  100000.000000\n",
       "mean        0.500419       0.250143       2.502647      92.500000\n",
       "std         0.871832       0.504433       3.248248      44.288691\n",
       "min        -1.408605      -0.848218     -12.088328       0.000000\n",
       "25%        -0.072580      -0.200881       0.287748      56.497507\n",
       "50%         0.502360       0.250252       2.515969      91.849972\n",
       "75%         1.073581       0.700646       4.715088     128.564089\n",
       "max         2.362331       1.343769      16.003790     185.364347"
      ]
     },
     "metadata": {},
     "output_type": "display_data"
    }
   ],
   "source": [
    "# Display information on region 0\n",
    "df_reg0.info()\n",
    "display(df_reg0.head())\n",
    "display(df_reg0.describe())"
   ]
  },
  {
   "cell_type": "code",
   "execution_count": 4,
   "metadata": {},
   "outputs": [
    {
     "name": "stdout",
     "output_type": "stream",
     "text": [
      "<class 'pandas.core.frame.DataFrame'>\n",
      "RangeIndex: 100000 entries, 0 to 99999\n",
      "Data columns (total 5 columns):\n",
      " #   Column   Non-Null Count   Dtype  \n",
      "---  ------   --------------   -----  \n",
      " 0   id       100000 non-null  object \n",
      " 1   f0       100000 non-null  float64\n",
      " 2   f1       100000 non-null  float64\n",
      " 3   f2       100000 non-null  float64\n",
      " 4   product  100000 non-null  float64\n",
      "dtypes: float64(4), object(1)\n",
      "memory usage: 3.8+ MB\n"
     ]
    },
    {
     "data": {
      "text/html": [
       "<div>\n",
       "<style scoped>\n",
       "    .dataframe tbody tr th:only-of-type {\n",
       "        vertical-align: middle;\n",
       "    }\n",
       "\n",
       "    .dataframe tbody tr th {\n",
       "        vertical-align: top;\n",
       "    }\n",
       "\n",
       "    .dataframe thead th {\n",
       "        text-align: right;\n",
       "    }\n",
       "</style>\n",
       "<table border=\"1\" class=\"dataframe\">\n",
       "  <thead>\n",
       "    <tr style=\"text-align: right;\">\n",
       "      <th></th>\n",
       "      <th>id</th>\n",
       "      <th>f0</th>\n",
       "      <th>f1</th>\n",
       "      <th>f2</th>\n",
       "      <th>product</th>\n",
       "    </tr>\n",
       "  </thead>\n",
       "  <tbody>\n",
       "    <tr>\n",
       "      <th>0</th>\n",
       "      <td>kBEdx</td>\n",
       "      <td>-15.001348</td>\n",
       "      <td>-8.276000</td>\n",
       "      <td>-0.005876</td>\n",
       "      <td>3.179103</td>\n",
       "    </tr>\n",
       "    <tr>\n",
       "      <th>1</th>\n",
       "      <td>62mP7</td>\n",
       "      <td>14.272088</td>\n",
       "      <td>-3.475083</td>\n",
       "      <td>0.999183</td>\n",
       "      <td>26.953261</td>\n",
       "    </tr>\n",
       "    <tr>\n",
       "      <th>2</th>\n",
       "      <td>vyE1P</td>\n",
       "      <td>6.263187</td>\n",
       "      <td>-5.948386</td>\n",
       "      <td>5.001160</td>\n",
       "      <td>134.766305</td>\n",
       "    </tr>\n",
       "    <tr>\n",
       "      <th>3</th>\n",
       "      <td>KcrkZ</td>\n",
       "      <td>-13.081196</td>\n",
       "      <td>-11.506057</td>\n",
       "      <td>4.999415</td>\n",
       "      <td>137.945408</td>\n",
       "    </tr>\n",
       "    <tr>\n",
       "      <th>4</th>\n",
       "      <td>AHL4O</td>\n",
       "      <td>12.702195</td>\n",
       "      <td>-8.147433</td>\n",
       "      <td>5.004363</td>\n",
       "      <td>134.766305</td>\n",
       "    </tr>\n",
       "  </tbody>\n",
       "</table>\n",
       "</div>"
      ],
      "text/plain": [
       "      id         f0         f1        f2     product\n",
       "0  kBEdx -15.001348  -8.276000 -0.005876    3.179103\n",
       "1  62mP7  14.272088  -3.475083  0.999183   26.953261\n",
       "2  vyE1P   6.263187  -5.948386  5.001160  134.766305\n",
       "3  KcrkZ -13.081196 -11.506057  4.999415  137.945408\n",
       "4  AHL4O  12.702195  -8.147433  5.004363  134.766305"
      ]
     },
     "metadata": {},
     "output_type": "display_data"
    },
    {
     "data": {
      "text/html": [
       "<div>\n",
       "<style scoped>\n",
       "    .dataframe tbody tr th:only-of-type {\n",
       "        vertical-align: middle;\n",
       "    }\n",
       "\n",
       "    .dataframe tbody tr th {\n",
       "        vertical-align: top;\n",
       "    }\n",
       "\n",
       "    .dataframe thead th {\n",
       "        text-align: right;\n",
       "    }\n",
       "</style>\n",
       "<table border=\"1\" class=\"dataframe\">\n",
       "  <thead>\n",
       "    <tr style=\"text-align: right;\">\n",
       "      <th></th>\n",
       "      <th>f0</th>\n",
       "      <th>f1</th>\n",
       "      <th>f2</th>\n",
       "      <th>product</th>\n",
       "    </tr>\n",
       "  </thead>\n",
       "  <tbody>\n",
       "    <tr>\n",
       "      <th>count</th>\n",
       "      <td>100000.000000</td>\n",
       "      <td>100000.000000</td>\n",
       "      <td>100000.000000</td>\n",
       "      <td>100000.000000</td>\n",
       "    </tr>\n",
       "    <tr>\n",
       "      <th>mean</th>\n",
       "      <td>1.141296</td>\n",
       "      <td>-4.796579</td>\n",
       "      <td>2.494541</td>\n",
       "      <td>68.825000</td>\n",
       "    </tr>\n",
       "    <tr>\n",
       "      <th>std</th>\n",
       "      <td>8.965932</td>\n",
       "      <td>5.119872</td>\n",
       "      <td>1.703572</td>\n",
       "      <td>45.944423</td>\n",
       "    </tr>\n",
       "    <tr>\n",
       "      <th>min</th>\n",
       "      <td>-31.609576</td>\n",
       "      <td>-26.358598</td>\n",
       "      <td>-0.018144</td>\n",
       "      <td>0.000000</td>\n",
       "    </tr>\n",
       "    <tr>\n",
       "      <th>25%</th>\n",
       "      <td>-6.298551</td>\n",
       "      <td>-8.267985</td>\n",
       "      <td>1.000021</td>\n",
       "      <td>26.953261</td>\n",
       "    </tr>\n",
       "    <tr>\n",
       "      <th>50%</th>\n",
       "      <td>1.153055</td>\n",
       "      <td>-4.813172</td>\n",
       "      <td>2.011479</td>\n",
       "      <td>57.085625</td>\n",
       "    </tr>\n",
       "    <tr>\n",
       "      <th>75%</th>\n",
       "      <td>8.621015</td>\n",
       "      <td>-1.332816</td>\n",
       "      <td>3.999904</td>\n",
       "      <td>107.813044</td>\n",
       "    </tr>\n",
       "    <tr>\n",
       "      <th>max</th>\n",
       "      <td>29.421755</td>\n",
       "      <td>18.734063</td>\n",
       "      <td>5.019721</td>\n",
       "      <td>137.945408</td>\n",
       "    </tr>\n",
       "  </tbody>\n",
       "</table>\n",
       "</div>"
      ],
      "text/plain": [
       "                  f0             f1             f2        product\n",
       "count  100000.000000  100000.000000  100000.000000  100000.000000\n",
       "mean        1.141296      -4.796579       2.494541      68.825000\n",
       "std         8.965932       5.119872       1.703572      45.944423\n",
       "min       -31.609576     -26.358598      -0.018144       0.000000\n",
       "25%        -6.298551      -8.267985       1.000021      26.953261\n",
       "50%         1.153055      -4.813172       2.011479      57.085625\n",
       "75%         8.621015      -1.332816       3.999904     107.813044\n",
       "max        29.421755      18.734063       5.019721     137.945408"
      ]
     },
     "metadata": {},
     "output_type": "display_data"
    }
   ],
   "source": [
    "# Display information on region 1\n",
    "df_reg1.info()\n",
    "display(df_reg1.head())\n",
    "display(df_reg1.describe())"
   ]
  },
  {
   "cell_type": "code",
   "execution_count": 5,
   "metadata": {},
   "outputs": [
    {
     "name": "stdout",
     "output_type": "stream",
     "text": [
      "<class 'pandas.core.frame.DataFrame'>\n",
      "RangeIndex: 100000 entries, 0 to 99999\n",
      "Data columns (total 5 columns):\n",
      " #   Column   Non-Null Count   Dtype  \n",
      "---  ------   --------------   -----  \n",
      " 0   id       100000 non-null  object \n",
      " 1   f0       100000 non-null  float64\n",
      " 2   f1       100000 non-null  float64\n",
      " 3   f2       100000 non-null  float64\n",
      " 4   product  100000 non-null  float64\n",
      "dtypes: float64(4), object(1)\n",
      "memory usage: 3.8+ MB\n"
     ]
    },
    {
     "data": {
      "text/html": [
       "<div>\n",
       "<style scoped>\n",
       "    .dataframe tbody tr th:only-of-type {\n",
       "        vertical-align: middle;\n",
       "    }\n",
       "\n",
       "    .dataframe tbody tr th {\n",
       "        vertical-align: top;\n",
       "    }\n",
       "\n",
       "    .dataframe thead th {\n",
       "        text-align: right;\n",
       "    }\n",
       "</style>\n",
       "<table border=\"1\" class=\"dataframe\">\n",
       "  <thead>\n",
       "    <tr style=\"text-align: right;\">\n",
       "      <th></th>\n",
       "      <th>id</th>\n",
       "      <th>f0</th>\n",
       "      <th>f1</th>\n",
       "      <th>f2</th>\n",
       "      <th>product</th>\n",
       "    </tr>\n",
       "  </thead>\n",
       "  <tbody>\n",
       "    <tr>\n",
       "      <th>0</th>\n",
       "      <td>fwXo0</td>\n",
       "      <td>-1.146987</td>\n",
       "      <td>0.963328</td>\n",
       "      <td>-0.828965</td>\n",
       "      <td>27.758673</td>\n",
       "    </tr>\n",
       "    <tr>\n",
       "      <th>1</th>\n",
       "      <td>WJtFt</td>\n",
       "      <td>0.262778</td>\n",
       "      <td>0.269839</td>\n",
       "      <td>-2.530187</td>\n",
       "      <td>56.069697</td>\n",
       "    </tr>\n",
       "    <tr>\n",
       "      <th>2</th>\n",
       "      <td>ovLUW</td>\n",
       "      <td>0.194587</td>\n",
       "      <td>0.289035</td>\n",
       "      <td>-5.586433</td>\n",
       "      <td>62.871910</td>\n",
       "    </tr>\n",
       "    <tr>\n",
       "      <th>3</th>\n",
       "      <td>q6cA6</td>\n",
       "      <td>2.236060</td>\n",
       "      <td>-0.553760</td>\n",
       "      <td>0.930038</td>\n",
       "      <td>114.572842</td>\n",
       "    </tr>\n",
       "    <tr>\n",
       "      <th>4</th>\n",
       "      <td>WPMUX</td>\n",
       "      <td>-0.515993</td>\n",
       "      <td>1.716266</td>\n",
       "      <td>5.899011</td>\n",
       "      <td>149.600746</td>\n",
       "    </tr>\n",
       "  </tbody>\n",
       "</table>\n",
       "</div>"
      ],
      "text/plain": [
       "      id        f0        f1        f2     product\n",
       "0  fwXo0 -1.146987  0.963328 -0.828965   27.758673\n",
       "1  WJtFt  0.262778  0.269839 -2.530187   56.069697\n",
       "2  ovLUW  0.194587  0.289035 -5.586433   62.871910\n",
       "3  q6cA6  2.236060 -0.553760  0.930038  114.572842\n",
       "4  WPMUX -0.515993  1.716266  5.899011  149.600746"
      ]
     },
     "metadata": {},
     "output_type": "display_data"
    },
    {
     "data": {
      "text/html": [
       "<div>\n",
       "<style scoped>\n",
       "    .dataframe tbody tr th:only-of-type {\n",
       "        vertical-align: middle;\n",
       "    }\n",
       "\n",
       "    .dataframe tbody tr th {\n",
       "        vertical-align: top;\n",
       "    }\n",
       "\n",
       "    .dataframe thead th {\n",
       "        text-align: right;\n",
       "    }\n",
       "</style>\n",
       "<table border=\"1\" class=\"dataframe\">\n",
       "  <thead>\n",
       "    <tr style=\"text-align: right;\">\n",
       "      <th></th>\n",
       "      <th>f0</th>\n",
       "      <th>f1</th>\n",
       "      <th>f2</th>\n",
       "      <th>product</th>\n",
       "    </tr>\n",
       "  </thead>\n",
       "  <tbody>\n",
       "    <tr>\n",
       "      <th>count</th>\n",
       "      <td>100000.000000</td>\n",
       "      <td>100000.000000</td>\n",
       "      <td>100000.000000</td>\n",
       "      <td>100000.000000</td>\n",
       "    </tr>\n",
       "    <tr>\n",
       "      <th>mean</th>\n",
       "      <td>0.002023</td>\n",
       "      <td>-0.002081</td>\n",
       "      <td>2.495128</td>\n",
       "      <td>95.000000</td>\n",
       "    </tr>\n",
       "    <tr>\n",
       "      <th>std</th>\n",
       "      <td>1.732045</td>\n",
       "      <td>1.730417</td>\n",
       "      <td>3.473445</td>\n",
       "      <td>44.749921</td>\n",
       "    </tr>\n",
       "    <tr>\n",
       "      <th>min</th>\n",
       "      <td>-8.760004</td>\n",
       "      <td>-7.084020</td>\n",
       "      <td>-11.970335</td>\n",
       "      <td>0.000000</td>\n",
       "    </tr>\n",
       "    <tr>\n",
       "      <th>25%</th>\n",
       "      <td>-1.162288</td>\n",
       "      <td>-1.174820</td>\n",
       "      <td>0.130359</td>\n",
       "      <td>59.450441</td>\n",
       "    </tr>\n",
       "    <tr>\n",
       "      <th>50%</th>\n",
       "      <td>0.009424</td>\n",
       "      <td>-0.009482</td>\n",
       "      <td>2.484236</td>\n",
       "      <td>94.925613</td>\n",
       "    </tr>\n",
       "    <tr>\n",
       "      <th>75%</th>\n",
       "      <td>1.158535</td>\n",
       "      <td>1.163678</td>\n",
       "      <td>4.858794</td>\n",
       "      <td>130.595027</td>\n",
       "    </tr>\n",
       "    <tr>\n",
       "      <th>max</th>\n",
       "      <td>7.238262</td>\n",
       "      <td>7.844801</td>\n",
       "      <td>16.739402</td>\n",
       "      <td>190.029838</td>\n",
       "    </tr>\n",
       "  </tbody>\n",
       "</table>\n",
       "</div>"
      ],
      "text/plain": [
       "                  f0             f1             f2        product\n",
       "count  100000.000000  100000.000000  100000.000000  100000.000000\n",
       "mean        0.002023      -0.002081       2.495128      95.000000\n",
       "std         1.732045       1.730417       3.473445      44.749921\n",
       "min        -8.760004      -7.084020     -11.970335       0.000000\n",
       "25%        -1.162288      -1.174820       0.130359      59.450441\n",
       "50%         0.009424      -0.009482       2.484236      94.925613\n",
       "75%         1.158535       1.163678       4.858794     130.595027\n",
       "max         7.238262       7.844801      16.739402     190.029838"
      ]
     },
     "metadata": {},
     "output_type": "display_data"
    }
   ],
   "source": [
    "# Display information on region 2\n",
    "df_reg2.info()\n",
    "display(df_reg2.head())\n",
    "display(df_reg2.describe())"
   ]
  },
  {
   "cell_type": "code",
   "execution_count": 6,
   "metadata": {},
   "outputs": [],
   "source": [
    "# Split data into features and target\n",
    "# Region 0\n",
    "features_reg0 = df_reg0.drop(['id', 'product'], axis=1)\n",
    "target_reg0 = df_reg0['product']\n",
    "\n",
    "# Region 1\n",
    "features_reg1 = df_reg1.drop(['id', 'product'], axis=1)\n",
    "target_reg1 = df_reg1['product']\n",
    "\n",
    "# Region 2\n",
    "features_reg2 = df_reg2.drop(['id', 'product'], axis=1)\n",
    "target_reg2 = df_reg2['product']"
   ]
  },
  {
   "cell_type": "code",
   "execution_count": 7,
   "metadata": {},
   "outputs": [],
   "source": [
    "# Split data into training and validation set 75/25\n",
    "# Region 0\n",
    "features_train_reg0, features_valid_reg0, target_train_reg0, target_valid_reg0 = train_test_split(features_reg0, target_reg0, test_size=0.25, random_state=12345)\n",
    "\n",
    "# Region 1\n",
    "features_train_reg1, features_valid_reg1, target_train_reg1, target_valid_reg1 = train_test_split(features_reg1, target_reg1, test_size=0.25, random_state=12345)\n",
    "\n",
    "# Region 2\n",
    "features_train_reg2, features_valid_reg2, target_train_reg2, target_valid_reg2 = train_test_split(features_reg2, target_reg2, test_size=0.25, random_state=12345)"
   ]
  },
  {
   "cell_type": "code",
   "execution_count": 8,
   "metadata": {},
   "outputs": [
    {
     "name": "stdout",
     "output_type": "stream",
     "text": [
      "Features training set size: (75000, 3)\n",
      "Features validation set size: (25000, 3)\n",
      "Target training set size: (75000,)\n",
      "Target validation set size: (25000,)\n"
     ]
    }
   ],
   "source": [
    "# Confirm training and validation set sizes\n",
    "print('Features training set size:', features_train_reg0.shape)\n",
    "print('Features validation set size:', features_valid_reg0.shape)\n",
    "print('Target training set size:', target_train_reg0.shape)\n",
    "print('Target validation set size:', target_valid_reg0.shape)"
   ]
  },
  {
   "cell_type": "markdown",
   "metadata": {},
   "source": [
    "## Model training and evaluation"
   ]
  },
  {
   "cell_type": "code",
   "execution_count": 9,
   "metadata": {},
   "outputs": [],
   "source": [
    "# Train linear regression on model and prediction on validation set\n",
    "# Region 0\n",
    "model_reg0 = LinearRegression()\n",
    "model_reg0.fit(features_train_reg0, target_train_reg0)\n",
    "predicted_valid_reg0 = model_reg0.predict(features_valid_reg0)\n",
    "\n",
    "# Region 1\n",
    "model_reg1 = LinearRegression()\n",
    "model_reg1.fit(features_train_reg1, target_train_reg1)\n",
    "predicted_valid_reg1 = model_reg1.predict(features_valid_reg1)\n",
    "\n",
    "# Region 2\n",
    "model_reg2 = LinearRegression()\n",
    "model_reg2.fit(features_train_reg2, target_train_reg2)\n",
    "predicted_valid_reg2 = model_reg2.predict(features_valid_reg2)"
   ]
  },
  {
   "cell_type": "code",
   "execution_count": 10,
   "metadata": {},
   "outputs": [
    {
     "name": "stdout",
     "output_type": "stream",
     "text": [
      "Region 0: Average volume of predicted reserves: 92.59256778438035, RMSE: 37.5794217150813\n",
      "Region 1: Average volume of predicted reserves: 68.728546895446, RMSE: 0.8930992867756166\n",
      "Region 2: Average volume of predicted reserves: 94.96504596800492, RMSE: 40.02970873393434\n"
     ]
    }
   ],
   "source": [
    "# Calculate average volume for predictions, and RMSE\n",
    "# Region 0\n",
    "rmse_reg0 = mean_squared_error(target_valid_reg0, predicted_valid_reg0, squared=False)\n",
    "avgVol_reg0 = predicted_valid_reg0.mean()\n",
    "print(f'Region 0: Average volume of predicted reserves: {avgVol_reg0}, RMSE: {rmse_reg0}')\n",
    "\n",
    "# Region 1\n",
    "rmse_reg1 = mean_squared_error(target_valid_reg1, predicted_valid_reg1, squared=False)\n",
    "avgVol_reg1 = predicted_valid_reg1.mean()\n",
    "print(f'Region 1: Average volume of predicted reserves: {avgVol_reg1}, RMSE: {rmse_reg1}')\n",
    "\n",
    "# Region 2\n",
    "rmse_reg2 = mean_squared_error(target_valid_reg2, predicted_valid_reg2, squared=False)\n",
    "avgVol_reg2 = predicted_valid_reg2.mean()\n",
    "print(f'Region 2: Average volume of predicted reserves: {avgVol_reg2}, RMSE: {rmse_reg2}')"
   ]
  },
  {
   "cell_type": "code",
   "execution_count": 11,
   "metadata": {},
   "outputs": [],
   "source": [
    "# Sanity check rmse values using a constant prediction consisting of the mean values\n",
    "prediction_constant_reg0 = pd.Series(avgVol_reg0, index=target_valid_reg0.index) # Region 0\n",
    "prediction_constant_reg1 = pd.Series(avgVol_reg1, index=target_valid_reg1.index) # Region 1\n",
    "prediction_constant_reg2 = pd.Series(avgVol_reg2, index=target_valid_reg2.index) # Region 2"
   ]
  },
  {
   "cell_type": "code",
   "execution_count": 12,
   "metadata": {},
   "outputs": [
    {
     "name": "stdout",
     "output_type": "stream",
     "text": [
      "Region 0: constant prediction check rmse: 44.28900927907034\n",
      "Region 1: constant prediction check rmse: 46.02124524071516\n",
      "Region 2: constant prediction check rmse: 44.902157099150436\n"
     ]
    }
   ],
   "source": [
    "# Calculate RMSE of the constant prediction\n",
    "rmse_constant_reg0 = mean_squared_error(target_valid_reg0, prediction_constant_reg0, squared=False)\n",
    "rmse_constant_reg1 = mean_squared_error(target_valid_reg1, prediction_constant_reg1, squared=False)\n",
    "rmse_constant_reg2 = mean_squared_error(target_valid_reg2, prediction_constant_reg2, squared=False)\n",
    "\n",
    "# Print the results\n",
    "print(f'Region 0: constant prediction check rmse: {rmse_constant_reg0}')\n",
    "print(f'Region 1: constant prediction check rmse: {rmse_constant_reg1}')\n",
    "print(f'Region 2: constant prediction check rmse: {rmse_constant_reg2}')"
   ]
  },
  {
   "cell_type": "markdown",
   "metadata": {},
   "source": [
    "The ranking in terms of average volume of predicted reserves from high to low is region 2 > region 1 > region 0. The determined RMSE is better when compared against a constant prediction of the average value, and in all cases, the predictions from the trained model has a lower RMSE. This means that the trained model has a positive degree of prediction, being closer to the actual target values. The predictions for region 1 suggest very low error with a RMSE of less than 1 indicating that the model is trained well for this data set."
   ]
  },
  {
   "cell_type": "markdown",
   "metadata": {},
   "source": [
    "## Profit calculations"
   ]
  },
  {
   "cell_type": "code",
   "execution_count": 13,
   "metadata": {},
   "outputs": [
    {
     "name": "stdout",
     "output_type": "stream",
     "text": [
      "Average volume per well to breakeven: 111.11, with costs per well: 500000.0\n",
      "Average volume in region 0: 92.49999999999974\n",
      "Average volume in region 1: 68.82500000002561\n",
      "Average volume in region 2: 95.00000000000041\n"
     ]
    }
   ],
   "source": [
    "n_oil_wells = 200 # development for 200 wells\n",
    "budget = 100000000 # USD million for n_oil_wells budget\n",
    "rev_per_product = 4500 # revenue from one unit of product USD\n",
    "cost_per_well = budget / n_oil_wells \n",
    "vol_breakeven = cost_per_well / rev_per_product # average volume of reserve to breakeven\n",
    "print(f'Average volume per well to breakeven: {vol_breakeven:.2f}, with costs per well: {cost_per_well}')\n",
    "\n",
    "print('Average volume in region 0:', target_reg0.mean())\n",
    "print('Average volume in region 1:', target_reg1.mean())\n",
    "print('Average volume in region 2:', target_reg2.mean())"
   ]
  },
  {
   "cell_type": "markdown",
   "metadata": {},
   "source": [
    "Given the conditions of a budget of 100 million USD for the development of 200 oil wells, and that each unit of product brings 4500 dollars of revenue, this results in an average cost per well to be $500,000, and an average volume per well needing to be at least 111.11 in order to breakeven. When we look at the average volume in each region, these values are well below the average volume per well needed to breakeven. This means that one cannot randomly select 200 oil wells in a region and expect to make a profit. Rather, identifying the most profitable oil wells and in which region is necessary to potentially maximize profit."
   ]
  },
  {
   "cell_type": "code",
   "execution_count": 14,
   "metadata": {},
   "outputs": [],
   "source": [
    "# Function to calculate profit from target set given predictions\n",
    "def profit(target, predictions):\n",
    "    # Sort predicted volumes from highest to lowest\n",
    "    pred_sorted = pd.Series(predictions, index=target.index).sort_values(ascending=False)\n",
    "    \n",
    "    # Take the corresponding top 200 predicted volumes to the actual product volume and calculate the total revenue\n",
    "    target_revenue = target[pred_sorted[0:200].index].sum() * rev_per_product\n",
    "\n",
    "    # Return profit\n",
    "    return target_revenue - budget # Budget of 100,000,000 dollars"
   ]
  },
  {
   "cell_type": "code",
   "execution_count": 15,
   "metadata": {},
   "outputs": [
    {
     "name": "stdout",
     "output_type": "stream",
     "text": [
      "Region 0: Model prediction max profit: $33208260.43\n",
      "Region 1: Model prediction max profit: $24150866.97\n",
      "Region 2: Model prediction max profit: $27103499.64\n"
     ]
    }
   ],
   "source": [
    "# For each validation set and region, calculate profit for the highest values of predictions\n",
    "# Region 0\n",
    "profit_reg0 = profit(target_valid_reg0, predicted_valid_reg0)\n",
    "print(f'Region 0: Model prediction max profit: ${profit_reg0:.2f}')\n",
    "\n",
    "# Region 1\n",
    "profit_reg1 = profit(target_valid_reg1, predicted_valid_reg1)\n",
    "print(f'Region 1: Model prediction max profit: ${profit_reg1:.2f}')\n",
    "\n",
    "# Region 2\n",
    "profit_reg2 = profit(target_valid_reg2, predicted_valid_reg2)\n",
    "print(f'Region 2: Model prediction max profit: ${profit_reg2:.2f}')"
   ]
  },
  {
   "cell_type": "markdown",
   "metadata": {},
   "source": [
    "In the entire region, the top 200 highest predicted volume reserves for oil wells were determined and the potential max profit was calculated. Based on this, it would be suggested for oil wells' development to be done in <b>Region 0</b> as this has potentially the highest profit of close of 33 million dollars compared to all of the other regions."
   ]
  },
  {
   "cell_type": "code",
   "execution_count": 16,
   "metadata": {},
   "outputs": [
    {
     "name": "stdout",
     "output_type": "stream",
     "text": [
      "Region 0: profit from randomly selected 500 points: $9886908.27\n",
      "Region 1: profit from randomly selected 500 points: $5918851.87\n",
      "Region 2: profit from randomly selected 500 points: $2283965.90\n"
     ]
    }
   ],
   "source": [
    "# Calculate profit from a random sample of 500 points, with top 200 in each set\n",
    "\n",
    "# Region 0\n",
    "# Sample 500 points\n",
    "features_valid_reg0_subsample = features_valid_reg0.sample(n=500, replace=True, random_state=12345)\n",
    "target_valid_reg0_subsample = target_valid_reg0[features_valid_reg0_subsample.index]\n",
    "\n",
    "# generate prediction on the samples\n",
    "pred_valid_reg0_subsample = model_reg0.predict(features_valid_reg0_subsample)\n",
    "\n",
    "# Calculate profit\n",
    "prof0 = profit(target_valid_reg0_subsample, pred_valid_reg0_subsample)\n",
    "print(f'Region 0: profit from randomly selected 500 points: ${prof0:.2f}')\n",
    "\n",
    "# Region 1\n",
    "features_valid_reg1_subsample = features_valid_reg1.sample(n=500, replace=True, random_state=12345)\n",
    "target_valid_reg1_subsample = target_valid_reg1[features_valid_reg1_subsample.index]\n",
    "pred_valid_reg1_subsample = model_reg1.predict(features_valid_reg1_subsample)\n",
    "prof1 = profit(target_valid_reg1_subsample, pred_valid_reg1_subsample)\n",
    "print(f'Region 1: profit from randomly selected 500 points: ${prof1:.2f}')\n",
    "\n",
    "# Region 2\n",
    "features_valid_reg2_subsample = features_valid_reg2.sample(n=500, replace=True, random_state=12345)\n",
    "target_valid_reg2_subsample = target_valid_reg2[features_valid_reg2_subsample.index]\n",
    "pred_valid_reg2_subsample = model_reg2.predict(features_valid_reg2_subsample)\n",
    "prof2 = profit(target_valid_reg2_subsample, pred_valid_reg2_subsample)\n",
    "print(f'Region 2: profit from randomly selected 500 points: ${prof2:.2f}')"
   ]
  },
  {
   "cell_type": "markdown",
   "metadata": {},
   "source": [
    "From one random measurement of 500 locations, the predicted best 200 wells indicate that Region 0 has the highest potential profit at close to 10 million dollars compared to the other regions."
   ]
  },
  {
   "cell_type": "markdown",
   "metadata": {},
   "source": [
    "## Distribution of profit per region"
   ]
  },
  {
   "cell_type": "markdown",
   "metadata": {},
   "source": [
    "Process here is to use bootstrapping technique with 1000 samples to find the distribution of profit. From a selection of 500 points, the top 200 predicted volumes and the expected profits are determined. From the 1000 samples, we can determine the average profit, and construct a 95% confidence interval. A count is also constructed to determine the percentage where profits are negative (loss)."
   ]
  },
  {
   "cell_type": "code",
   "execution_count": 17,
   "metadata": {},
   "outputs": [
    {
     "name": "stdout",
     "output_type": "stream",
     "text": [
      "Region 0: Average profit: 6007352.44\n",
      "95% confidence interval: 129483.31 - 12311636.06\n",
      "Risk of loss, percentage: 2.00%\n"
     ]
    }
   ],
   "source": [
    "# Region 0\n",
    "state = np.random.RandomState(12345)\n",
    "\n",
    "# Store profit values\n",
    "profit_dist_reg0 = []\n",
    "count_loss_reg0 = 0\n",
    "for i in range(1000):\n",
    "    # sampling 500 points\n",
    "    features_valid_reg0_subsample = features_valid_reg0.sample(n=500, replace=True, random_state=state)\n",
    "    target_valid_reg0_subsample = target_valid_reg0[features_valid_reg0_subsample.index]\n",
    "    # generate prediction on the samples\n",
    "    pred_valid_reg0_subsample = model_reg0.predict(features_valid_reg0_subsample)\n",
    "    # Calculate profit and add to profit values\n",
    "    prof = profit(target_valid_reg0_subsample, pred_valid_reg0_subsample)\n",
    "    profit_dist_reg0.append(prof)\n",
    "    # If at loss, add to counter\n",
    "    if prof < 0:\n",
    "        count_loss_reg0 += 1\n",
    "\n",
    "profit_reg0 = pd.Series(profit_dist_reg0) # convert to dataframe\n",
    "\n",
    "avg_profit_reg0 = profit_reg0.mean()\n",
    "\n",
    "# lower and upper quantiles for confidence interval 95%\n",
    "profit_lower = profit_reg0.quantile(0.025)\n",
    "profit_higher = profit_reg0.quantile(0.975)\n",
    "\n",
    "# Determine percentage of loss\n",
    "loss_percent_reg0 = count_loss_reg0 / len(profit_dist_reg0)\n",
    "\n",
    "# Print out results\n",
    "print(f'Region 0: Average profit: {avg_profit_reg0:.2f}')\n",
    "print(f'95% confidence interval: {profit_lower:.2f} - {profit_higher:.2f}')\n",
    "print(f'Risk of loss, percentage: {loss_percent_reg0:.2%}')"
   ]
  },
  {
   "cell_type": "code",
   "execution_count": 18,
   "metadata": {},
   "outputs": [
    {
     "name": "stdout",
     "output_type": "stream",
     "text": [
      "Region 1: Average profit: 6639589.95\n",
      "95% confidence interval: 2064763.61 - 11911976.85\n",
      "Risk of loss, percentage: 0.10%\n"
     ]
    }
   ],
   "source": [
    "# Region 1\n",
    "\n",
    "# Store profit values\n",
    "profit_dist_reg1 = []\n",
    "count_loss_reg1 = 0\n",
    "for i in range(1000):\n",
    "    # sampling 500 points\n",
    "    features_valid_reg1_subsample = features_valid_reg1.sample(n=500, replace=True, random_state=state)\n",
    "    target_valid_reg1_subsample = target_valid_reg1[features_valid_reg1_subsample.index]\n",
    "    # generate prediction on the samples\n",
    "    pred_valid_reg1_subsample = model_reg1.predict(features_valid_reg1_subsample)\n",
    "    # Calculate profit and add to profit values\n",
    "    prof = profit(target_valid_reg1_subsample, pred_valid_reg1_subsample)\n",
    "    profit_dist_reg1.append(prof)\n",
    "    # If at loss, add to counter\n",
    "    if prof < 0:\n",
    "        count_loss_reg1 += 1\n",
    "\n",
    "profit_reg1 = pd.Series(profit_dist_reg1) # convert to dataframe\n",
    "\n",
    "avg_profit_reg1 = profit_reg1.mean()\n",
    "\n",
    "# lower and upper quantiles for confidence interval 95%\n",
    "profit_lower = profit_reg1.quantile(0.025)\n",
    "profit_higher = profit_reg1.quantile(0.975)\n",
    "\n",
    "# Determine percentage of loss\n",
    "loss_percent_reg1 = count_loss_reg1 / len(profit_dist_reg1)\n",
    "\n",
    "# Print out results\n",
    "print(f'Region 1: Average profit: {avg_profit_reg1:.2f}')\n",
    "print(f'95% confidence interval: {profit_lower:.2f} - {profit_higher:.2f}')\n",
    "print(f'Risk of loss, percentage: {loss_percent_reg1:.2%}')"
   ]
  },
  {
   "cell_type": "code",
   "execution_count": 19,
   "metadata": {},
   "outputs": [
    {
     "name": "stdout",
     "output_type": "stream",
     "text": [
      "Region 2: Average profit: 5973810.48\n",
      "95% confidence interval: 17349.30 - 12462179.60\n",
      "Risk of loss, percentage: 2.50%\n"
     ]
    }
   ],
   "source": [
    "# Region 2\n",
    "\n",
    "# Store profit values\n",
    "profit_dist_reg2 = []\n",
    "count_loss_reg2 = 0\n",
    "for i in range(1000):\n",
    "    # sampling 500 points\n",
    "    features_valid_reg2_subsample = features_valid_reg2.sample(n=500, replace=True, random_state=state)\n",
    "    target_valid_reg2_subsample = target_valid_reg2[features_valid_reg2_subsample.index]\n",
    "    # generate prediction on the samples\n",
    "    pred_valid_reg2_subsample = model_reg2.predict(features_valid_reg2_subsample)\n",
    "    # Calculate profit and add to profit values\n",
    "    prof = profit(target_valid_reg2_subsample, pred_valid_reg2_subsample)\n",
    "    profit_dist_reg2.append(prof)\n",
    "    # If at loss, add to counter\n",
    "    if prof < 0:\n",
    "        count_loss_reg2 += 1\n",
    "\n",
    "profit_reg2 = pd.Series(profit_dist_reg2) # convert to dataframe\n",
    "\n",
    "avg_profit_reg2 = profit_reg2.mean()\n",
    "\n",
    "# lower and upper quantiles for confidence interval 95%\n",
    "profit_lower = profit_reg2.quantile(0.025)\n",
    "profit_higher = profit_reg2.quantile(0.975)\n",
    "\n",
    "# Determine percentage of loss\n",
    "loss_percent_reg2 = count_loss_reg2 / len(profit_dist_reg2)\n",
    "\n",
    "# Print out results\n",
    "print(f'Region 2: Average profit: {avg_profit_reg2:.2f}')\n",
    "print(f'95% confidence interval: {profit_lower:.2f} - {profit_higher:.2f}')\n",
    "print(f'Risk of loss, percentage: {loss_percent_reg2:.2%}')"
   ]
  },
  {
   "cell_type": "markdown",
   "metadata": {},
   "source": [
    "## Results and recommendations"
   ]
  },
  {
   "cell_type": "markdown",
   "metadata": {},
   "source": [
    "I recommend the choice of Region 1 for the development of the oil wells for the goal of maximizing profit.\n",
    "\n",
    "From this analysis, the highest average profit for oil well development would be in Region 1. Region 1 has the highest average profit of 6.64 million dollars, while Region 0 is slightly lower at about 6 million dollars.\n",
    "\n",
    "Not only does Region 1 have the highest average profit, the risk of losses is the lowest at 0.10%, compared to Region 0 at 2.0%. We can disregard Region 2 completely, because the calculated risk of loss is at 2.5%, which does not meet our criteria."
   ]
  }
 ],
 "metadata": {
  "kernelspec": {
   "display_name": "Python 3.9.12 ('base')",
   "language": "python",
   "name": "python3"
  },
  "language_info": {
   "codemirror_mode": {
    "name": "ipython",
    "version": 3
   },
   "file_extension": ".py",
   "mimetype": "text/x-python",
   "name": "python",
   "nbconvert_exporter": "python",
   "pygments_lexer": "ipython3",
   "version": "3.9.12"
  },
  "orig_nbformat": 4,
  "vscode": {
   "interpreter": {
    "hash": "ad2bdc8ecc057115af97d19610ffacc2b4e99fae6737bb82f5d7fb13d2f2c186"
   }
  }
 },
 "nbformat": 4,
 "nbformat_minor": 2
}
