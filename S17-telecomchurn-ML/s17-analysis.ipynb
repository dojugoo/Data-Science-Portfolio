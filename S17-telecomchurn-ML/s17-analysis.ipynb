{
 "cells": [
  {
   "attachments": {},
   "cell_type": "markdown",
   "metadata": {},
   "source": [
    "# Introduction <a id='intro'></a>\n",
    "\n",
    "The telecom operator, Interconnect, would like to forecast churn of their clients or the number of customers disconnecting their service over a given time period. Interconnect would like to ensure loyalty, and offer promotional codes and special plan options for those who are going to leave. The goal is to better understand why customers stay active or churned (terminate their service). Once we have a better idea of why people are leaving, the company can introduce measures to prevent ongoing churn.\n",
    "\n",
    "The datasets include the plan's contract information, clients' personal data, information on internet services and telephone services."
   ]
  },
  {
   "attachments": {},
   "cell_type": "markdown",
   "metadata": {},
   "source": [
    "# Table of Contents\n",
    "\n",
    "* [Introduction](#intro)\n",
    "* [Data initialization and preprocessing](#init)\n",
    "    * [Contract dataset](#contract)\n",
    "    * [Personal dataset](#personal)\n",
    "    * [Internet dataset](#internet)\n",
    "    * [Phone dataset](#phone)\n",
    "    * [Data preparation](#prep)\n",
    "* [Exploratory Data Analysis](#eda)\n",
    "* [Feature Engineering](#featureeng)\n",
    "* [Model Training](#modeltraining)\n",
    "* [Model Analysis](#modelanalysis)\n",
    "* [Conclusions](#conclusions)\n",
    "* [Report](#report)"
   ]
  },
  {
   "attachments": {},
   "cell_type": "markdown",
   "metadata": {},
   "source": [
    "## Overview of work\n",
    "The goal of this work is to develop a model that will predict whether users/clients of the telecom operator, Interconnect, plan to disconnect their service.\n",
    "\n",
    "We want to classify each client into one of two groups:\n",
    "1) Loyal customers who don't plan to leave (no churn)\n",
    "2) Customers who will disconnect their service (churned)\n",
    "\n",
    "Steps to achieve the goal:\n",
    "1) Download and inspect the datasets\n",
    "2) Initial data exploration to determine how the data needs to be preprocessed\n",
    "3) Perform data preprocessing. This includes:\n",
    "\n",
    "    a) normalizing column names\n",
    "    \n",
    "    b) changing columns to correct data types\n",
    "\n",
    "    c) checking and removing duplicate entries\n",
    "\n",
    "    d) merging data sets\n",
    "\n",
    "    e) treating missing and NaN values\n",
    "4) Exploratory data analysis (EDA), in-depth analysis on client data\n",
    "5) Feature engineering to prepare for machine learning models. This includes:\n",
    "\n",
    "    a) feature encoding (one-hot encoding for categorical features)\n",
    "\n",
    "    b) feature scaling\n",
    "\n",
    "    c) fix class imbalance\n",
    "6) Evaluate and train several different models\n",
    "\n",
    "    a) Base/dummy model for minimal quality model\n",
    "\n",
    "    b) Optimize training set for AUC-ROC and accuracy metrics\n",
    "7) Identify best model and evaluate on validation set\n",
    "8) Draw conclusions"
   ]
  },
  {
   "attachments": {},
   "cell_type": "markdown",
   "metadata": {},
   "source": [
    "## Data initialization and preprocessing <a id='init'></a>"
   ]
  },
  {
   "cell_type": "code",
   "execution_count": 1,
   "metadata": {},
   "outputs": [],
   "source": [
    "import pandas as pd\n",
    "import numpy as np\n",
    "import seaborn as sns\n",
    "import matplotlib.pyplot as plt\n",
    "\n",
    "from sklearn.model_selection import train_test_split\n",
    "from sklearn.preprocessing import MinMaxScaler\n",
    "from imblearn.over_sampling import SMOTE\n",
    "\n",
    "from sklearn.metrics import f1_score\n",
    "from sklearn.metrics import roc_auc_score\n",
    "from sklearn.metrics import average_precision_score\n",
    "from sklearn.metrics import precision_recall_curve\n",
    "from sklearn.metrics import accuracy_score\n",
    "from sklearn.metrics import roc_curve\n",
    "\n",
    "from sklearn.dummy import DummyClassifier\n",
    "from sklearn.linear_model import LogisticRegression\n",
    "from sklearn.ensemble import RandomForestClassifier\n",
    "import lightgbm as lgb"
   ]
  },
  {
   "cell_type": "code",
   "execution_count": 2,
   "metadata": {},
   "outputs": [],
   "source": [
    "# Read in datasets\n",
    "df_contract = pd.read_csv('datasets/contract.csv')\n",
    "df_personal = pd.read_csv('datasets/personal.csv')\n",
    "df_internet = pd.read_csv('datasets/internet.csv')\n",
    "df_phone = pd.read_csv('datasets/phone.csv')"
   ]
  },
  {
   "attachments": {},
   "cell_type": "markdown",
   "metadata": {},
   "source": [
    "### Contract dataset <a id='contract'></a>"
   ]
  },
  {
   "cell_type": "code",
   "execution_count": 3,
   "metadata": {},
   "outputs": [
    {
     "name": "stdout",
     "output_type": "stream",
     "text": [
      "<class 'pandas.core.frame.DataFrame'>\n",
      "RangeIndex: 7043 entries, 0 to 7042\n",
      "Data columns (total 8 columns):\n",
      " #   Column            Non-Null Count  Dtype  \n",
      "---  ------            --------------  -----  \n",
      " 0   customerID        7043 non-null   object \n",
      " 1   BeginDate         7043 non-null   object \n",
      " 2   EndDate           7043 non-null   object \n",
      " 3   Type              7043 non-null   object \n",
      " 4   PaperlessBilling  7043 non-null   object \n",
      " 5   PaymentMethod     7043 non-null   object \n",
      " 6   MonthlyCharges    7043 non-null   float64\n",
      " 7   TotalCharges      7043 non-null   object \n",
      "dtypes: float64(1), object(7)\n",
      "memory usage: 440.3+ KB\n"
     ]
    },
    {
     "data": {
      "text/html": [
       "<div>\n",
       "<style scoped>\n",
       "    .dataframe tbody tr th:only-of-type {\n",
       "        vertical-align: middle;\n",
       "    }\n",
       "\n",
       "    .dataframe tbody tr th {\n",
       "        vertical-align: top;\n",
       "    }\n",
       "\n",
       "    .dataframe thead th {\n",
       "        text-align: right;\n",
       "    }\n",
       "</style>\n",
       "<table border=\"1\" class=\"dataframe\">\n",
       "  <thead>\n",
       "    <tr style=\"text-align: right;\">\n",
       "      <th></th>\n",
       "      <th>customerID</th>\n",
       "      <th>BeginDate</th>\n",
       "      <th>EndDate</th>\n",
       "      <th>Type</th>\n",
       "      <th>PaperlessBilling</th>\n",
       "      <th>PaymentMethod</th>\n",
       "      <th>MonthlyCharges</th>\n",
       "      <th>TotalCharges</th>\n",
       "    </tr>\n",
       "  </thead>\n",
       "  <tbody>\n",
       "    <tr>\n",
       "      <th>0</th>\n",
       "      <td>7590-VHVEG</td>\n",
       "      <td>2020-01-01</td>\n",
       "      <td>No</td>\n",
       "      <td>Month-to-month</td>\n",
       "      <td>Yes</td>\n",
       "      <td>Electronic check</td>\n",
       "      <td>29.85</td>\n",
       "      <td>29.85</td>\n",
       "    </tr>\n",
       "    <tr>\n",
       "      <th>1</th>\n",
       "      <td>5575-GNVDE</td>\n",
       "      <td>2017-04-01</td>\n",
       "      <td>No</td>\n",
       "      <td>One year</td>\n",
       "      <td>No</td>\n",
       "      <td>Mailed check</td>\n",
       "      <td>56.95</td>\n",
       "      <td>1889.5</td>\n",
       "    </tr>\n",
       "    <tr>\n",
       "      <th>2</th>\n",
       "      <td>3668-QPYBK</td>\n",
       "      <td>2019-10-01</td>\n",
       "      <td>2019-12-01 00:00:00</td>\n",
       "      <td>Month-to-month</td>\n",
       "      <td>Yes</td>\n",
       "      <td>Mailed check</td>\n",
       "      <td>53.85</td>\n",
       "      <td>108.15</td>\n",
       "    </tr>\n",
       "    <tr>\n",
       "      <th>3</th>\n",
       "      <td>7795-CFOCW</td>\n",
       "      <td>2016-05-01</td>\n",
       "      <td>No</td>\n",
       "      <td>One year</td>\n",
       "      <td>No</td>\n",
       "      <td>Bank transfer (automatic)</td>\n",
       "      <td>42.30</td>\n",
       "      <td>1840.75</td>\n",
       "    </tr>\n",
       "    <tr>\n",
       "      <th>4</th>\n",
       "      <td>9237-HQITU</td>\n",
       "      <td>2019-09-01</td>\n",
       "      <td>2019-11-01 00:00:00</td>\n",
       "      <td>Month-to-month</td>\n",
       "      <td>Yes</td>\n",
       "      <td>Electronic check</td>\n",
       "      <td>70.70</td>\n",
       "      <td>151.65</td>\n",
       "    </tr>\n",
       "  </tbody>\n",
       "</table>\n",
       "</div>"
      ],
      "text/plain": [
       "   customerID   BeginDate              EndDate            Type  \\\n",
       "0  7590-VHVEG  2020-01-01                   No  Month-to-month   \n",
       "1  5575-GNVDE  2017-04-01                   No        One year   \n",
       "2  3668-QPYBK  2019-10-01  2019-12-01 00:00:00  Month-to-month   \n",
       "3  7795-CFOCW  2016-05-01                   No        One year   \n",
       "4  9237-HQITU  2019-09-01  2019-11-01 00:00:00  Month-to-month   \n",
       "\n",
       "  PaperlessBilling              PaymentMethod  MonthlyCharges TotalCharges  \n",
       "0              Yes           Electronic check           29.85        29.85  \n",
       "1               No               Mailed check           56.95       1889.5  \n",
       "2              Yes               Mailed check           53.85       108.15  \n",
       "3               No  Bank transfer (automatic)           42.30      1840.75  \n",
       "4              Yes           Electronic check           70.70       151.65  "
      ]
     },
     "execution_count": 3,
     "metadata": {},
     "output_type": "execute_result"
    }
   ],
   "source": [
    "# display info on contract dataset\n",
    "df_contract.info()\n",
    "df_contract.head()"
   ]
  },
  {
   "cell_type": "code",
   "execution_count": 4,
   "metadata": {},
   "outputs": [
    {
     "data": {
      "text/plain": [
       "0.7346301292063041"
      ]
     },
     "execution_count": 4,
     "metadata": {},
     "output_type": "execute_result"
    }
   ],
   "source": [
    "# target `EndDate`, check for class imbalance\n",
    "len(df_contract.query(\"EndDate == 'No'\")) / len(df_contract)"
   ]
  },
  {
   "attachments": {},
   "cell_type": "markdown",
   "metadata": {},
   "source": [
    "<b>Comments on `contract` data</b>\n",
    "- 7043 entries, no missing values in any columns\n",
    "- Target: 73% active, 27% inactive meaning class imbalance in data\n",
    "\n",
    "Tasks for data preparation:\n",
    "- normalize column naming\n",
    "- convert columns into proper data types (begindate to datetime, totalcharges to float)\n",
    "- check for any duplicates\n",
    "- check for total unique values for features (paperlessbilling, paymentmethod, type)\n",
    "- feature encoding (type, paperlessbilling, paymentmethod)\n",
    "- convert target `EndDate` into numerical categories\n",
    "- fixing class imbalance on `EndDate`"
   ]
  },
  {
   "cell_type": "code",
   "execution_count": 5,
   "metadata": {},
   "outputs": [],
   "source": [
    "# normalize column naming scheme\n",
    "df_contract.columns = df_contract.columns.str.lower()"
   ]
  },
  {
   "cell_type": "code",
   "execution_count": 6,
   "metadata": {},
   "outputs": [
    {
     "name": "stdout",
     "output_type": "stream",
     "text": [
      "<class 'pandas.core.frame.DataFrame'>\n",
      "RangeIndex: 7043 entries, 0 to 7042\n",
      "Data columns (total 8 columns):\n",
      " #   Column            Non-Null Count  Dtype         \n",
      "---  ------            --------------  -----         \n",
      " 0   customerid        7043 non-null   object        \n",
      " 1   begindate         7043 non-null   datetime64[ns]\n",
      " 2   enddate           7043 non-null   object        \n",
      " 3   type              7043 non-null   object        \n",
      " 4   paperlessbilling  7043 non-null   object        \n",
      " 5   paymentmethod     7043 non-null   object        \n",
      " 6   monthlycharges    7043 non-null   float64       \n",
      " 7   totalcharges      7032 non-null   float64       \n",
      "dtypes: datetime64[ns](1), float64(2), object(5)\n",
      "memory usage: 440.3+ KB\n"
     ]
    }
   ],
   "source": [
    "# convert column types\n",
    "df_contract['begindate'] = pd.to_datetime(df_contract['begindate'], format='%Y-%m-%d')\n",
    "df_contract['totalcharges'] = pd.to_numeric(df_contract['totalcharges'], errors='coerce')\n",
    "df_contract.info()"
   ]
  },
  {
   "attachments": {},
   "cell_type": "markdown",
   "metadata": {},
   "source": [
    "There are 11 missing values in the `totalcharges` column"
   ]
  },
  {
   "cell_type": "code",
   "execution_count": 7,
   "metadata": {},
   "outputs": [
    {
     "data": {
      "text/html": [
       "<div>\n",
       "<style scoped>\n",
       "    .dataframe tbody tr th:only-of-type {\n",
       "        vertical-align: middle;\n",
       "    }\n",
       "\n",
       "    .dataframe tbody tr th {\n",
       "        vertical-align: top;\n",
       "    }\n",
       "\n",
       "    .dataframe thead th {\n",
       "        text-align: right;\n",
       "    }\n",
       "</style>\n",
       "<table border=\"1\" class=\"dataframe\">\n",
       "  <thead>\n",
       "    <tr style=\"text-align: right;\">\n",
       "      <th></th>\n",
       "      <th>customerid</th>\n",
       "      <th>begindate</th>\n",
       "      <th>enddate</th>\n",
       "      <th>type</th>\n",
       "      <th>paperlessbilling</th>\n",
       "      <th>paymentmethod</th>\n",
       "      <th>monthlycharges</th>\n",
       "      <th>totalcharges</th>\n",
       "    </tr>\n",
       "  </thead>\n",
       "  <tbody>\n",
       "    <tr>\n",
       "      <th>488</th>\n",
       "      <td>4472-LVYGI</td>\n",
       "      <td>2020-02-01</td>\n",
       "      <td>No</td>\n",
       "      <td>Two year</td>\n",
       "      <td>Yes</td>\n",
       "      <td>Bank transfer (automatic)</td>\n",
       "      <td>52.55</td>\n",
       "      <td>NaN</td>\n",
       "    </tr>\n",
       "    <tr>\n",
       "      <th>753</th>\n",
       "      <td>3115-CZMZD</td>\n",
       "      <td>2020-02-01</td>\n",
       "      <td>No</td>\n",
       "      <td>Two year</td>\n",
       "      <td>No</td>\n",
       "      <td>Mailed check</td>\n",
       "      <td>20.25</td>\n",
       "      <td>NaN</td>\n",
       "    </tr>\n",
       "    <tr>\n",
       "      <th>936</th>\n",
       "      <td>5709-LVOEQ</td>\n",
       "      <td>2020-02-01</td>\n",
       "      <td>No</td>\n",
       "      <td>Two year</td>\n",
       "      <td>No</td>\n",
       "      <td>Mailed check</td>\n",
       "      <td>80.85</td>\n",
       "      <td>NaN</td>\n",
       "    </tr>\n",
       "    <tr>\n",
       "      <th>1082</th>\n",
       "      <td>4367-NUYAO</td>\n",
       "      <td>2020-02-01</td>\n",
       "      <td>No</td>\n",
       "      <td>Two year</td>\n",
       "      <td>No</td>\n",
       "      <td>Mailed check</td>\n",
       "      <td>25.75</td>\n",
       "      <td>NaN</td>\n",
       "    </tr>\n",
       "    <tr>\n",
       "      <th>1340</th>\n",
       "      <td>1371-DWPAZ</td>\n",
       "      <td>2020-02-01</td>\n",
       "      <td>No</td>\n",
       "      <td>Two year</td>\n",
       "      <td>No</td>\n",
       "      <td>Credit card (automatic)</td>\n",
       "      <td>56.05</td>\n",
       "      <td>NaN</td>\n",
       "    </tr>\n",
       "    <tr>\n",
       "      <th>3331</th>\n",
       "      <td>7644-OMVMY</td>\n",
       "      <td>2020-02-01</td>\n",
       "      <td>No</td>\n",
       "      <td>Two year</td>\n",
       "      <td>No</td>\n",
       "      <td>Mailed check</td>\n",
       "      <td>19.85</td>\n",
       "      <td>NaN</td>\n",
       "    </tr>\n",
       "    <tr>\n",
       "      <th>3826</th>\n",
       "      <td>3213-VVOLG</td>\n",
       "      <td>2020-02-01</td>\n",
       "      <td>No</td>\n",
       "      <td>Two year</td>\n",
       "      <td>No</td>\n",
       "      <td>Mailed check</td>\n",
       "      <td>25.35</td>\n",
       "      <td>NaN</td>\n",
       "    </tr>\n",
       "    <tr>\n",
       "      <th>4380</th>\n",
       "      <td>2520-SGTTA</td>\n",
       "      <td>2020-02-01</td>\n",
       "      <td>No</td>\n",
       "      <td>Two year</td>\n",
       "      <td>No</td>\n",
       "      <td>Mailed check</td>\n",
       "      <td>20.00</td>\n",
       "      <td>NaN</td>\n",
       "    </tr>\n",
       "    <tr>\n",
       "      <th>5218</th>\n",
       "      <td>2923-ARZLG</td>\n",
       "      <td>2020-02-01</td>\n",
       "      <td>No</td>\n",
       "      <td>One year</td>\n",
       "      <td>Yes</td>\n",
       "      <td>Mailed check</td>\n",
       "      <td>19.70</td>\n",
       "      <td>NaN</td>\n",
       "    </tr>\n",
       "    <tr>\n",
       "      <th>6670</th>\n",
       "      <td>4075-WKNIU</td>\n",
       "      <td>2020-02-01</td>\n",
       "      <td>No</td>\n",
       "      <td>Two year</td>\n",
       "      <td>No</td>\n",
       "      <td>Mailed check</td>\n",
       "      <td>73.35</td>\n",
       "      <td>NaN</td>\n",
       "    </tr>\n",
       "    <tr>\n",
       "      <th>6754</th>\n",
       "      <td>2775-SEFEE</td>\n",
       "      <td>2020-02-01</td>\n",
       "      <td>No</td>\n",
       "      <td>Two year</td>\n",
       "      <td>Yes</td>\n",
       "      <td>Bank transfer (automatic)</td>\n",
       "      <td>61.90</td>\n",
       "      <td>NaN</td>\n",
       "    </tr>\n",
       "  </tbody>\n",
       "</table>\n",
       "</div>"
      ],
      "text/plain": [
       "      customerid  begindate enddate      type paperlessbilling  \\\n",
       "488   4472-LVYGI 2020-02-01      No  Two year              Yes   \n",
       "753   3115-CZMZD 2020-02-01      No  Two year               No   \n",
       "936   5709-LVOEQ 2020-02-01      No  Two year               No   \n",
       "1082  4367-NUYAO 2020-02-01      No  Two year               No   \n",
       "1340  1371-DWPAZ 2020-02-01      No  Two year               No   \n",
       "3331  7644-OMVMY 2020-02-01      No  Two year               No   \n",
       "3826  3213-VVOLG 2020-02-01      No  Two year               No   \n",
       "4380  2520-SGTTA 2020-02-01      No  Two year               No   \n",
       "5218  2923-ARZLG 2020-02-01      No  One year              Yes   \n",
       "6670  4075-WKNIU 2020-02-01      No  Two year               No   \n",
       "6754  2775-SEFEE 2020-02-01      No  Two year              Yes   \n",
       "\n",
       "                  paymentmethod  monthlycharges  totalcharges  \n",
       "488   Bank transfer (automatic)           52.55           NaN  \n",
       "753                Mailed check           20.25           NaN  \n",
       "936                Mailed check           80.85           NaN  \n",
       "1082               Mailed check           25.75           NaN  \n",
       "1340    Credit card (automatic)           56.05           NaN  \n",
       "3331               Mailed check           19.85           NaN  \n",
       "3826               Mailed check           25.35           NaN  \n",
       "4380               Mailed check           20.00           NaN  \n",
       "5218               Mailed check           19.70           NaN  \n",
       "6670               Mailed check           73.35           NaN  \n",
       "6754  Bank transfer (automatic)           61.90           NaN  "
      ]
     },
     "execution_count": 7,
     "metadata": {},
     "output_type": "execute_result"
    }
   ],
   "source": [
    "# Check missing values in `totalcharges`\n",
    "df_contract[df_contract['totalcharges'].isna()]"
   ]
  },
  {
   "cell_type": "code",
   "execution_count": 8,
   "metadata": {},
   "outputs": [
    {
     "data": {
      "text/html": [
       "<div>\n",
       "<style scoped>\n",
       "    .dataframe tbody tr th:only-of-type {\n",
       "        vertical-align: middle;\n",
       "    }\n",
       "\n",
       "    .dataframe tbody tr th {\n",
       "        vertical-align: top;\n",
       "    }\n",
       "\n",
       "    .dataframe thead th {\n",
       "        text-align: right;\n",
       "    }\n",
       "</style>\n",
       "<table border=\"1\" class=\"dataframe\">\n",
       "  <thead>\n",
       "    <tr style=\"text-align: right;\">\n",
       "      <th></th>\n",
       "      <th>customerid</th>\n",
       "      <th>begindate</th>\n",
       "      <th>enddate</th>\n",
       "      <th>type</th>\n",
       "      <th>paperlessbilling</th>\n",
       "      <th>paymentmethod</th>\n",
       "      <th>monthlycharges</th>\n",
       "      <th>totalcharges</th>\n",
       "    </tr>\n",
       "  </thead>\n",
       "  <tbody>\n",
       "    <tr>\n",
       "      <th>488</th>\n",
       "      <td>4472-LVYGI</td>\n",
       "      <td>2020-02-01</td>\n",
       "      <td>No</td>\n",
       "      <td>Two year</td>\n",
       "      <td>Yes</td>\n",
       "      <td>Bank transfer (automatic)</td>\n",
       "      <td>52.55</td>\n",
       "      <td>NaN</td>\n",
       "    </tr>\n",
       "    <tr>\n",
       "      <th>753</th>\n",
       "      <td>3115-CZMZD</td>\n",
       "      <td>2020-02-01</td>\n",
       "      <td>No</td>\n",
       "      <td>Two year</td>\n",
       "      <td>No</td>\n",
       "      <td>Mailed check</td>\n",
       "      <td>20.25</td>\n",
       "      <td>NaN</td>\n",
       "    </tr>\n",
       "    <tr>\n",
       "      <th>936</th>\n",
       "      <td>5709-LVOEQ</td>\n",
       "      <td>2020-02-01</td>\n",
       "      <td>No</td>\n",
       "      <td>Two year</td>\n",
       "      <td>No</td>\n",
       "      <td>Mailed check</td>\n",
       "      <td>80.85</td>\n",
       "      <td>NaN</td>\n",
       "    </tr>\n",
       "    <tr>\n",
       "      <th>1082</th>\n",
       "      <td>4367-NUYAO</td>\n",
       "      <td>2020-02-01</td>\n",
       "      <td>No</td>\n",
       "      <td>Two year</td>\n",
       "      <td>No</td>\n",
       "      <td>Mailed check</td>\n",
       "      <td>25.75</td>\n",
       "      <td>NaN</td>\n",
       "    </tr>\n",
       "    <tr>\n",
       "      <th>1340</th>\n",
       "      <td>1371-DWPAZ</td>\n",
       "      <td>2020-02-01</td>\n",
       "      <td>No</td>\n",
       "      <td>Two year</td>\n",
       "      <td>No</td>\n",
       "      <td>Credit card (automatic)</td>\n",
       "      <td>56.05</td>\n",
       "      <td>NaN</td>\n",
       "    </tr>\n",
       "    <tr>\n",
       "      <th>3331</th>\n",
       "      <td>7644-OMVMY</td>\n",
       "      <td>2020-02-01</td>\n",
       "      <td>No</td>\n",
       "      <td>Two year</td>\n",
       "      <td>No</td>\n",
       "      <td>Mailed check</td>\n",
       "      <td>19.85</td>\n",
       "      <td>NaN</td>\n",
       "    </tr>\n",
       "    <tr>\n",
       "      <th>3826</th>\n",
       "      <td>3213-VVOLG</td>\n",
       "      <td>2020-02-01</td>\n",
       "      <td>No</td>\n",
       "      <td>Two year</td>\n",
       "      <td>No</td>\n",
       "      <td>Mailed check</td>\n",
       "      <td>25.35</td>\n",
       "      <td>NaN</td>\n",
       "    </tr>\n",
       "    <tr>\n",
       "      <th>4380</th>\n",
       "      <td>2520-SGTTA</td>\n",
       "      <td>2020-02-01</td>\n",
       "      <td>No</td>\n",
       "      <td>Two year</td>\n",
       "      <td>No</td>\n",
       "      <td>Mailed check</td>\n",
       "      <td>20.00</td>\n",
       "      <td>NaN</td>\n",
       "    </tr>\n",
       "    <tr>\n",
       "      <th>5218</th>\n",
       "      <td>2923-ARZLG</td>\n",
       "      <td>2020-02-01</td>\n",
       "      <td>No</td>\n",
       "      <td>One year</td>\n",
       "      <td>Yes</td>\n",
       "      <td>Mailed check</td>\n",
       "      <td>19.70</td>\n",
       "      <td>NaN</td>\n",
       "    </tr>\n",
       "    <tr>\n",
       "      <th>6670</th>\n",
       "      <td>4075-WKNIU</td>\n",
       "      <td>2020-02-01</td>\n",
       "      <td>No</td>\n",
       "      <td>Two year</td>\n",
       "      <td>No</td>\n",
       "      <td>Mailed check</td>\n",
       "      <td>73.35</td>\n",
       "      <td>NaN</td>\n",
       "    </tr>\n",
       "    <tr>\n",
       "      <th>6754</th>\n",
       "      <td>2775-SEFEE</td>\n",
       "      <td>2020-02-01</td>\n",
       "      <td>No</td>\n",
       "      <td>Two year</td>\n",
       "      <td>Yes</td>\n",
       "      <td>Bank transfer (automatic)</td>\n",
       "      <td>61.90</td>\n",
       "      <td>NaN</td>\n",
       "    </tr>\n",
       "  </tbody>\n",
       "</table>\n",
       "</div>"
      ],
      "text/plain": [
       "      customerid  begindate enddate      type paperlessbilling  \\\n",
       "488   4472-LVYGI 2020-02-01      No  Two year              Yes   \n",
       "753   3115-CZMZD 2020-02-01      No  Two year               No   \n",
       "936   5709-LVOEQ 2020-02-01      No  Two year               No   \n",
       "1082  4367-NUYAO 2020-02-01      No  Two year               No   \n",
       "1340  1371-DWPAZ 2020-02-01      No  Two year               No   \n",
       "3331  7644-OMVMY 2020-02-01      No  Two year               No   \n",
       "3826  3213-VVOLG 2020-02-01      No  Two year               No   \n",
       "4380  2520-SGTTA 2020-02-01      No  Two year               No   \n",
       "5218  2923-ARZLG 2020-02-01      No  One year              Yes   \n",
       "6670  4075-WKNIU 2020-02-01      No  Two year               No   \n",
       "6754  2775-SEFEE 2020-02-01      No  Two year              Yes   \n",
       "\n",
       "                  paymentmethod  monthlycharges  totalcharges  \n",
       "488   Bank transfer (automatic)           52.55           NaN  \n",
       "753                Mailed check           20.25           NaN  \n",
       "936                Mailed check           80.85           NaN  \n",
       "1082               Mailed check           25.75           NaN  \n",
       "1340    Credit card (automatic)           56.05           NaN  \n",
       "3331               Mailed check           19.85           NaN  \n",
       "3826               Mailed check           25.35           NaN  \n",
       "4380               Mailed check           20.00           NaN  \n",
       "5218               Mailed check           19.70           NaN  \n",
       "6670               Mailed check           73.35           NaN  \n",
       "6754  Bank transfer (automatic)           61.90           NaN  "
      ]
     },
     "metadata": {},
     "output_type": "display_data"
    },
    {
     "data": {
      "text/html": [
       "<div>\n",
       "<style scoped>\n",
       "    .dataframe tbody tr th:only-of-type {\n",
       "        vertical-align: middle;\n",
       "    }\n",
       "\n",
       "    .dataframe tbody tr th {\n",
       "        vertical-align: top;\n",
       "    }\n",
       "\n",
       "    .dataframe thead th {\n",
       "        text-align: right;\n",
       "    }\n",
       "</style>\n",
       "<table border=\"1\" class=\"dataframe\">\n",
       "  <thead>\n",
       "    <tr style=\"text-align: right;\">\n",
       "      <th></th>\n",
       "      <th>customerid</th>\n",
       "      <th>begindate</th>\n",
       "      <th>enddate</th>\n",
       "      <th>type</th>\n",
       "      <th>paperlessbilling</th>\n",
       "      <th>paymentmethod</th>\n",
       "      <th>monthlycharges</th>\n",
       "      <th>totalcharges</th>\n",
       "    </tr>\n",
       "  </thead>\n",
       "  <tbody>\n",
       "    <tr>\n",
       "      <th>0</th>\n",
       "      <td>7590-VHVEG</td>\n",
       "      <td>2020-01-01</td>\n",
       "      <td>No</td>\n",
       "      <td>Month-to-month</td>\n",
       "      <td>Yes</td>\n",
       "      <td>Electronic check</td>\n",
       "      <td>29.85</td>\n",
       "      <td>29.85</td>\n",
       "    </tr>\n",
       "    <tr>\n",
       "      <th>33</th>\n",
       "      <td>7310-EGVHZ</td>\n",
       "      <td>2020-01-01</td>\n",
       "      <td>No</td>\n",
       "      <td>Month-to-month</td>\n",
       "      <td>No</td>\n",
       "      <td>Bank transfer (automatic)</td>\n",
       "      <td>20.20</td>\n",
       "      <td>20.20</td>\n",
       "    </tr>\n",
       "    <tr>\n",
       "      <th>34</th>\n",
       "      <td>3413-BMNZE</td>\n",
       "      <td>2020-01-01</td>\n",
       "      <td>No</td>\n",
       "      <td>Month-to-month</td>\n",
       "      <td>No</td>\n",
       "      <td>Bank transfer (automatic)</td>\n",
       "      <td>45.25</td>\n",
       "      <td>45.25</td>\n",
       "    </tr>\n",
       "    <tr>\n",
       "      <th>70</th>\n",
       "      <td>2273-QCKXA</td>\n",
       "      <td>2020-01-01</td>\n",
       "      <td>No</td>\n",
       "      <td>Month-to-month</td>\n",
       "      <td>No</td>\n",
       "      <td>Mailed check</td>\n",
       "      <td>49.05</td>\n",
       "      <td>49.05</td>\n",
       "    </tr>\n",
       "    <tr>\n",
       "      <th>91</th>\n",
       "      <td>2424-WVHPL</td>\n",
       "      <td>2020-01-01</td>\n",
       "      <td>No</td>\n",
       "      <td>Month-to-month</td>\n",
       "      <td>No</td>\n",
       "      <td>Electronic check</td>\n",
       "      <td>74.70</td>\n",
       "      <td>74.70</td>\n",
       "    </tr>\n",
       "    <tr>\n",
       "      <th>...</th>\n",
       "      <td>...</td>\n",
       "      <td>...</td>\n",
       "      <td>...</td>\n",
       "      <td>...</td>\n",
       "      <td>...</td>\n",
       "      <td>...</td>\n",
       "      <td>...</td>\n",
       "      <td>...</td>\n",
       "    </tr>\n",
       "    <tr>\n",
       "      <th>6840</th>\n",
       "      <td>1724-IQWNM</td>\n",
       "      <td>2020-01-01</td>\n",
       "      <td>No</td>\n",
       "      <td>Month-to-month</td>\n",
       "      <td>Yes</td>\n",
       "      <td>Mailed check</td>\n",
       "      <td>19.30</td>\n",
       "      <td>19.30</td>\n",
       "    </tr>\n",
       "    <tr>\n",
       "      <th>6845</th>\n",
       "      <td>6127-IYJOZ</td>\n",
       "      <td>2020-01-01</td>\n",
       "      <td>No</td>\n",
       "      <td>Month-to-month</td>\n",
       "      <td>Yes</td>\n",
       "      <td>Mailed check</td>\n",
       "      <td>45.85</td>\n",
       "      <td>45.85</td>\n",
       "    </tr>\n",
       "    <tr>\n",
       "      <th>6909</th>\n",
       "      <td>9108-EJFJP</td>\n",
       "      <td>2020-01-01</td>\n",
       "      <td>No</td>\n",
       "      <td>Month-to-month</td>\n",
       "      <td>Yes</td>\n",
       "      <td>Mailed check</td>\n",
       "      <td>53.55</td>\n",
       "      <td>53.55</td>\n",
       "    </tr>\n",
       "    <tr>\n",
       "      <th>6979</th>\n",
       "      <td>5351-QESIO</td>\n",
       "      <td>2020-01-01</td>\n",
       "      <td>No</td>\n",
       "      <td>Month-to-month</td>\n",
       "      <td>No</td>\n",
       "      <td>Mailed check</td>\n",
       "      <td>24.20</td>\n",
       "      <td>24.20</td>\n",
       "    </tr>\n",
       "    <tr>\n",
       "      <th>7016</th>\n",
       "      <td>1471-GIQKQ</td>\n",
       "      <td>2020-01-01</td>\n",
       "      <td>No</td>\n",
       "      <td>Month-to-month</td>\n",
       "      <td>No</td>\n",
       "      <td>Electronic check</td>\n",
       "      <td>49.95</td>\n",
       "      <td>49.95</td>\n",
       "    </tr>\n",
       "  </tbody>\n",
       "</table>\n",
       "<p>233 rows × 8 columns</p>\n",
       "</div>"
      ],
      "text/plain": [
       "      customerid  begindate enddate            type paperlessbilling  \\\n",
       "0     7590-VHVEG 2020-01-01      No  Month-to-month              Yes   \n",
       "33    7310-EGVHZ 2020-01-01      No  Month-to-month               No   \n",
       "34    3413-BMNZE 2020-01-01      No  Month-to-month               No   \n",
       "70    2273-QCKXA 2020-01-01      No  Month-to-month               No   \n",
       "91    2424-WVHPL 2020-01-01      No  Month-to-month               No   \n",
       "...          ...        ...     ...             ...              ...   \n",
       "6840  1724-IQWNM 2020-01-01      No  Month-to-month              Yes   \n",
       "6845  6127-IYJOZ 2020-01-01      No  Month-to-month              Yes   \n",
       "6909  9108-EJFJP 2020-01-01      No  Month-to-month              Yes   \n",
       "6979  5351-QESIO 2020-01-01      No  Month-to-month               No   \n",
       "7016  1471-GIQKQ 2020-01-01      No  Month-to-month               No   \n",
       "\n",
       "                  paymentmethod  monthlycharges  totalcharges  \n",
       "0              Electronic check           29.85         29.85  \n",
       "33    Bank transfer (automatic)           20.20         20.20  \n",
       "34    Bank transfer (automatic)           45.25         45.25  \n",
       "70                 Mailed check           49.05         49.05  \n",
       "91             Electronic check           74.70         74.70  \n",
       "...                         ...             ...           ...  \n",
       "6840               Mailed check           19.30         19.30  \n",
       "6845               Mailed check           45.85         45.85  \n",
       "6909               Mailed check           53.55         53.55  \n",
       "6979               Mailed check           24.20         24.20  \n",
       "7016           Electronic check           49.95         49.95  \n",
       "\n",
       "[233 rows x 8 columns]"
      ]
     },
     "metadata": {},
     "output_type": "display_data"
    }
   ],
   "source": [
    "display(df_contract.query(\"begindate > '2020-01-15'\"))\n",
    "display(df_contract.query(\"begindate == '2020-01-01'\"))"
   ]
  },
  {
   "attachments": {},
   "cell_type": "markdown",
   "metadata": {},
   "source": [
    "Missing values occur only on 2020-02-01. Looking at rest of the data, this suggests that the data is current up to this date, and these are users who just signed up for service. Looking at the previous month's data on 2020-01-01, the totalcharges = monthlycharges. Thus, for the missing values, we will assign 0 for totalcharges."
   ]
  },
  {
   "cell_type": "code",
   "execution_count": 9,
   "metadata": {},
   "outputs": [],
   "source": [
    "# fill in missing values in totalcharges column\n",
    "df_contract['totalcharges'] = df_contract['totalcharges'].fillna(0)"
   ]
  },
  {
   "cell_type": "code",
   "execution_count": 10,
   "metadata": {},
   "outputs": [
    {
     "data": {
      "text/plain": [
       "0"
      ]
     },
     "execution_count": 10,
     "metadata": {},
     "output_type": "execute_result"
    }
   ],
   "source": [
    "# check for duplicates\n",
    "df_contract.duplicated().sum()"
   ]
  },
  {
   "cell_type": "code",
   "execution_count": 11,
   "metadata": {},
   "outputs": [
    {
     "data": {
      "text/plain": [
       "customerid          7043\n",
       "begindate             77\n",
       "enddate                5\n",
       "type                   3\n",
       "paperlessbilling       2\n",
       "paymentmethod          4\n",
       "monthlycharges      1585\n",
       "totalcharges        6531\n",
       "dtype: int64"
      ]
     },
     "metadata": {},
     "output_type": "display_data"
    },
    {
     "name": "stdout",
     "output_type": "stream",
     "text": [
      "['Month-to-month' 'One year' 'Two year']\n",
      "['Yes' 'No']\n",
      "['Electronic check' 'Mailed check' 'Bank transfer (automatic)'\n",
      " 'Credit card (automatic)']\n"
     ]
    }
   ],
   "source": [
    "# check feature unique values\n",
    "display(df_contract.nunique())\n",
    "\n",
    "print(df_contract['type'].unique())\n",
    "print(df_contract['paperlessbilling'].unique())\n",
    "print(df_contract['paymentmethod'].unique())"
   ]
  },
  {
   "cell_type": "markdown",
   "metadata": {},
   "source": [
    "### Personal dataset <a id='personal'></a>"
   ]
  },
  {
   "cell_type": "code",
   "execution_count": 12,
   "metadata": {},
   "outputs": [
    {
     "name": "stdout",
     "output_type": "stream",
     "text": [
      "<class 'pandas.core.frame.DataFrame'>\n",
      "RangeIndex: 7043 entries, 0 to 7042\n",
      "Data columns (total 5 columns):\n",
      " #   Column         Non-Null Count  Dtype \n",
      "---  ------         --------------  ----- \n",
      " 0   customerID     7043 non-null   object\n",
      " 1   gender         7043 non-null   object\n",
      " 2   SeniorCitizen  7043 non-null   int64 \n",
      " 3   Partner        7043 non-null   object\n",
      " 4   Dependents     7043 non-null   object\n",
      "dtypes: int64(1), object(4)\n",
      "memory usage: 275.2+ KB\n"
     ]
    },
    {
     "data": {
      "text/html": [
       "<div>\n",
       "<style scoped>\n",
       "    .dataframe tbody tr th:only-of-type {\n",
       "        vertical-align: middle;\n",
       "    }\n",
       "\n",
       "    .dataframe tbody tr th {\n",
       "        vertical-align: top;\n",
       "    }\n",
       "\n",
       "    .dataframe thead th {\n",
       "        text-align: right;\n",
       "    }\n",
       "</style>\n",
       "<table border=\"1\" class=\"dataframe\">\n",
       "  <thead>\n",
       "    <tr style=\"text-align: right;\">\n",
       "      <th></th>\n",
       "      <th>customerID</th>\n",
       "      <th>gender</th>\n",
       "      <th>SeniorCitizen</th>\n",
       "      <th>Partner</th>\n",
       "      <th>Dependents</th>\n",
       "    </tr>\n",
       "  </thead>\n",
       "  <tbody>\n",
       "    <tr>\n",
       "      <th>0</th>\n",
       "      <td>7590-VHVEG</td>\n",
       "      <td>Female</td>\n",
       "      <td>0</td>\n",
       "      <td>Yes</td>\n",
       "      <td>No</td>\n",
       "    </tr>\n",
       "    <tr>\n",
       "      <th>1</th>\n",
       "      <td>5575-GNVDE</td>\n",
       "      <td>Male</td>\n",
       "      <td>0</td>\n",
       "      <td>No</td>\n",
       "      <td>No</td>\n",
       "    </tr>\n",
       "    <tr>\n",
       "      <th>2</th>\n",
       "      <td>3668-QPYBK</td>\n",
       "      <td>Male</td>\n",
       "      <td>0</td>\n",
       "      <td>No</td>\n",
       "      <td>No</td>\n",
       "    </tr>\n",
       "    <tr>\n",
       "      <th>3</th>\n",
       "      <td>7795-CFOCW</td>\n",
       "      <td>Male</td>\n",
       "      <td>0</td>\n",
       "      <td>No</td>\n",
       "      <td>No</td>\n",
       "    </tr>\n",
       "    <tr>\n",
       "      <th>4</th>\n",
       "      <td>9237-HQITU</td>\n",
       "      <td>Female</td>\n",
       "      <td>0</td>\n",
       "      <td>No</td>\n",
       "      <td>No</td>\n",
       "    </tr>\n",
       "  </tbody>\n",
       "</table>\n",
       "</div>"
      ],
      "text/plain": [
       "   customerID  gender  SeniorCitizen Partner Dependents\n",
       "0  7590-VHVEG  Female              0     Yes         No\n",
       "1  5575-GNVDE    Male              0      No         No\n",
       "2  3668-QPYBK    Male              0      No         No\n",
       "3  7795-CFOCW    Male              0      No         No\n",
       "4  9237-HQITU  Female              0      No         No"
      ]
     },
     "execution_count": 12,
     "metadata": {},
     "output_type": "execute_result"
    }
   ],
   "source": [
    "# display personal dataset info\n",
    "df_personal.info()\n",
    "df_personal.head()"
   ]
  },
  {
   "attachments": {},
   "cell_type": "markdown",
   "metadata": {},
   "source": [
    "<b>Comments on `personal` data</b>\n",
    "- 7043 entries, no missing values in any columns\n",
    "\n",
    "Tasks for data preparation:\n",
    "- normalize column naming\n",
    "- check for any duplicates\n",
    "- check for total unique values for features (gender, seniorcitizen, partner, dependents)\n",
    "- feature encoding (gender, partner, dependents)"
   ]
  },
  {
   "cell_type": "code",
   "execution_count": 13,
   "metadata": {},
   "outputs": [],
   "source": [
    "# normalize column names\n",
    "df_personal.columns = df_personal.columns.str.lower()"
   ]
  },
  {
   "cell_type": "code",
   "execution_count": 14,
   "metadata": {},
   "outputs": [
    {
     "data": {
      "text/plain": [
       "customerid       7043\n",
       "gender              2\n",
       "seniorcitizen       2\n",
       "partner             2\n",
       "dependents          2\n",
       "dtype: int64"
      ]
     },
     "metadata": {},
     "output_type": "display_data"
    },
    {
     "name": "stdout",
     "output_type": "stream",
     "text": [
      "['Female' 'Male']\n",
      "[0 1]\n",
      "['Yes' 'No']\n",
      "['No' 'Yes']\n"
     ]
    }
   ],
   "source": [
    "# check feature unique values\n",
    "display(df_personal.nunique())\n",
    "\n",
    "print(df_personal['gender'].unique())\n",
    "print(df_personal['seniorcitizen'].unique())\n",
    "print(df_personal['partner'].unique())\n",
    "print(df_personal['dependents'].unique())"
   ]
  },
  {
   "cell_type": "code",
   "execution_count": 15,
   "metadata": {},
   "outputs": [
    {
     "data": {
      "text/plain": [
       "0"
      ]
     },
     "execution_count": 15,
     "metadata": {},
     "output_type": "execute_result"
    }
   ],
   "source": [
    "# check duplicates\n",
    "df_personal.duplicated().sum()"
   ]
  },
  {
   "attachments": {},
   "cell_type": "markdown",
   "metadata": {},
   "source": [
    "### Internet dataset <a id='internet'></a>"
   ]
  },
  {
   "cell_type": "code",
   "execution_count": 16,
   "metadata": {},
   "outputs": [
    {
     "name": "stdout",
     "output_type": "stream",
     "text": [
      "<class 'pandas.core.frame.DataFrame'>\n",
      "RangeIndex: 5517 entries, 0 to 5516\n",
      "Data columns (total 8 columns):\n",
      " #   Column            Non-Null Count  Dtype \n",
      "---  ------            --------------  ----- \n",
      " 0   customerID        5517 non-null   object\n",
      " 1   InternetService   5517 non-null   object\n",
      " 2   OnlineSecurity    5517 non-null   object\n",
      " 3   OnlineBackup      5517 non-null   object\n",
      " 4   DeviceProtection  5517 non-null   object\n",
      " 5   TechSupport       5517 non-null   object\n",
      " 6   StreamingTV       5517 non-null   object\n",
      " 7   StreamingMovies   5517 non-null   object\n",
      "dtypes: object(8)\n",
      "memory usage: 344.9+ KB\n"
     ]
    },
    {
     "data": {
      "text/html": [
       "<div>\n",
       "<style scoped>\n",
       "    .dataframe tbody tr th:only-of-type {\n",
       "        vertical-align: middle;\n",
       "    }\n",
       "\n",
       "    .dataframe tbody tr th {\n",
       "        vertical-align: top;\n",
       "    }\n",
       "\n",
       "    .dataframe thead th {\n",
       "        text-align: right;\n",
       "    }\n",
       "</style>\n",
       "<table border=\"1\" class=\"dataframe\">\n",
       "  <thead>\n",
       "    <tr style=\"text-align: right;\">\n",
       "      <th></th>\n",
       "      <th>customerID</th>\n",
       "      <th>InternetService</th>\n",
       "      <th>OnlineSecurity</th>\n",
       "      <th>OnlineBackup</th>\n",
       "      <th>DeviceProtection</th>\n",
       "      <th>TechSupport</th>\n",
       "      <th>StreamingTV</th>\n",
       "      <th>StreamingMovies</th>\n",
       "    </tr>\n",
       "  </thead>\n",
       "  <tbody>\n",
       "    <tr>\n",
       "      <th>0</th>\n",
       "      <td>7590-VHVEG</td>\n",
       "      <td>DSL</td>\n",
       "      <td>No</td>\n",
       "      <td>Yes</td>\n",
       "      <td>No</td>\n",
       "      <td>No</td>\n",
       "      <td>No</td>\n",
       "      <td>No</td>\n",
       "    </tr>\n",
       "    <tr>\n",
       "      <th>1</th>\n",
       "      <td>5575-GNVDE</td>\n",
       "      <td>DSL</td>\n",
       "      <td>Yes</td>\n",
       "      <td>No</td>\n",
       "      <td>Yes</td>\n",
       "      <td>No</td>\n",
       "      <td>No</td>\n",
       "      <td>No</td>\n",
       "    </tr>\n",
       "    <tr>\n",
       "      <th>2</th>\n",
       "      <td>3668-QPYBK</td>\n",
       "      <td>DSL</td>\n",
       "      <td>Yes</td>\n",
       "      <td>Yes</td>\n",
       "      <td>No</td>\n",
       "      <td>No</td>\n",
       "      <td>No</td>\n",
       "      <td>No</td>\n",
       "    </tr>\n",
       "    <tr>\n",
       "      <th>3</th>\n",
       "      <td>7795-CFOCW</td>\n",
       "      <td>DSL</td>\n",
       "      <td>Yes</td>\n",
       "      <td>No</td>\n",
       "      <td>Yes</td>\n",
       "      <td>Yes</td>\n",
       "      <td>No</td>\n",
       "      <td>No</td>\n",
       "    </tr>\n",
       "    <tr>\n",
       "      <th>4</th>\n",
       "      <td>9237-HQITU</td>\n",
       "      <td>Fiber optic</td>\n",
       "      <td>No</td>\n",
       "      <td>No</td>\n",
       "      <td>No</td>\n",
       "      <td>No</td>\n",
       "      <td>No</td>\n",
       "      <td>No</td>\n",
       "    </tr>\n",
       "  </tbody>\n",
       "</table>\n",
       "</div>"
      ],
      "text/plain": [
       "   customerID InternetService OnlineSecurity OnlineBackup DeviceProtection  \\\n",
       "0  7590-VHVEG             DSL             No          Yes               No   \n",
       "1  5575-GNVDE             DSL            Yes           No              Yes   \n",
       "2  3668-QPYBK             DSL            Yes          Yes               No   \n",
       "3  7795-CFOCW             DSL            Yes           No              Yes   \n",
       "4  9237-HQITU     Fiber optic             No           No               No   \n",
       "\n",
       "  TechSupport StreamingTV StreamingMovies  \n",
       "0          No          No              No  \n",
       "1          No          No              No  \n",
       "2          No          No              No  \n",
       "3         Yes          No              No  \n",
       "4          No          No              No  "
      ]
     },
     "execution_count": 16,
     "metadata": {},
     "output_type": "execute_result"
    }
   ],
   "source": [
    "# display info on internet\n",
    "df_internet.info()\n",
    "df_internet.head()"
   ]
  },
  {
   "attachments": {},
   "cell_type": "markdown",
   "metadata": {},
   "source": [
    "<b>Comments on `contract` data</b>\n",
    "- 5517 entries, no missing values in any columns\n",
    "- Less entries than in contracts/personal datasets\n",
    "\n",
    "Tasks for data preparation:\n",
    "- normalize column naming\n",
    "- check for any duplicates\n",
    "- check for total unique values for features\n",
    "- feature encoding\n",
    "- upon merging with above datasets, will need to address NaN values"
   ]
  },
  {
   "cell_type": "code",
   "execution_count": 17,
   "metadata": {},
   "outputs": [],
   "source": [
    "# normalize column naming\n",
    "df_internet.columns = df_internet.columns.str.lower()"
   ]
  },
  {
   "cell_type": "code",
   "execution_count": 18,
   "metadata": {},
   "outputs": [
    {
     "data": {
      "text/plain": [
       "customerid          5517\n",
       "internetservice        2\n",
       "onlinesecurity         2\n",
       "onlinebackup           2\n",
       "deviceprotection       2\n",
       "techsupport            2\n",
       "streamingtv            2\n",
       "streamingmovies        2\n",
       "dtype: int64"
      ]
     },
     "metadata": {},
     "output_type": "display_data"
    },
    {
     "name": "stdout",
     "output_type": "stream",
     "text": [
      "['7590-VHVEG' '5575-GNVDE' '3668-QPYBK' ... '4801-JZAZL' '8361-LTMKD'\n",
      " '3186-AJIEK']\n",
      "['DSL' 'Fiber optic']\n",
      "['No' 'Yes']\n",
      "['Yes' 'No']\n",
      "['No' 'Yes']\n",
      "['No' 'Yes']\n",
      "['No' 'Yes']\n",
      "['No' 'Yes']\n"
     ]
    }
   ],
   "source": [
    "# check feature unique values\n",
    "display(df_internet.nunique())\n",
    "\n",
    "for col in df_internet:\n",
    "    print(df_internet[col].unique())"
   ]
  },
  {
   "cell_type": "code",
   "execution_count": 19,
   "metadata": {},
   "outputs": [
    {
     "data": {
      "text/plain": [
       "0"
      ]
     },
     "execution_count": 19,
     "metadata": {},
     "output_type": "execute_result"
    }
   ],
   "source": [
    "# check duplicates\n",
    "df_internet.duplicated().sum()"
   ]
  },
  {
   "cell_type": "markdown",
   "metadata": {},
   "source": [
    "### Phone dataset <a id='phone'></a>"
   ]
  },
  {
   "cell_type": "code",
   "execution_count": 20,
   "metadata": {},
   "outputs": [
    {
     "name": "stdout",
     "output_type": "stream",
     "text": [
      "<class 'pandas.core.frame.DataFrame'>\n",
      "RangeIndex: 6361 entries, 0 to 6360\n",
      "Data columns (total 2 columns):\n",
      " #   Column         Non-Null Count  Dtype \n",
      "---  ------         --------------  ----- \n",
      " 0   customerID     6361 non-null   object\n",
      " 1   MultipleLines  6361 non-null   object\n",
      "dtypes: object(2)\n",
      "memory usage: 99.5+ KB\n"
     ]
    },
    {
     "data": {
      "text/html": [
       "<div>\n",
       "<style scoped>\n",
       "    .dataframe tbody tr th:only-of-type {\n",
       "        vertical-align: middle;\n",
       "    }\n",
       "\n",
       "    .dataframe tbody tr th {\n",
       "        vertical-align: top;\n",
       "    }\n",
       "\n",
       "    .dataframe thead th {\n",
       "        text-align: right;\n",
       "    }\n",
       "</style>\n",
       "<table border=\"1\" class=\"dataframe\">\n",
       "  <thead>\n",
       "    <tr style=\"text-align: right;\">\n",
       "      <th></th>\n",
       "      <th>customerID</th>\n",
       "      <th>MultipleLines</th>\n",
       "    </tr>\n",
       "  </thead>\n",
       "  <tbody>\n",
       "    <tr>\n",
       "      <th>0</th>\n",
       "      <td>5575-GNVDE</td>\n",
       "      <td>No</td>\n",
       "    </tr>\n",
       "    <tr>\n",
       "      <th>1</th>\n",
       "      <td>3668-QPYBK</td>\n",
       "      <td>No</td>\n",
       "    </tr>\n",
       "    <tr>\n",
       "      <th>2</th>\n",
       "      <td>9237-HQITU</td>\n",
       "      <td>No</td>\n",
       "    </tr>\n",
       "    <tr>\n",
       "      <th>3</th>\n",
       "      <td>9305-CDSKC</td>\n",
       "      <td>Yes</td>\n",
       "    </tr>\n",
       "    <tr>\n",
       "      <th>4</th>\n",
       "      <td>1452-KIOVK</td>\n",
       "      <td>Yes</td>\n",
       "    </tr>\n",
       "  </tbody>\n",
       "</table>\n",
       "</div>"
      ],
      "text/plain": [
       "   customerID MultipleLines\n",
       "0  5575-GNVDE            No\n",
       "1  3668-QPYBK            No\n",
       "2  9237-HQITU            No\n",
       "3  9305-CDSKC           Yes\n",
       "4  1452-KIOVK           Yes"
      ]
     },
     "execution_count": 20,
     "metadata": {},
     "output_type": "execute_result"
    }
   ],
   "source": [
    "# Display info on phone\n",
    "df_phone.info()\n",
    "df_phone.head()"
   ]
  },
  {
   "attachments": {},
   "cell_type": "markdown",
   "metadata": {},
   "source": [
    "<b>Comments on `phone` data</b>\n",
    "- 6361 entries, no missing values in any columns\n",
    "\n",
    "Tasks for data preparation:\n",
    "- normalize column naming\n",
    "- check for any duplicates\n",
    "- check for total unique values for features\n",
    "- feature encoding\n",
    "- upon merging with above datasets, will need to address NaN values"
   ]
  },
  {
   "cell_type": "code",
   "execution_count": 21,
   "metadata": {},
   "outputs": [],
   "source": [
    "# column name to lowercase\n",
    "df_phone.columns = df_phone.columns.str.lower()"
   ]
  },
  {
   "cell_type": "code",
   "execution_count": 22,
   "metadata": {},
   "outputs": [
    {
     "data": {
      "text/plain": [
       "customerid       6361\n",
       "multiplelines       2\n",
       "dtype: int64"
      ]
     },
     "metadata": {},
     "output_type": "display_data"
    },
    {
     "name": "stdout",
     "output_type": "stream",
     "text": [
      "['No' 'Yes']\n"
     ]
    }
   ],
   "source": [
    "# check feature unique values\n",
    "display(df_phone.nunique())\n",
    "print(df_phone['multiplelines'].unique())"
   ]
  },
  {
   "cell_type": "code",
   "execution_count": 23,
   "metadata": {},
   "outputs": [
    {
     "data": {
      "text/plain": [
       "0"
      ]
     },
     "execution_count": 23,
     "metadata": {},
     "output_type": "execute_result"
    }
   ],
   "source": [
    "# check duplicates\n",
    "df_phone.duplicated().sum()"
   ]
  },
  {
   "cell_type": "markdown",
   "metadata": {},
   "source": [
    "### Data preparation <a id='prep'></a>"
   ]
  },
  {
   "cell_type": "code",
   "execution_count": 24,
   "metadata": {},
   "outputs": [
    {
     "name": "stdout",
     "output_type": "stream",
     "text": [
      "<class 'pandas.core.frame.DataFrame'>\n",
      "Int64Index: 7043 entries, 0 to 7042\n",
      "Data columns (total 20 columns):\n",
      " #   Column            Non-Null Count  Dtype         \n",
      "---  ------            --------------  -----         \n",
      " 0   customerid        7043 non-null   object        \n",
      " 1   begindate         7043 non-null   datetime64[ns]\n",
      " 2   enddate           7043 non-null   object        \n",
      " 3   type              7043 non-null   object        \n",
      " 4   paperlessbilling  7043 non-null   object        \n",
      " 5   paymentmethod     7043 non-null   object        \n",
      " 6   monthlycharges    7043 non-null   float64       \n",
      " 7   totalcharges      7043 non-null   float64       \n",
      " 8   gender            7043 non-null   object        \n",
      " 9   seniorcitizen     7043 non-null   int64         \n",
      " 10  partner           7043 non-null   object        \n",
      " 11  dependents        7043 non-null   object        \n",
      " 12  internetservice   5517 non-null   object        \n",
      " 13  onlinesecurity    5517 non-null   object        \n",
      " 14  onlinebackup      5517 non-null   object        \n",
      " 15  deviceprotection  5517 non-null   object        \n",
      " 16  techsupport       5517 non-null   object        \n",
      " 17  streamingtv       5517 non-null   object        \n",
      " 18  streamingmovies   5517 non-null   object        \n",
      " 19  multiplelines     6361 non-null   object        \n",
      "dtypes: datetime64[ns](1), float64(2), int64(1), object(16)\n",
      "memory usage: 1.1+ MB\n"
     ]
    }
   ],
   "source": [
    "# merge dataframes\n",
    "df_merged = df_contract.merge(df_personal, on='customerid', how='outer')\n",
    "df_merged = df_merged.merge(df_internet, on='customerid', how='outer')\n",
    "df_merged = df_merged.merge(df_phone, on='customerid', how='outer')\n",
    "df_merged.info()"
   ]
  },
  {
   "attachments": {},
   "cell_type": "markdown",
   "metadata": {},
   "source": [
    "Expected length of dataframe after merging. Missing values in internet and phone services to default to no services for user."
   ]
  },
  {
   "cell_type": "code",
   "execution_count": 25,
   "metadata": {},
   "outputs": [],
   "source": [
    "# Fill NaN in internetservice to None\n",
    "df_merged['internetservice'] = df_merged['internetservice'].fillna('None')\n",
    "\n",
    "# Fill rest of missing values to 'No' (user did not sign up for service)\n",
    "df_merged = df_merged.fillna('No')"
   ]
  },
  {
   "attachments": {},
   "cell_type": "markdown",
   "metadata": {},
   "source": [
    "## Exploratory Data Analysis <a id='eda'></a>"
   ]
  },
  {
   "cell_type": "code",
   "execution_count": 26,
   "metadata": {},
   "outputs": [
    {
     "data": {
      "image/png": "[encoded data removed]",
      "text/plain": [
       "<Figure size 1800x936 with 8 Axes>"
      ]
     },
     "metadata": {
      "needs_background": "light"
     },
     "output_type": "display_data"
    }
   ],
   "source": [
    "# Look at some histograms\n",
    "histcols = ['type', 'paperlessbilling', 'paymentmethod', 'gender', 'seniorcitizen', 'partner', 'dependents', 'internetservice']\n",
    "fig = plt.figure(figsize=(25, 13))\n",
    "fig.suptitle('Distribution of Various Plan Services and User Info', fontsize=15)\n",
    "for i, col in enumerate(histcols):\n",
    "    fig.add_subplot(2, 4, i+1)\n",
    "    sns.histplot(df_merged[col])\n",
    "    plt.xlabel(col)\n",
    "    plt.xticks(rotation=10)\n",
    "    plt.ylabel('Frequency')\n",
    "plt.show()"
   ]
  },
  {
   "attachments": {},
   "cell_type": "markdown",
   "metadata": {},
   "source": [
    "Histogram plots for various service options and patient demographics to get a better idea of the data and how its distributed."
   ]
  },
  {
   "cell_type": "code",
   "execution_count": 27,
   "metadata": {},
   "outputs": [
    {
     "data": {
      "text/html": [
       "<div>\n",
       "<style scoped>\n",
       "    .dataframe tbody tr th:only-of-type {\n",
       "        vertical-align: middle;\n",
       "    }\n",
       "\n",
       "    .dataframe tbody tr th {\n",
       "        vertical-align: top;\n",
       "    }\n",
       "\n",
       "    .dataframe thead th {\n",
       "        text-align: right;\n",
       "    }\n",
       "</style>\n",
       "<table border=\"1\" class=\"dataframe\">\n",
       "  <thead>\n",
       "    <tr style=\"text-align: right;\">\n",
       "      <th></th>\n",
       "      <th>monthlycharges</th>\n",
       "      <th>totalcharges</th>\n",
       "    </tr>\n",
       "  </thead>\n",
       "  <tbody>\n",
       "    <tr>\n",
       "      <th>count</th>\n",
       "      <td>7043.000000</td>\n",
       "      <td>7043.000000</td>\n",
       "    </tr>\n",
       "    <tr>\n",
       "      <th>mean</th>\n",
       "      <td>64.761692</td>\n",
       "      <td>2279.734304</td>\n",
       "    </tr>\n",
       "    <tr>\n",
       "      <th>std</th>\n",
       "      <td>30.090047</td>\n",
       "      <td>2266.794470</td>\n",
       "    </tr>\n",
       "    <tr>\n",
       "      <th>min</th>\n",
       "      <td>18.250000</td>\n",
       "      <td>0.000000</td>\n",
       "    </tr>\n",
       "    <tr>\n",
       "      <th>25%</th>\n",
       "      <td>35.500000</td>\n",
       "      <td>398.550000</td>\n",
       "    </tr>\n",
       "    <tr>\n",
       "      <th>50%</th>\n",
       "      <td>70.350000</td>\n",
       "      <td>1394.550000</td>\n",
       "    </tr>\n",
       "    <tr>\n",
       "      <th>75%</th>\n",
       "      <td>89.850000</td>\n",
       "      <td>3786.600000</td>\n",
       "    </tr>\n",
       "    <tr>\n",
       "      <th>max</th>\n",
       "      <td>118.750000</td>\n",
       "      <td>8684.800000</td>\n",
       "    </tr>\n",
       "  </tbody>\n",
       "</table>\n",
       "</div>"
      ],
      "text/plain": [
       "       monthlycharges  totalcharges\n",
       "count     7043.000000   7043.000000\n",
       "mean        64.761692   2279.734304\n",
       "std         30.090047   2266.794470\n",
       "min         18.250000      0.000000\n",
       "25%         35.500000    398.550000\n",
       "50%         70.350000   1394.550000\n",
       "75%         89.850000   3786.600000\n",
       "max        118.750000   8684.800000"
      ]
     },
     "execution_count": 27,
     "metadata": {},
     "output_type": "execute_result"
    }
   ],
   "source": [
    "# Check numerical columns for any outliers\n",
    "df_merged[['monthlycharges', 'totalcharges']].describe()"
   ]
  },
  {
   "cell_type": "code",
   "execution_count": 28,
   "metadata": {},
   "outputs": [
    {
     "data": {
      "image/png": "[encoded data removed]",
      "text/plain": [
       "<Figure size 720x432 with 2 Axes>"
      ]
     },
     "metadata": {
      "needs_background": "light"
     },
     "output_type": "display_data"
    }
   ],
   "source": [
    "# boxplot visualizations\n",
    "fig, ax = plt.subplots(1, 2, figsize=(10,6))\n",
    "fig.suptitle('Distribution of Monthly and Total Charges', fontsize=15)\n",
    "\n",
    "ax[0].boxplot(df_merged['monthlycharges'])\n",
    "ax[0].set_xlabel('monthly charges')\n",
    "ax[0].set_ylabel('Charges ($)')\n",
    "\n",
    "ax[1].boxplot(df_merged['totalcharges'])\n",
    "ax[1].set_xlabel('total charges')\n",
    "ax[1].set_ylabel('Charges ($)')\n",
    "\n",
    "plt.show()"
   ]
  },
  {
   "attachments": {},
   "cell_type": "markdown",
   "metadata": {},
   "source": [
    "Data in these columns look fine, no apparent outliers. Monthly charges have a negative skew (mean is less than median), and total charges have a positive skew (mean is greater than the median)."
   ]
  },
  {
   "cell_type": "code",
   "execution_count": 29,
   "metadata": {},
   "outputs": [
    {
     "data": {
      "text/plain": [
       "No                     5174\n",
       "2019-11-01 00:00:00     485\n",
       "2019-12-01 00:00:00     466\n",
       "2020-01-01 00:00:00     460\n",
       "2019-10-01 00:00:00     458\n",
       "Name: enddate, dtype: int64"
      ]
     },
     "execution_count": 29,
     "metadata": {},
     "output_type": "execute_result"
    }
   ],
   "source": [
    "df_merged['enddate'].value_counts()"
   ]
  },
  {
   "cell_type": "code",
   "execution_count": 30,
   "metadata": {},
   "outputs": [],
   "source": [
    "# evaluate the length of churned accounts\n",
    "terms = df_merged.query(\"enddate != 'No'\")[['begindate', 'enddate']]\n",
    "terms['enddate'] = pd.to_datetime(terms['enddate'], format='%Y-%m-%d')"
   ]
  },
  {
   "cell_type": "code",
   "execution_count": 31,
   "metadata": {},
   "outputs": [],
   "source": [
    "# convert to length of service in months\n",
    "terms['length_months'] = (terms['enddate'] - terms['begindate']) / np.timedelta64(1, 'M')\n",
    "terms['length_months'] = terms['length_months'].astype('int')"
   ]
  },
  {
   "cell_type": "code",
   "execution_count": 32,
   "metadata": {},
   "outputs": [
    {
     "data": {
      "image/png": "[encoded data removed]",
      "text/plain": [
       "<Figure size 1080x504 with 1 Axes>"
      ]
     },
     "metadata": {
      "needs_background": "light"
     },
     "output_type": "display_data"
    }
   ],
   "source": [
    "# show histogram of churned accounts and their lengths\n",
    "plt.figure(figsize=(15, 7))\n",
    "plt.hist(terms['length_months'], bins=70)\n",
    "plt.xlabel('Length of service (months)')\n",
    "plt.ylabel('Frequency')\n",
    "plt.title('Distribution of service time in months for churned accounts', fontsize=15)\n",
    "plt.show()"
   ]
  },
  {
   "attachments": {},
   "cell_type": "markdown",
   "metadata": {},
   "source": [
    "All the terminations have been within these last 4 months (Oct 2019 to present of Feb 2020). The bulk of the terminations are with accounts that are 1 month old."
   ]
  },
  {
   "cell_type": "code",
   "execution_count": 33,
   "metadata": {},
   "outputs": [],
   "source": [
    "# Function to create churn/no churn column\n",
    "def churn(value):\n",
    "    \"\"\"\n",
    "    returns 0 if value is 'No'\n",
    "    returns 1 if value is a date (churned)\n",
    "    \"\"\"\n",
    "    if value == 'No':\n",
    "        return 0\n",
    "    else:\n",
    "        return 1"
   ]
  },
  {
   "cell_type": "code",
   "execution_count": 34,
   "metadata": {},
   "outputs": [],
   "source": [
    "# Split into churn/not churn groups\n",
    "df_merged['churn'] = df_merged['enddate'].apply(churn)"
   ]
  },
  {
   "cell_type": "code",
   "execution_count": 35,
   "metadata": {},
   "outputs": [
    {
     "data": {
      "image/png": "[encoded data removed]",
      "text/plain": [
       "<Figure size 1728x720 with 6 Axes>"
      ]
     },
     "metadata": {
      "needs_background": "light"
     },
     "output_type": "display_data"
    }
   ],
   "source": [
    "# Evaluate differences in distribution between churn/no groups\n",
    "cols = ['type', 'gender', 'paperlessbilling', 'internetservice', 'seniorcitizen', 'multiplelines']\n",
    "\n",
    "fig, axes = plt.subplots(2, 3, figsize=(24, 10))\n",
    "for i, col in enumerate(cols):\n",
    "    a = df_merged.groupby(['churn', col]).agg(count=('customerid', 'count')).reset_index()\n",
    "    j = 0\n",
    "    if i > 2:\n",
    "        j = 1\n",
    "    g = sns.barplot(x=col, y='count', hue='churn', data=a, ax=axes[j, i%3])\n",
    "    axes[j, i%3].set_title(col + ' distributions')\n",
    "fig.suptitle('Population differences between churn and not churn accounts', fontsize=15)\n",
    "plt.show()"
   ]
  },
  {
   "attachments": {},
   "cell_type": "markdown",
   "metadata": {},
   "source": [
    "We can visualize differences in the distribution of plans and services between the churn and not churn groups.\n",
    "\n",
    "General trends in gender, senior citizen, paperless billing, or having multiple phone lines appear to not depend much whether it affects if one churns or not churns. Ratio of females to males look identical in both groups. More people enroll in paperless billing in both groups. And less people have multiple phone lines in both groups.\n",
    "\n",
    "Differences in churn/no churn groups show up on the type of service, and the type of internet service. For service type, the churn group appears to have a higher ratio in the month-to-month plan. For internet service, fiber optic internet is the highest option for people who churn, while in the not churn group, most people use DSL."
   ]
  },
  {
   "cell_type": "markdown",
   "metadata": {},
   "source": [
    "## Feature Engineering <a id='featureeng'></a>"
   ]
  },
  {
   "cell_type": "code",
   "execution_count": 36,
   "metadata": {},
   "outputs": [],
   "source": [
    "# Separate features and target\n",
    "features = df_merged.copy()\n",
    "features = features.drop(['customerid', 'enddate', 'churn'], axis=1)\n",
    "target = df_merged['churn']"
   ]
  },
  {
   "attachments": {},
   "cell_type": "markdown",
   "metadata": {},
   "source": [
    "Extract year and month values as features from `begindate`"
   ]
  },
  {
   "cell_type": "code",
   "execution_count": 37,
   "metadata": {},
   "outputs": [],
   "source": [
    "# store year, month in new columns, drop begindate\n",
    "features['year'] = features['begindate'].dt.year\n",
    "features['month'] = features['begindate'].dt.month\n",
    "features = features.drop('begindate', axis=1)"
   ]
  },
  {
   "cell_type": "code",
   "execution_count": 38,
   "metadata": {},
   "outputs": [],
   "source": [
    "# one hot encoding for categorical columns\n",
    "features_ohe = pd.get_dummies(features, drop_first=True)"
   ]
  },
  {
   "cell_type": "code",
   "execution_count": 39,
   "metadata": {},
   "outputs": [
    {
     "name": "stdout",
     "output_type": "stream",
     "text": [
      "<class 'pandas.core.frame.DataFrame'>\n",
      "Int64Index: 7043 entries, 0 to 7042\n",
      "Data columns (total 23 columns):\n",
      " #   Column                                 Non-Null Count  Dtype  \n",
      "---  ------                                 --------------  -----  \n",
      " 0   monthlycharges                         7043 non-null   float64\n",
      " 1   totalcharges                           7043 non-null   float64\n",
      " 2   seniorcitizen                          7043 non-null   int64  \n",
      " 3   year                                   7043 non-null   int64  \n",
      " 4   month                                  7043 non-null   int64  \n",
      " 5   type_One year                          7043 non-null   uint8  \n",
      " 6   type_Two year                          7043 non-null   uint8  \n",
      " 7   paperlessbilling_Yes                   7043 non-null   uint8  \n",
      " 8   paymentmethod_Credit card (automatic)  7043 non-null   uint8  \n",
      " 9   paymentmethod_Electronic check         7043 non-null   uint8  \n",
      " 10  paymentmethod_Mailed check             7043 non-null   uint8  \n",
      " 11  gender_Male                            7043 non-null   uint8  \n",
      " 12  partner_Yes                            7043 non-null   uint8  \n",
      " 13  dependents_Yes                         7043 non-null   uint8  \n",
      " 14  internetservice_Fiber optic            7043 non-null   uint8  \n",
      " 15  internetservice_None                   7043 non-null   uint8  \n",
      " 16  onlinesecurity_Yes                     7043 non-null   uint8  \n",
      " 17  onlinebackup_Yes                       7043 non-null   uint8  \n",
      " 18  deviceprotection_Yes                   7043 non-null   uint8  \n",
      " 19  techsupport_Yes                        7043 non-null   uint8  \n",
      " 20  streamingtv_Yes                        7043 non-null   uint8  \n",
      " 21  streamingmovies_Yes                    7043 non-null   uint8  \n",
      " 22  multiplelines_Yes                      7043 non-null   uint8  \n",
      "dtypes: float64(2), int64(3), uint8(18)\n",
      "memory usage: 453.9 KB\n"
     ]
    },
    {
     "data": {
      "text/html": [
       "<div>\n",
       "<style scoped>\n",
       "    .dataframe tbody tr th:only-of-type {\n",
       "        vertical-align: middle;\n",
       "    }\n",
       "\n",
       "    .dataframe tbody tr th {\n",
       "        vertical-align: top;\n",
       "    }\n",
       "\n",
       "    .dataframe thead th {\n",
       "        text-align: right;\n",
       "    }\n",
       "</style>\n",
       "<table border=\"1\" class=\"dataframe\">\n",
       "  <thead>\n",
       "    <tr style=\"text-align: right;\">\n",
       "      <th></th>\n",
       "      <th>monthlycharges</th>\n",
       "      <th>totalcharges</th>\n",
       "      <th>seniorcitizen</th>\n",
       "      <th>year</th>\n",
       "      <th>month</th>\n",
       "      <th>type_One year</th>\n",
       "      <th>type_Two year</th>\n",
       "      <th>paperlessbilling_Yes</th>\n",
       "      <th>paymentmethod_Credit card (automatic)</th>\n",
       "      <th>paymentmethod_Electronic check</th>\n",
       "      <th>...</th>\n",
       "      <th>dependents_Yes</th>\n",
       "      <th>internetservice_Fiber optic</th>\n",
       "      <th>internetservice_None</th>\n",
       "      <th>onlinesecurity_Yes</th>\n",
       "      <th>onlinebackup_Yes</th>\n",
       "      <th>deviceprotection_Yes</th>\n",
       "      <th>techsupport_Yes</th>\n",
       "      <th>streamingtv_Yes</th>\n",
       "      <th>streamingmovies_Yes</th>\n",
       "      <th>multiplelines_Yes</th>\n",
       "    </tr>\n",
       "  </thead>\n",
       "  <tbody>\n",
       "    <tr>\n",
       "      <th>0</th>\n",
       "      <td>29.85</td>\n",
       "      <td>29.85</td>\n",
       "      <td>0</td>\n",
       "      <td>2020</td>\n",
       "      <td>1</td>\n",
       "      <td>0</td>\n",
       "      <td>0</td>\n",
       "      <td>1</td>\n",
       "      <td>0</td>\n",
       "      <td>1</td>\n",
       "      <td>...</td>\n",
       "      <td>0</td>\n",
       "      <td>0</td>\n",
       "      <td>0</td>\n",
       "      <td>0</td>\n",
       "      <td>1</td>\n",
       "      <td>0</td>\n",
       "      <td>0</td>\n",
       "      <td>0</td>\n",
       "      <td>0</td>\n",
       "      <td>0</td>\n",
       "    </tr>\n",
       "    <tr>\n",
       "      <th>1</th>\n",
       "      <td>56.95</td>\n",
       "      <td>1889.50</td>\n",
       "      <td>0</td>\n",
       "      <td>2017</td>\n",
       "      <td>4</td>\n",
       "      <td>1</td>\n",
       "      <td>0</td>\n",
       "      <td>0</td>\n",
       "      <td>0</td>\n",
       "      <td>0</td>\n",
       "      <td>...</td>\n",
       "      <td>0</td>\n",
       "      <td>0</td>\n",
       "      <td>0</td>\n",
       "      <td>1</td>\n",
       "      <td>0</td>\n",
       "      <td>1</td>\n",
       "      <td>0</td>\n",
       "      <td>0</td>\n",
       "      <td>0</td>\n",
       "      <td>0</td>\n",
       "    </tr>\n",
       "    <tr>\n",
       "      <th>2</th>\n",
       "      <td>53.85</td>\n",
       "      <td>108.15</td>\n",
       "      <td>0</td>\n",
       "      <td>2019</td>\n",
       "      <td>10</td>\n",
       "      <td>0</td>\n",
       "      <td>0</td>\n",
       "      <td>1</td>\n",
       "      <td>0</td>\n",
       "      <td>0</td>\n",
       "      <td>...</td>\n",
       "      <td>0</td>\n",
       "      <td>0</td>\n",
       "      <td>0</td>\n",
       "      <td>1</td>\n",
       "      <td>1</td>\n",
       "      <td>0</td>\n",
       "      <td>0</td>\n",
       "      <td>0</td>\n",
       "      <td>0</td>\n",
       "      <td>0</td>\n",
       "    </tr>\n",
       "    <tr>\n",
       "      <th>3</th>\n",
       "      <td>42.30</td>\n",
       "      <td>1840.75</td>\n",
       "      <td>0</td>\n",
       "      <td>2016</td>\n",
       "      <td>5</td>\n",
       "      <td>1</td>\n",
       "      <td>0</td>\n",
       "      <td>0</td>\n",
       "      <td>0</td>\n",
       "      <td>0</td>\n",
       "      <td>...</td>\n",
       "      <td>0</td>\n",
       "      <td>0</td>\n",
       "      <td>0</td>\n",
       "      <td>1</td>\n",
       "      <td>0</td>\n",
       "      <td>1</td>\n",
       "      <td>1</td>\n",
       "      <td>0</td>\n",
       "      <td>0</td>\n",
       "      <td>0</td>\n",
       "    </tr>\n",
       "    <tr>\n",
       "      <th>4</th>\n",
       "      <td>70.70</td>\n",
       "      <td>151.65</td>\n",
       "      <td>0</td>\n",
       "      <td>2019</td>\n",
       "      <td>9</td>\n",
       "      <td>0</td>\n",
       "      <td>0</td>\n",
       "      <td>1</td>\n",
       "      <td>0</td>\n",
       "      <td>1</td>\n",
       "      <td>...</td>\n",
       "      <td>0</td>\n",
       "      <td>1</td>\n",
       "      <td>0</td>\n",
       "      <td>0</td>\n",
       "      <td>0</td>\n",
       "      <td>0</td>\n",
       "      <td>0</td>\n",
       "      <td>0</td>\n",
       "      <td>0</td>\n",
       "      <td>0</td>\n",
       "    </tr>\n",
       "  </tbody>\n",
       "</table>\n",
       "<p>5 rows × 23 columns</p>\n",
       "</div>"
      ],
      "text/plain": [
       "   monthlycharges  totalcharges  seniorcitizen  year  month  type_One year  \\\n",
       "0           29.85         29.85              0  2020      1              0   \n",
       "1           56.95       1889.50              0  2017      4              1   \n",
       "2           53.85        108.15              0  2019     10              0   \n",
       "3           42.30       1840.75              0  2016      5              1   \n",
       "4           70.70        151.65              0  2019      9              0   \n",
       "\n",
       "   type_Two year  paperlessbilling_Yes  paymentmethod_Credit card (automatic)  \\\n",
       "0              0                     1                                      0   \n",
       "1              0                     0                                      0   \n",
       "2              0                     1                                      0   \n",
       "3              0                     0                                      0   \n",
       "4              0                     1                                      0   \n",
       "\n",
       "   paymentmethod_Electronic check  ...  dependents_Yes  \\\n",
       "0                               1  ...               0   \n",
       "1                               0  ...               0   \n",
       "2                               0  ...               0   \n",
       "3                               0  ...               0   \n",
       "4                               1  ...               0   \n",
       "\n",
       "   internetservice_Fiber optic  internetservice_None  onlinesecurity_Yes  \\\n",
       "0                            0                     0                   0   \n",
       "1                            0                     0                   1   \n",
       "2                            0                     0                   1   \n",
       "3                            0                     0                   1   \n",
       "4                            1                     0                   0   \n",
       "\n",
       "   onlinebackup_Yes  deviceprotection_Yes  techsupport_Yes  streamingtv_Yes  \\\n",
       "0                 1                     0                0                0   \n",
       "1                 0                     1                0                0   \n",
       "2                 1                     0                0                0   \n",
       "3                 0                     1                1                0   \n",
       "4                 0                     0                0                0   \n",
       "\n",
       "   streamingmovies_Yes  multiplelines_Yes  \n",
       "0                    0                  0  \n",
       "1                    0                  0  \n",
       "2                    0                  0  \n",
       "3                    0                  0  \n",
       "4                    0                  0  \n",
       "\n",
       "[5 rows x 23 columns]"
      ]
     },
     "execution_count": 39,
     "metadata": {},
     "output_type": "execute_result"
    }
   ],
   "source": [
    "# check encoding\n",
    "features_ohe.info()\n",
    "features_ohe.head()"
   ]
  },
  {
   "attachments": {},
   "cell_type": "markdown",
   "metadata": {},
   "source": [
    "Splitting data into training, validation, and test sets"
   ]
  },
  {
   "cell_type": "code",
   "execution_count": 40,
   "metadata": {},
   "outputs": [],
   "source": [
    "# Split OHE dataset into train, validation and test sets (60/20/20)\n",
    "X_feat, X_test, y_feat, y_test = train_test_split(features_ohe, target, test_size=0.2, random_state=1909)\n",
    "X_train, X_valid, y_train, y_valid = train_test_split(X_feat, y_feat, test_size=0.25, random_state=1909)"
   ]
  },
  {
   "cell_type": "code",
   "execution_count": 41,
   "metadata": {},
   "outputs": [
    {
     "name": "stdout",
     "output_type": "stream",
     "text": [
      "(4225, 23)\n",
      "(1409, 23)\n",
      "(1409, 23)\n",
      "(4225,)\n",
      "(1409,)\n",
      "(1409,)\n"
     ]
    }
   ],
   "source": [
    "# confirm size of resulting splits\n",
    "print(X_train.shape)\n",
    "print(X_valid.shape)\n",
    "print(X_test.shape)\n",
    "print(y_train.shape)\n",
    "print(y_valid.shape)\n",
    "print(y_test.shape)"
   ]
  },
  {
   "attachments": {},
   "cell_type": "markdown",
   "metadata": {},
   "source": [
    "Scaling numerical data with MinMaxScaler"
   ]
  },
  {
   "cell_type": "code",
   "execution_count": 42,
   "metadata": {},
   "outputs": [
    {
     "data": {
      "text/html": [
       "<div>\n",
       "<style scoped>\n",
       "    .dataframe tbody tr th:only-of-type {\n",
       "        vertical-align: middle;\n",
       "    }\n",
       "\n",
       "    .dataframe tbody tr th {\n",
       "        vertical-align: top;\n",
       "    }\n",
       "\n",
       "    .dataframe thead th {\n",
       "        text-align: right;\n",
       "    }\n",
       "</style>\n",
       "<table border=\"1\" class=\"dataframe\">\n",
       "  <thead>\n",
       "    <tr style=\"text-align: right;\">\n",
       "      <th></th>\n",
       "      <th>monthlycharges</th>\n",
       "      <th>totalcharges</th>\n",
       "      <th>year</th>\n",
       "      <th>month</th>\n",
       "    </tr>\n",
       "  </thead>\n",
       "  <tbody>\n",
       "    <tr>\n",
       "      <th>count</th>\n",
       "      <td>4225.000000</td>\n",
       "      <td>4225.000000</td>\n",
       "      <td>4225.000000</td>\n",
       "      <td>4225.000000</td>\n",
       "    </tr>\n",
       "    <tr>\n",
       "      <th>mean</th>\n",
       "      <td>65.188876</td>\n",
       "      <td>2297.908473</td>\n",
       "      <td>2016.888757</td>\n",
       "      <td>6.408047</td>\n",
       "    </tr>\n",
       "    <tr>\n",
       "      <th>std</th>\n",
       "      <td>29.871692</td>\n",
       "      <td>2275.205323</td>\n",
       "      <td>1.972210</td>\n",
       "      <td>3.577885</td>\n",
       "    </tr>\n",
       "    <tr>\n",
       "      <th>min</th>\n",
       "      <td>18.250000</td>\n",
       "      <td>0.000000</td>\n",
       "      <td>2013.000000</td>\n",
       "      <td>1.000000</td>\n",
       "    </tr>\n",
       "    <tr>\n",
       "      <th>25%</th>\n",
       "      <td>39.600000</td>\n",
       "      <td>399.450000</td>\n",
       "      <td>2015.000000</td>\n",
       "      <td>3.000000</td>\n",
       "    </tr>\n",
       "    <tr>\n",
       "      <th>50%</th>\n",
       "      <td>70.600000</td>\n",
       "      <td>1410.250000</td>\n",
       "      <td>2017.000000</td>\n",
       "      <td>6.000000</td>\n",
       "    </tr>\n",
       "    <tr>\n",
       "      <th>75%</th>\n",
       "      <td>89.800000</td>\n",
       "      <td>3824.200000</td>\n",
       "      <td>2019.000000</td>\n",
       "      <td>10.000000</td>\n",
       "    </tr>\n",
       "    <tr>\n",
       "      <th>max</th>\n",
       "      <td>118.750000</td>\n",
       "      <td>8672.450000</td>\n",
       "      <td>2020.000000</td>\n",
       "      <td>12.000000</td>\n",
       "    </tr>\n",
       "  </tbody>\n",
       "</table>\n",
       "</div>"
      ],
      "text/plain": [
       "       monthlycharges  totalcharges         year        month\n",
       "count     4225.000000   4225.000000  4225.000000  4225.000000\n",
       "mean        65.188876   2297.908473  2016.888757     6.408047\n",
       "std         29.871692   2275.205323     1.972210     3.577885\n",
       "min         18.250000      0.000000  2013.000000     1.000000\n",
       "25%         39.600000    399.450000  2015.000000     3.000000\n",
       "50%         70.600000   1410.250000  2017.000000     6.000000\n",
       "75%         89.800000   3824.200000  2019.000000    10.000000\n",
       "max        118.750000   8672.450000  2020.000000    12.000000"
      ]
     },
     "execution_count": 42,
     "metadata": {},
     "output_type": "execute_result"
    }
   ],
   "source": [
    "# Before scaling\n",
    "X_train[['monthlycharges', 'totalcharges', 'year', 'month']].describe()"
   ]
  },
  {
   "cell_type": "code",
   "execution_count": 43,
   "metadata": {},
   "outputs": [],
   "source": [
    "# Scale numerical columns (monthlycharge, totalcharge, year, and month)\n",
    "cols_to_scale = ['monthlycharges', 'totalcharges', 'year', 'month']\n",
    "scaler = MinMaxScaler().fit(X_train[cols_to_scale])\n",
    "X_train[cols_to_scale] = scaler.transform(X_train[cols_to_scale])\n",
    "X_valid[cols_to_scale] = scaler.transform(X_valid[cols_to_scale])\n",
    "X_test[cols_to_scale] = scaler.transform(X_test[cols_to_scale])"
   ]
  },
  {
   "cell_type": "code",
   "execution_count": 44,
   "metadata": {},
   "outputs": [
    {
     "data": {
      "text/html": [
       "<div>\n",
       "<style scoped>\n",
       "    .dataframe tbody tr th:only-of-type {\n",
       "        vertical-align: middle;\n",
       "    }\n",
       "\n",
       "    .dataframe tbody tr th {\n",
       "        vertical-align: top;\n",
       "    }\n",
       "\n",
       "    .dataframe thead th {\n",
       "        text-align: right;\n",
       "    }\n",
       "</style>\n",
       "<table border=\"1\" class=\"dataframe\">\n",
       "  <thead>\n",
       "    <tr style=\"text-align: right;\">\n",
       "      <th></th>\n",
       "      <th>monthlycharges</th>\n",
       "      <th>totalcharges</th>\n",
       "      <th>year</th>\n",
       "      <th>month</th>\n",
       "    </tr>\n",
       "  </thead>\n",
       "  <tbody>\n",
       "    <tr>\n",
       "      <th>count</th>\n",
       "      <td>4225.000000</td>\n",
       "      <td>4225.000000</td>\n",
       "      <td>4225.000000</td>\n",
       "      <td>4225.000000</td>\n",
       "    </tr>\n",
       "    <tr>\n",
       "      <th>mean</th>\n",
       "      <td>0.467053</td>\n",
       "      <td>0.264966</td>\n",
       "      <td>0.555537</td>\n",
       "      <td>0.491641</td>\n",
       "    </tr>\n",
       "    <tr>\n",
       "      <th>std</th>\n",
       "      <td>0.297231</td>\n",
       "      <td>0.262349</td>\n",
       "      <td>0.281744</td>\n",
       "      <td>0.325262</td>\n",
       "    </tr>\n",
       "    <tr>\n",
       "      <th>min</th>\n",
       "      <td>0.000000</td>\n",
       "      <td>0.000000</td>\n",
       "      <td>0.000000</td>\n",
       "      <td>0.000000</td>\n",
       "    </tr>\n",
       "    <tr>\n",
       "      <th>25%</th>\n",
       "      <td>0.212438</td>\n",
       "      <td>0.046060</td>\n",
       "      <td>0.285714</td>\n",
       "      <td>0.181818</td>\n",
       "    </tr>\n",
       "    <tr>\n",
       "      <th>50%</th>\n",
       "      <td>0.520896</td>\n",
       "      <td>0.162613</td>\n",
       "      <td>0.571429</td>\n",
       "      <td>0.454545</td>\n",
       "    </tr>\n",
       "    <tr>\n",
       "      <th>75%</th>\n",
       "      <td>0.711940</td>\n",
       "      <td>0.440960</td>\n",
       "      <td>0.857143</td>\n",
       "      <td>0.818182</td>\n",
       "    </tr>\n",
       "    <tr>\n",
       "      <th>max</th>\n",
       "      <td>1.000000</td>\n",
       "      <td>1.000000</td>\n",
       "      <td>1.000000</td>\n",
       "      <td>1.000000</td>\n",
       "    </tr>\n",
       "  </tbody>\n",
       "</table>\n",
       "</div>"
      ],
      "text/plain": [
       "       monthlycharges  totalcharges         year        month\n",
       "count     4225.000000   4225.000000  4225.000000  4225.000000\n",
       "mean         0.467053      0.264966     0.555537     0.491641\n",
       "std          0.297231      0.262349     0.281744     0.325262\n",
       "min          0.000000      0.000000     0.000000     0.000000\n",
       "25%          0.212438      0.046060     0.285714     0.181818\n",
       "50%          0.520896      0.162613     0.571429     0.454545\n",
       "75%          0.711940      0.440960     0.857143     0.818182\n",
       "max          1.000000      1.000000     1.000000     1.000000"
      ]
     },
     "execution_count": 44,
     "metadata": {},
     "output_type": "execute_result"
    }
   ],
   "source": [
    "# After scaling on train set\n",
    "X_train[cols_to_scale].describe()"
   ]
  },
  {
   "attachments": {},
   "cell_type": "markdown",
   "metadata": {},
   "source": [
    "Class imbalance fix with upsampling"
   ]
  },
  {
   "cell_type": "code",
   "execution_count": 45,
   "metadata": {},
   "outputs": [
    {
     "data": {
      "text/plain": [
       "0    0.733254\n",
       "1    0.266746\n",
       "Name: churn, dtype: float64"
      ]
     },
     "execution_count": 45,
     "metadata": {},
     "output_type": "execute_result"
    }
   ],
   "source": [
    "# Check class imbalance\n",
    "y_train.value_counts() / len(y_train)"
   ]
  },
  {
   "cell_type": "code",
   "execution_count": 46,
   "metadata": {},
   "outputs": [],
   "source": [
    "# Synthetic minority over-sampling technique (SMOTE)\n",
    "oversample = SMOTE()\n",
    "X_train_os, y_train_os = oversample.fit_resample(X_train, y_train)"
   ]
  },
  {
   "cell_type": "code",
   "execution_count": 47,
   "metadata": {},
   "outputs": [
    {
     "data": {
      "text/plain": [
       "1    0.5\n",
       "0    0.5\n",
       "Name: churn, dtype: float64"
      ]
     },
     "execution_count": 47,
     "metadata": {},
     "output_type": "execute_result"
    }
   ],
   "source": [
    "# check resulting of oversampling\n",
    "y_train_os.value_counts() / len(y_train_os)"
   ]
  },
  {
   "cell_type": "markdown",
   "metadata": {},
   "source": [
    "## Model Training <a id='modeltraining'></a>"
   ]
  },
  {
   "attachments": {},
   "cell_type": "markdown",
   "metadata": {},
   "source": [
    "Function to plot and evaluate models:"
   ]
  },
  {
   "cell_type": "code",
   "execution_count": 48,
   "metadata": {},
   "outputs": [],
   "source": [
    "def evaluate_model(model, train_features, train_target, test_features, test_target):\n",
    "    \"\"\"\n",
    "    Evaluate the given model on the training and test sets, and generate plots for F1 Score, ROC curve, and PR curve.\n",
    "    \"\"\"\n",
    "    eval_stats = {}\n",
    "    \n",
    "    # Initialize the figure and subplots\n",
    "    fig, axs = plt.subplots(1, 3, figsize=(20, 6)) \n",
    "    \n",
    "    # Loop through training and test sets\n",
    "    for type, features, target in (('train', train_features, train_target), ('test', test_features, test_target)):\n",
    "        eval_stats[type] = {}\n",
    "    \n",
    "        # Generate predictions and probabilities\n",
    "        pred_target = model.predict(features)\n",
    "        pred_proba = model.predict_proba(features)[:, 1]\n",
    "        \n",
    "        # Compute F1 scores for various thresholds\n",
    "        f1_thresholds = np.arange(0, 1.01, 0.05)\n",
    "        f1_scores = [f1_score(target, pred_proba>=threshold) for threshold in f1_thresholds]\n",
    "        \n",
    "        # Compute ROC curve and AUC\n",
    "        fpr, tpr, roc_thresholds = roc_curve(target, pred_proba)\n",
    "        roc_auc = roc_auc_score(target, pred_proba)    \n",
    "        eval_stats[type]['ROC-AUC'] = roc_auc\n",
    "\n",
    "        # Compute PR curve and APS\n",
    "        precision, recall, pr_thresholds = precision_recall_curve(target, pred_proba)\n",
    "        aps = average_precision_score(target, pred_proba)\n",
    "        \n",
    "        # Set the color for the plot\n",
    "        if type == 'train':\n",
    "            color = 'blue'\n",
    "        else:\n",
    "            color = 'green'\n",
    "\n",
    "        # Plot the F1 score curve\n",
    "        ax = axs[0]\n",
    "        # Find index of the maximum F1 score\n",
    "        max_f1_score_idx = np.argmax(f1_scores)\n",
    "        ax.plot(f1_thresholds, f1_scores, color=color, label=f'{type}, max={f1_scores[max_f1_score_idx]:.2f} @ {f1_thresholds[max_f1_score_idx]:.2f}')\n",
    "        # setting crosses for some thresholds\n",
    "        for threshold in (0.2, 0.4, 0.5, 0.6, 0.8):\n",
    "            closest_value_idx = np.argmin(np.abs(f1_thresholds-threshold))\n",
    "            marker_color = 'orange' if threshold != 0.5 else 'red'\n",
    "            ax.plot(f1_thresholds[closest_value_idx], f1_scores[closest_value_idx], color=marker_color, marker='X', markersize=7)\n",
    "        ax.set_xlim([-0.02, 1.02])    \n",
    "        ax.set_ylim([-0.02, 1.02])\n",
    "        ax.set_xlabel('threshold')\n",
    "        ax.set_ylabel('F1')\n",
    "        ax.legend(loc='lower center')\n",
    "        ax.set_title(f'F1 Score') \n",
    "\n",
    "        # Plot the ROC curve\n",
    "        ax = axs[1]    \n",
    "        ax.plot(fpr, tpr, color=color, label=f'{type}, ROC-AUC={roc_auc:.2f}')\n",
    "        # setting crosses for some thresholds\n",
    "        for threshold in (0.2, 0.4, 0.5, 0.6, 0.8):\n",
    "            closest_value_idx = np.argmin(np.abs(roc_thresholds-threshold))\n",
    "            marker_color = 'orange' if threshold != 0.5 else 'red'            \n",
    "            ax.plot(fpr[closest_value_idx], tpr[closest_value_idx], color=marker_color, marker='X', markersize=7)\n",
    "        ax.plot([0, 1], [0, 1], color='grey', linestyle='--')\n",
    "        ax.set_xlim([-0.02, 1.02])    \n",
    "        ax.set_ylim([-0.02, 1.02])\n",
    "        ax.set_xlabel('FPR')\n",
    "        ax.set_ylabel('TPR')\n",
    "        ax.legend(loc='lower center')        \n",
    "        ax.set_title(f'ROC Curve')\n",
    "        \n",
    "        # Plot the precision recall surve\n",
    "        ax = axs[2]\n",
    "        ax.plot(recall, precision, color=color, label=f'{type}, AP={aps:.2f}')\n",
    "        # setting crosses for some thresholds\n",
    "        for threshold in (0.2, 0.4, 0.5, 0.6, 0.8):\n",
    "            closest_value_idx = np.argmin(np.abs(pr_thresholds-threshold))\n",
    "            marker_color = 'orange' if threshold != 0.5 else 'red'\n",
    "            ax.plot(recall[closest_value_idx], precision[closest_value_idx], color=marker_color, marker='X', markersize=7)\n",
    "        ax.set_xlim([-0.02, 1.02])    \n",
    "        ax.set_ylim([-0.02, 1.02])\n",
    "        ax.set_xlabel('recall')\n",
    "        ax.set_ylabel('precision')\n",
    "        ax.legend(loc='lower center')\n",
    "        ax.set_title(f'PRC')        \n",
    "\n",
    "        eval_stats[type]['Accuracy'] = accuracy_score(target, pred_target)\n",
    "        eval_stats[type]['F1'] = f1_score(target, pred_target)\n",
    "    \n",
    "    df_eval_stats = pd.DataFrame(eval_stats)\n",
    "    df_eval_stats = df_eval_stats.round(3)\n",
    "    df_eval_stats = df_eval_stats.reindex(index=('Accuracy', 'F1', 'ROC-AUC'))\n",
    "    \n",
    "    print(df_eval_stats)\n",
    "    \n",
    "    return"
   ]
  },
  {
   "attachments": {},
   "cell_type": "markdown",
   "metadata": {},
   "source": [
    "Dummy minimal quality model"
   ]
  },
  {
   "cell_type": "code",
   "execution_count": 49,
   "metadata": {},
   "outputs": [
    {
     "name": "stdout",
     "output_type": "stream",
     "text": [
      "          train   test\n",
      "Accuracy  0.509  0.515\n",
      "F1        0.504  0.343\n",
      "ROC-AUC   0.500  0.500\n"
     ]
    },
    {
     "data": {
      "image/png": "[encoded data removed]",
      "text/plain": [
       "<Figure size 1440x432 with 3 Axes>"
      ]
     },
     "metadata": {
      "needs_background": "light"
     },
     "output_type": "display_data"
    }
   ],
   "source": [
    "# dummy model - minimal model\n",
    "model_dummy = DummyClassifier(random_state=1909, strategy='uniform')\n",
    "model_dummy.fit(X_train_os, y_train_os)\n",
    "\n",
    "evaluate_model(model_dummy, X_train_os, y_train_os, X_valid, y_valid)"
   ]
  },
  {
   "attachments": {},
   "cell_type": "markdown",
   "metadata": {},
   "source": [
    "Dummy model with AUC-ROC of 0.5. Predictions is the same as guessing."
   ]
  },
  {
   "attachments": {},
   "cell_type": "markdown",
   "metadata": {},
   "source": [
    "Logistic Regression"
   ]
  },
  {
   "cell_type": "code",
   "execution_count": 50,
   "metadata": {},
   "outputs": [],
   "source": [
    "# finding best logistic regression tuning with validation set\n",
    "best_rocauc_LR = 0\n",
    "best_f1_LR = 0\n",
    "best_solver_LR = ''\n",
    "solvers = ['lbfgs', 'liblinear', 'newton-cg', 'sag', 'saga']\n",
    "for solv in solvers:\n",
    "    model_LR = LogisticRegression(random_state=1909, solver=solv).fit(X_train_os, y_train_os)\n",
    "    prediction_LR = model_LR.predict(X_valid)\n",
    "    prediction_proba_LR = model_LR.predict_proba(X_valid)[:, 1]\n",
    "    f1_sc = f1_score(y_valid, prediction_LR)\n",
    "    rocauc = roc_auc_score(y_valid, prediction_proba_LR)\n",
    "    if rocauc > best_rocauc_LR:\n",
    "        best_rocauc_LR = rocauc\n",
    "        best_f1_LR = f1_sc\n",
    "        best_solver_LR = solv\n",
    "\n",
    "# Run best model\n",
    "model_LR = LogisticRegression(random_state=1909, solver=best_solver_LR).fit(X_train_os, y_train_os)"
   ]
  },
  {
   "cell_type": "code",
   "execution_count": 51,
   "metadata": {},
   "outputs": [
    {
     "name": "stdout",
     "output_type": "stream",
     "text": [
      "AUC-ROC: 0.8346773144655724\n",
      "F1: 0.6079295154185022\n",
      "Params: solver: liblinear\n"
     ]
    }
   ],
   "source": [
    "print(f'AUC-ROC: {best_rocauc_LR}')\n",
    "print(f'F1: {best_f1_LR}')\n",
    "print(f'Params: solver: {best_solver_LR}')"
   ]
  },
  {
   "cell_type": "code",
   "execution_count": 52,
   "metadata": {},
   "outputs": [
    {
     "name": "stdout",
     "output_type": "stream",
     "text": [
      "          train   test\n",
      "Accuracy  0.782  0.747\n",
      "F1        0.790  0.608\n",
      "ROC-AUC   0.866  0.835\n"
     ]
    },
    {
     "data": {
      "image/png": "[encoded data removed]",
      "text/plain": [
       "<Figure size 1440x432 with 3 Axes>"
      ]
     },
     "metadata": {
      "needs_background": "light"
     },
     "output_type": "display_data"
    }
   ],
   "source": [
    "evaluate_model(model_LR, X_train_os, y_train_os, X_valid, y_valid)"
   ]
  },
  {
   "attachments": {},
   "cell_type": "markdown",
   "metadata": {},
   "source": [
    "Decent AUC-ROC score on the validation set of 0.835, better than guessing and has predictive qualities. Overfitting is observed."
   ]
  },
  {
   "attachments": {},
   "cell_type": "markdown",
   "metadata": {},
   "source": [
    "Random Forest"
   ]
  },
  {
   "cell_type": "code",
   "execution_count": 53,
   "metadata": {},
   "outputs": [],
   "source": [
    "# finding best random forest tuning with validation set\n",
    "best_rocauc_RF = 0\n",
    "best_f1_RF = 0\n",
    "best_est_RF = 0\n",
    "best_maxdepth_RF = 0\n",
    "for depths in range(1, 11):\n",
    "    for nest in range(25, 201, 25):\n",
    "        model_RF = RandomForestClassifier(random_state=1909, n_estimators=nest, max_depth=depths).fit(X_train_os, y_train_os)\n",
    "        prediction_RF = model_RF.predict(X_valid)\n",
    "        prediction_proba_RF = model_RF.predict_proba(X_valid)[:, 1]\n",
    "        f1_sc = f1_score(y_valid, prediction_RF)\n",
    "        rocauc = roc_auc_score(y_valid, prediction_proba_RF)\n",
    "        if rocauc > best_rocauc_RF:\n",
    "            best_rocauc_RF = rocauc\n",
    "            best_f1_RF = f1_sc\n",
    "            best_est_RF = nest\n",
    "            best_maxdepth_RF = depths\n",
    "\n",
    "# Run best model\n",
    "model_RF = RandomForestClassifier(random_state=1909, n_estimators=best_est_RF, max_depth=best_maxdepth_RF).fit(X_train_os, y_train_os)"
   ]
  },
  {
   "cell_type": "code",
   "execution_count": 54,
   "metadata": {},
   "outputs": [
    {
     "name": "stdout",
     "output_type": "stream",
     "text": [
      "AUC-ROC: 0.8679343443539786\n",
      "F1: 0.65\n",
      "Params: n_estimators: 175, max_depth: 10\n"
     ]
    }
   ],
   "source": [
    "print(f'AUC-ROC: {best_rocauc_RF}')\n",
    "print(f'F1: {best_f1_RF}')\n",
    "print(f'Params: n_estimators: {best_est_RF}, max_depth: {best_maxdepth_RF}')"
   ]
  },
  {
   "cell_type": "code",
   "execution_count": 55,
   "metadata": {},
   "outputs": [
    {
     "name": "stdout",
     "output_type": "stream",
     "text": [
      "          train   test\n",
      "Accuracy  0.909  0.791\n",
      "F1        0.913  0.650\n",
      "ROC-AUC   0.969  0.868\n"
     ]
    },
    {
     "data": {
      "image/png": "[encoded data removed]",
      "text/plain": [
       "<Figure size 1440x432 with 3 Axes>"
      ]
     },
     "metadata": {
      "needs_background": "light"
     },
     "output_type": "display_data"
    }
   ],
   "source": [
    "evaluate_model(model_RF, X_train_os, y_train_os, X_valid, y_valid)"
   ]
  },
  {
   "attachments": {},
   "cell_type": "markdown",
   "metadata": {},
   "source": [
    "Random forest model has better metrics overall compared to the logistic regression model. Again, data is overfitted."
   ]
  },
  {
   "attachments": {},
   "cell_type": "markdown",
   "metadata": {},
   "source": [
    "LightGBM"
   ]
  },
  {
   "cell_type": "code",
   "execution_count": 56,
   "metadata": {},
   "outputs": [],
   "source": [
    "# finding best LightGBM tuning with validation set\n",
    "best_rocauc_lgb = 0\n",
    "best_f1_lgb = 0\n",
    "best_est_lgb = 0\n",
    "best_maxdepth_lgb = 0\n",
    "best_numleaves = 0\n",
    "for depths in range(1, 8):\n",
    "    for nest in range(100, 251, 25):\n",
    "        for numl in range(10, 31, 5):\n",
    "            model_lgb = lgb.LGBMClassifier(random_state=1909, n_estimators=nest, max_depth=depths, num_leaves=numl).fit(X_train_os, y_train_os)\n",
    "            prediction_lgb = model_lgb.predict(X_valid)\n",
    "            prediction_proba_lgb = model_lgb.predict_proba(X_valid)[:, 1]\n",
    "            f1_sc = f1_score(y_valid, prediction_lgb)\n",
    "            rocauc = roc_auc_score(y_valid, prediction_proba_lgb)\n",
    "            if rocauc > best_rocauc_lgb:\n",
    "                best_rocauc_lgb = rocauc\n",
    "                best_f1_lgb = f1_sc\n",
    "                best_est_lgb = nest\n",
    "                best_maxdepth_lgb = depths\n",
    "                best_numleaves = numl\n",
    "\n",
    "# Run best model\n",
    "model_lgb = lgb.LGBMClassifier(random_state=1909, n_estimators=best_est_lgb, max_depth=best_maxdepth_lgb).fit(X_train_os, y_train_os)"
   ]
  },
  {
   "cell_type": "code",
   "execution_count": 57,
   "metadata": {},
   "outputs": [
    {
     "name": "stdout",
     "output_type": "stream",
     "text": [
      "AUC-ROC: 0.9260515568504019\n",
      "F1: 0.7716763005780345\n",
      "Params: n_estimators: 250, max_depth: 7, num_leaves: 30\n"
     ]
    }
   ],
   "source": [
    "print(f'AUC-ROC: {best_rocauc_lgb}')\n",
    "print(f'F1: {best_f1_lgb}')\n",
    "print(f'Params: n_estimators: {best_est_lgb}, max_depth: {best_maxdepth_lgb}, num_leaves: {best_numleaves}')"
   ]
  },
  {
   "cell_type": "code",
   "execution_count": 58,
   "metadata": {},
   "outputs": [
    {
     "name": "stdout",
     "output_type": "stream",
     "text": [
      "          train   test\n",
      "Accuracy  0.994  0.888\n",
      "F1        0.994  0.770\n",
      "ROC-AUC   1.000  0.925\n"
     ]
    },
    {
     "data": {
      "image/png": "[encoded data removed]",
      "text/plain": [
       "<Figure size 1440x432 with 3 Axes>"
      ]
     },
     "metadata": {
      "needs_background": "light"
     },
     "output_type": "display_data"
    }
   ],
   "source": [
    "evaluate_model(model_lgb, X_train_os, y_train_os, X_valid, y_valid)"
   ]
  },
  {
   "attachments": {},
   "cell_type": "markdown",
   "metadata": {},
   "source": [
    "Almost perfect fit to the training data with LightGBM, but overfitted. However, metrics on the validation set is good with AUC-ROC > 0.9."
   ]
  },
  {
   "attachments": {},
   "cell_type": "markdown",
   "metadata": {},
   "source": [
    "## Model Analysis <a id='modelanalysis'></a>"
   ]
  },
  {
   "attachments": {},
   "cell_type": "markdown",
   "metadata": {},
   "source": [
    "LightGBM trained model had the best metrics, so we will evaluate the test set with this model."
   ]
  },
  {
   "cell_type": "code",
   "execution_count": 59,
   "metadata": {},
   "outputs": [
    {
     "name": "stdout",
     "output_type": "stream",
     "text": [
      "Test set metrics\n",
      "AUC-ROC: 0.9309629721798819\n",
      "Accuracy: 0.8850248403122782\n",
      "F1 score: 0.767241379310345\n"
     ]
    }
   ],
   "source": [
    "prediction_test = model_lgb.predict(X_test)\n",
    "prediction_proba_test = model_lgb.predict_proba(X_test)[:, 1]\n",
    "print('Test set metrics')\n",
    "print('AUC-ROC:', roc_auc_score(y_test, prediction_proba_test))\n",
    "print('Accuracy:', accuracy_score(y_test, prediction_test))\n",
    "print('F1 score:', f1_score(y_test, prediction_test))"
   ]
  },
  {
   "cell_type": "code",
   "execution_count": 60,
   "metadata": {},
   "outputs": [
    {
     "name": "stdout",
     "output_type": "stream",
     "text": [
      "          train   test\n",
      "Accuracy  0.992  0.885\n",
      "F1        0.984  0.767\n",
      "ROC-AUC   1.000  0.931\n"
     ]
    },
    {
     "data": {
      "image/png": "[encoded data removed]",
      "text/plain": [
       "<Figure size 1440x432 with 3 Axes>"
      ]
     },
     "metadata": {
      "needs_background": "light"
     },
     "output_type": "display_data"
    }
   ],
   "source": [
    "evaluate_model(model_lgb, X_train, y_train, X_test, y_test)"
   ]
  },
  {
   "attachments": {},
   "cell_type": "markdown",
   "metadata": {},
   "source": [
    "Final metrics on test set:\n",
    "ROC-AUC = 0.926\n",
    "Accuracy = 0.881\n",
    "F1 = 0.761"
   ]
  },
  {
   "attachments": {},
   "cell_type": "markdown",
   "metadata": {},
   "source": [
    "## Conclusions <a id='conclusions'></a>"
   ]
  },
  {
   "attachments": {},
   "cell_type": "markdown",
   "metadata": {},
   "source": [
    "A model has been developed with good predictive abilities on predicting whether a user will terminate their service. More specifically, LightGBM was implemented on a binary classification task, to predict on whether users fall into two groups, churned or no churn, with a model accuracy of 88.1% and ROC-AUC of 0.93.\n",
    "\n",
    "There are some ways that can be explored to improve the model:\n",
    "- Further hyperparameter tuning should be applied. A few hyperparameters were explored here, and with more compute and time, further improvements can be made and to also improve on overfitting.\n",
    "- Try other gradient boosting methods with the addition of cross-validation.\n",
    "- Explore other ways to fix class imbalance. Downsampling or other methods to upsampling can be tested to determine if it improves the prediction metrics."
   ]
  },
  {
   "attachments": {},
   "cell_type": "markdown",
   "metadata": {},
   "source": [
    "## Report <a id='report'></a>\n",
    "\n",
    "<b>Introduction</b>\n",
    "\n",
    "The purpose of the work is to develop a model that can predict whether a user will terminate their services. The datasets that were used to develop the model are the plan's contract information (start date, end date, billing information), some users' demographic information(gender, senior citizen, partner, dependents), internet plan and services (type of internet and various services), and phone plan (multiple lines). From this information and features, we can develop a model to draw correlation between the user info and plan and how likely they will churn.\n",
    "\n",
    "<b>Methodology</b>\n",
    "\n",
    "The first step was to inspect the datasets and clean up for preprocessing. This included standardizing the column names, changing columns to correct data types, and checking for duplicates and missing values. Missing values in the `totalcharges` column of the contract dataset was observed. These were filled with zeros after figuring out the entries are from accounts who have recently signed up and have yet to pay. Next, the datasets were merged together connected by their customer ID. Missing values after the merge will filled by defaulting to assuming that the customer did not sign up for specific service.\n",
    "\n",
    "In preparation of the dataset for training, a number of steps were performed. The target column for prediction (`enddate` or termination date) was transformed to a binary classification of 0 for no churn, and 1 for churned. Regarding the features, the categorical features were encoded with one-hot encoding and dropping one column to avoid the dummy trap. Year and month data were extracted from `begindate` (account plan starting date). Dataset was then split into training (60%), validation (20%), and test (20%) sets. Numerical features were scaled based on min-max values (MinMaxScaler) on training set, and applied to validation and test sets. It was also decided that to fix class imbalance, upsampling by SMOTE was used. The reason downsampling was avoided as it was not desirable to remove or lose any data that can help with training.\n",
    "\n",
    "The resulting datasets were trained on several models and the main metrics evaluated were on AUC-ROC and accuracy. These models include logistic regression, random forest, and gradient boosting model (LightGBM), and compared against a minimal quality model. Hyperparameters were tuned on the validation dataset, and the model with the best metrics was used to evaluate on the test set.\n",
    "\n",
    "<b>Results and Discussion</b>\n",
    "\n",
    "The best model trained was on a gradient boosting model (LightGBM) resulting in a AUC-ROC of 0.93 and accuracy of 88.1% on the test set. This indicates a model with strong predictive capabilities on whether users will terminate their services.\n",
    "\n",
    "From the exploratory data analysis, there are a couple points worth further investigation. There is a shift in distribution in the churned group on the plan type (month-to-month, 1-year, 2-year contracts), and the internet service (DSL, fiber optic). Churned group has a higher ratio of plans on the month-to-month, which makes sense since its more likely users here only plan on having the service short term and thus higher churn rates. Fiber optic internet services are heavily favored in the churned group as well. Could there be some issue about the fiber optic internet package that is driving away customers?\n",
    "\n",
    "The model can be used to predict users who plan to churn and retention incentives can be offered to prevent churning. In order to test the predictive capabilities of the model and effectiveness of the retention offers, I propose the following. Take a group of existing customers, and split the group equally based on prediction of churn/no churn groups. One group is not offered the retention incentive (Group A) while the other group is given the promotions (Group B). Accuracy of the model will be evaluated on Group A, while effectiveness of the promotions will be evaluated by comparing between Group A and Group B."
   ]
  }
 ],
 "metadata": {
  "kernelspec": {
   "display_name": "base",
   "language": "python",
   "name": "python3"
  },
  "language_info": {
   "codemirror_mode": {
    "name": "ipython",
    "version": 3
   },
   "file_extension": ".py",
   "mimetype": "text/x-python",
   "name": "python",
   "nbconvert_exporter": "python",
   "pygments_lexer": "ipython3",
   "version": "3.9.12 (main, Apr  4 2022, 05:22:27) [MSC v.1916 64 bit (AMD64)]"
  },
  "orig_nbformat": 4,
  "vscode": {
   "interpreter": {
    "hash": "ad2bdc8ecc057115af97d19610ffacc2b4e99fae6737bb82f5d7fb13d2f2c186"
   }
  }
 },
 "nbformat": 4,
 "nbformat_minor": 2
}
