{
 "cells": [
  {
   "attachments": {},
   "cell_type": "markdown",
   "metadata": {},
   "source": [
    "## Introduction\n",
    "\n",
    "Mobile carrier Megaline has found out that many of their subscribers use legacy plans. They want to develop a model that would analyze subscribers' behavior and recommend one of Megaline's newer plans: Smart or Ultra.\n",
    "You have access to behavior data about subscribers who have already switched to the new plans. For this classification task, you need to develop a model that will pick the right plan.\n",
    "\n",
    "Develop a model with the highest possible accuracy. Check the accuracy using the test dataset.\n",
    "\n",
    "## Dataset description ('users_behavior.csv'):\n",
    "Every observation in the dataset contains monthly behavior information about one user. The information given is as follows:\n",
    "- `сalls` — number of calls,\n",
    "- `minutes` — total call duration in minutes,\n",
    "- `messages` — number of text messages,\n",
    "- `mb_used` — Internet traffic used in MB,\n",
    "- `is_ultra` — plan for the current month (Ultra - 1, Smart - 0).\n",
    "\n",
    "## Project overview\n",
    "\n",
    "The goal of this project is to evaluate three different machine learning classification models, Decision Tree, Random Forest, and Logistic Regression, and identifying the best model and parameters to predict behaviors of Megaline subscribers. The dataset from 'users_behavior.csv' will be used to train and validate the machine learning models. Finally, a test set will be used to check the quality of the models."
   ]
  },
  {
   "cell_type": "code",
   "execution_count": 1,
   "metadata": {},
   "outputs": [],
   "source": [
    "import pandas as pd\n",
    "from sklearn.tree import DecisionTreeClassifier\n",
    "from sklearn.ensemble import RandomForestClassifier\n",
    "from sklearn.linear_model import LogisticRegression\n",
    "from sklearn.dummy import DummyClassifier\n",
    "from sklearn.model_selection import train_test_split\n",
    "from sklearn.metrics import accuracy_score"
   ]
  },
  {
   "cell_type": "code",
   "execution_count": 2,
   "metadata": {},
   "outputs": [],
   "source": [
    "# Read in the dataset into df\n",
    "df = pd.read_csv('users_behavior.csv')"
   ]
  },
  {
   "cell_type": "code",
   "execution_count": 3,
   "metadata": {},
   "outputs": [
    {
     "name": "stdout",
     "output_type": "stream",
     "text": [
      "<class 'pandas.core.frame.DataFrame'>\n",
      "RangeIndex: 3214 entries, 0 to 3213\n",
      "Data columns (total 5 columns):\n",
      " #   Column    Non-Null Count  Dtype  \n",
      "---  ------    --------------  -----  \n",
      " 0   calls     3214 non-null   float64\n",
      " 1   minutes   3214 non-null   float64\n",
      " 2   messages  3214 non-null   float64\n",
      " 3   mb_used   3214 non-null   float64\n",
      " 4   is_ultra  3214 non-null   int64  \n",
      "dtypes: float64(4), int64(1)\n",
      "memory usage: 125.7 KB\n"
     ]
    },
    {
     "data": {
      "text/html": [
       "<div>\n",
       "<style scoped>\n",
       "    .dataframe tbody tr th:only-of-type {\n",
       "        vertical-align: middle;\n",
       "    }\n",
       "\n",
       "    .dataframe tbody tr th {\n",
       "        vertical-align: top;\n",
       "    }\n",
       "\n",
       "    .dataframe thead th {\n",
       "        text-align: right;\n",
       "    }\n",
       "</style>\n",
       "<table border=\"1\" class=\"dataframe\">\n",
       "  <thead>\n",
       "    <tr style=\"text-align: right;\">\n",
       "      <th></th>\n",
       "      <th>calls</th>\n",
       "      <th>minutes</th>\n",
       "      <th>messages</th>\n",
       "      <th>mb_used</th>\n",
       "      <th>is_ultra</th>\n",
       "    </tr>\n",
       "  </thead>\n",
       "  <tbody>\n",
       "    <tr>\n",
       "      <th>0</th>\n",
       "      <td>40.0</td>\n",
       "      <td>311.90</td>\n",
       "      <td>83.0</td>\n",
       "      <td>19915.42</td>\n",
       "      <td>0</td>\n",
       "    </tr>\n",
       "    <tr>\n",
       "      <th>1</th>\n",
       "      <td>85.0</td>\n",
       "      <td>516.75</td>\n",
       "      <td>56.0</td>\n",
       "      <td>22696.96</td>\n",
       "      <td>0</td>\n",
       "    </tr>\n",
       "    <tr>\n",
       "      <th>2</th>\n",
       "      <td>77.0</td>\n",
       "      <td>467.66</td>\n",
       "      <td>86.0</td>\n",
       "      <td>21060.45</td>\n",
       "      <td>0</td>\n",
       "    </tr>\n",
       "    <tr>\n",
       "      <th>3</th>\n",
       "      <td>106.0</td>\n",
       "      <td>745.53</td>\n",
       "      <td>81.0</td>\n",
       "      <td>8437.39</td>\n",
       "      <td>1</td>\n",
       "    </tr>\n",
       "    <tr>\n",
       "      <th>4</th>\n",
       "      <td>66.0</td>\n",
       "      <td>418.74</td>\n",
       "      <td>1.0</td>\n",
       "      <td>14502.75</td>\n",
       "      <td>0</td>\n",
       "    </tr>\n",
       "  </tbody>\n",
       "</table>\n",
       "</div>"
      ],
      "text/plain": [
       "   calls  minutes  messages   mb_used  is_ultra\n",
       "0   40.0   311.90      83.0  19915.42         0\n",
       "1   85.0   516.75      56.0  22696.96         0\n",
       "2   77.0   467.66      86.0  21060.45         0\n",
       "3  106.0   745.53      81.0   8437.39         1\n",
       "4   66.0   418.74       1.0  14502.75         0"
      ]
     },
     "metadata": {},
     "output_type": "display_data"
    },
    {
     "data": {
      "text/html": [
       "<div>\n",
       "<style scoped>\n",
       "    .dataframe tbody tr th:only-of-type {\n",
       "        vertical-align: middle;\n",
       "    }\n",
       "\n",
       "    .dataframe tbody tr th {\n",
       "        vertical-align: top;\n",
       "    }\n",
       "\n",
       "    .dataframe thead th {\n",
       "        text-align: right;\n",
       "    }\n",
       "</style>\n",
       "<table border=\"1\" class=\"dataframe\">\n",
       "  <thead>\n",
       "    <tr style=\"text-align: right;\">\n",
       "      <th></th>\n",
       "      <th>calls</th>\n",
       "      <th>minutes</th>\n",
       "      <th>messages</th>\n",
       "      <th>mb_used</th>\n",
       "      <th>is_ultra</th>\n",
       "    </tr>\n",
       "  </thead>\n",
       "  <tbody>\n",
       "    <tr>\n",
       "      <th>count</th>\n",
       "      <td>3214.000000</td>\n",
       "      <td>3214.000000</td>\n",
       "      <td>3214.000000</td>\n",
       "      <td>3214.000000</td>\n",
       "      <td>3214.000000</td>\n",
       "    </tr>\n",
       "    <tr>\n",
       "      <th>mean</th>\n",
       "      <td>63.038892</td>\n",
       "      <td>438.208787</td>\n",
       "      <td>38.281269</td>\n",
       "      <td>17207.673836</td>\n",
       "      <td>0.306472</td>\n",
       "    </tr>\n",
       "    <tr>\n",
       "      <th>std</th>\n",
       "      <td>33.236368</td>\n",
       "      <td>234.569872</td>\n",
       "      <td>36.148326</td>\n",
       "      <td>7570.968246</td>\n",
       "      <td>0.461100</td>\n",
       "    </tr>\n",
       "    <tr>\n",
       "      <th>min</th>\n",
       "      <td>0.000000</td>\n",
       "      <td>0.000000</td>\n",
       "      <td>0.000000</td>\n",
       "      <td>0.000000</td>\n",
       "      <td>0.000000</td>\n",
       "    </tr>\n",
       "    <tr>\n",
       "      <th>25%</th>\n",
       "      <td>40.000000</td>\n",
       "      <td>274.575000</td>\n",
       "      <td>9.000000</td>\n",
       "      <td>12491.902500</td>\n",
       "      <td>0.000000</td>\n",
       "    </tr>\n",
       "    <tr>\n",
       "      <th>50%</th>\n",
       "      <td>62.000000</td>\n",
       "      <td>430.600000</td>\n",
       "      <td>30.000000</td>\n",
       "      <td>16943.235000</td>\n",
       "      <td>0.000000</td>\n",
       "    </tr>\n",
       "    <tr>\n",
       "      <th>75%</th>\n",
       "      <td>82.000000</td>\n",
       "      <td>571.927500</td>\n",
       "      <td>57.000000</td>\n",
       "      <td>21424.700000</td>\n",
       "      <td>1.000000</td>\n",
       "    </tr>\n",
       "    <tr>\n",
       "      <th>max</th>\n",
       "      <td>244.000000</td>\n",
       "      <td>1632.060000</td>\n",
       "      <td>224.000000</td>\n",
       "      <td>49745.730000</td>\n",
       "      <td>1.000000</td>\n",
       "    </tr>\n",
       "  </tbody>\n",
       "</table>\n",
       "</div>"
      ],
      "text/plain": [
       "             calls      minutes     messages       mb_used     is_ultra\n",
       "count  3214.000000  3214.000000  3214.000000   3214.000000  3214.000000\n",
       "mean     63.038892   438.208787    38.281269  17207.673836     0.306472\n",
       "std      33.236368   234.569872    36.148326   7570.968246     0.461100\n",
       "min       0.000000     0.000000     0.000000      0.000000     0.000000\n",
       "25%      40.000000   274.575000     9.000000  12491.902500     0.000000\n",
       "50%      62.000000   430.600000    30.000000  16943.235000     0.000000\n",
       "75%      82.000000   571.927500    57.000000  21424.700000     1.000000\n",
       "max     244.000000  1632.060000   224.000000  49745.730000     1.000000"
      ]
     },
     "execution_count": 3,
     "metadata": {},
     "output_type": "execute_result"
    }
   ],
   "source": [
    "# Print out info on the dataset\n",
    "df.info()\n",
    "display(df.head())\n",
    "df.describe()"
   ]
  },
  {
   "cell_type": "code",
   "execution_count": 4,
   "metadata": {},
   "outputs": [],
   "source": [
    "# features: calls, minutes, messages, mb_used\n",
    "# target: is_ultra\n",
    "features = df.drop('is_ultra', axis=1)\n",
    "target = df['is_ultra']\n",
    "\n",
    "r_state = 48144495 # random state value\n",
    "\n",
    "# Split into training, validation, and test sets\n",
    "# 60% training, 20% validation, 20% test\n",
    "features_train, features_split, target_train, target_split = train_test_split(features, target, test_size=0.4, random_state=r_state)\n",
    "features_valid, features_test, target_valid, target_test = train_test_split(features_split, target_split, test_size=0.5, random_state=r_state)"
   ]
  },
  {
   "cell_type": "code",
   "execution_count": 5,
   "metadata": {},
   "outputs": [
    {
     "name": "stdout",
     "output_type": "stream",
     "text": [
      "Best score = 0.7947122861586314 with best depth: 3\n"
     ]
    }
   ],
   "source": [
    "# Evaluate and optimize hyperparameters for decision tree model\n",
    "best_score_tree = 0\n",
    "best_depth_tree = 0\n",
    "for depth in range(1, 11):\n",
    "    modelTree = DecisionTreeClassifier(random_state=r_state, max_depth=depth)\n",
    "    modelTree.fit(features_train, target_train)\n",
    "    score_tree = modelTree.score(features_valid, target_valid)\n",
    "    if score_tree > best_score_tree:\n",
    "        best_depth_tree = depth\n",
    "        best_score_tree = score_tree\n",
    "\n",
    "print(f'Best score = {best_score_tree} with best depth: {best_depth_tree}')"
   ]
  },
  {
   "cell_type": "code",
   "execution_count": 6,
   "metadata": {},
   "outputs": [
    {
     "name": "stdout",
     "output_type": "stream",
     "text": [
      "Best score = 0.8118195956454122, with best depth: 10, with n_estimators: 40\n"
     ]
    }
   ],
   "source": [
    "# Evaluate and optimize hyperparameters for random forest model\n",
    "best_est = 0\n",
    "best_score_forest = 0\n",
    "best_depth_forest = 0\n",
    "for est in range(10, 51, 10):\n",
    "    for depth in range(1, 21):\n",
    "        modelForest = RandomForestClassifier(n_estimators=est, random_state=r_state, max_depth=depth)\n",
    "        modelForest.fit(features_train, target_train)\n",
    "        score_forest = modelForest.score(features_valid, target_valid)\n",
    "        if score_forest > best_score_forest:\n",
    "            best_depth_forest = depth\n",
    "            best_score_forest = score_forest\n",
    "            best_est = est\n",
    "\n",
    "print(f'Best score = {best_score_forest}, with best depth: {best_depth_forest}, with n_estimators: {best_est}')"
   ]
  },
  {
   "cell_type": "code",
   "execution_count": 7,
   "metadata": {},
   "outputs": [
    {
     "name": "stdout",
     "output_type": "stream",
     "text": [
      "Best score = 0.7122861586314152 with solver: lbfgs\n"
     ]
    }
   ],
   "source": [
    "# Evaluate logistic regression model with different solvers\n",
    "solvers = ['lbfgs', 'liblinear']\n",
    "best_solver = ''\n",
    "best_score_log = 0\n",
    "for solv in solvers:\n",
    "    modelLog = LogisticRegression(random_state=r_state, solver=solv)\n",
    "    modelLog.fit(features_train, target_train)\n",
    "    score_log = modelLog.score(features_valid, target_valid)\n",
    "    if score_log > best_score_log:\n",
    "        best_solver = solv\n",
    "        best_score_log = score_log\n",
    "\n",
    "print(f'Best score = {best_score_log} with solver: {best_solver}')"
   ]
  },
  {
   "cell_type": "markdown",
   "metadata": {},
   "source": [
    "## Results and discussion\n",
    "\n",
    "A decision tree model with max_depth ranging from 1-10 were evaluated and the best model was determined with a max depth of 3 and an accuracy/score of 0.79.\n",
    "\n",
    "A random forest model was evaluated with varying the n_estimator from 10-50, and a max depth ranging from 1-20 for each n_estimator. The best random forest model had a depth of 10, n_estimator of 40, and the accuracy/score of 0.81.\n",
    "\n",
    "A logistic regression model with solvers 'lbfgs' and 'liblinear' were evaluated. The best score/accuracy was achieved at 0.71 with the solver 'lbfgs'.\n",
    "\n",
    "Ranking of best to worst model with these parameters based on accuracy of the validation dataset is: Random Forest > Decision Tree > Logistic Regression."
   ]
  },
  {
   "cell_type": "code",
   "execution_count": 8,
   "metadata": {},
   "outputs": [
    {
     "name": "stdout",
     "output_type": "stream",
     "text": [
      "Accuracy of minimal quality model: 0.6827371695178849\n"
     ]
    }
   ],
   "source": [
    "# Dummy classifier\n",
    "model_dummy = DummyClassifier(strategy='prior').fit(features_train, target_train)\n",
    "predictions_dummy = model_dummy.predict(features_test)\n",
    "acc_dummy = accuracy_score(target_test, predictions_dummy)\n",
    "\n",
    "print(f'Accuracy of minimal quality model: {acc_dummy}')"
   ]
  },
  {
   "cell_type": "code",
   "execution_count": 9,
   "metadata": {},
   "outputs": [
    {
     "name": "stdout",
     "output_type": "stream",
     "text": [
      "Accuracy of decision tree model on test set: 0.8118195956454122\n"
     ]
    }
   ],
   "source": [
    "# Determined hyperparameters for decision tree model on test set\n",
    "best_modelTree = DecisionTreeClassifier(random_state=r_state, max_depth=best_depth_tree)\n",
    "best_modelTree.fit(features_train, target_train)\n",
    "predictions_tree = best_modelTree.predict(features_test)\n",
    "acc_tree = accuracy_score(target_test, predictions_tree)\n",
    "\n",
    "print(f'Accuracy of decision tree model on test set: {acc_tree}')"
   ]
  },
  {
   "cell_type": "code",
   "execution_count": 10,
   "metadata": {},
   "outputs": [
    {
     "name": "stdout",
     "output_type": "stream",
     "text": [
      "Accuracy of random forest model on test set: 0.8040435458786936\n"
     ]
    }
   ],
   "source": [
    "# Determined hyperparameters for random forest model on test set\n",
    "best_modelForest = RandomForestClassifier(n_estimators=best_est, random_state=r_state, max_depth=best_depth_forest)\n",
    "best_modelForest.fit(features_train, target_train)\n",
    "predictions_forest = best_modelForest.predict(features_test)\n",
    "acc_forest = accuracy_score(target_test, predictions_forest)\n",
    "\n",
    "print(f'Accuracy of random forest model on test set: {acc_forest}')"
   ]
  },
  {
   "cell_type": "code",
   "execution_count": 11,
   "metadata": {},
   "outputs": [
    {
     "name": "stdout",
     "output_type": "stream",
     "text": [
      "Accuracy of logistic regression model on test set: 0.6842923794712286\n"
     ]
    }
   ],
   "source": [
    "# Determined hyperparameters for logistic regression model\n",
    "best_modelLog = LogisticRegression(random_state=r_state, solver=best_solver)\n",
    "best_modelLog.fit(features_train, target_train)\n",
    "predictions_log = best_modelLog.predict(features_test)\n",
    "acc_log = accuracy_score(target_test, predictions_log)\n",
    "\n",
    "print(f'Accuracy of logistic regression model on test set: {acc_log}')"
   ]
  },
  {
   "attachments": {},
   "cell_type": "markdown",
   "metadata": {},
   "source": [
    "## Results and discussion on test set\n",
    "\n",
    "Decision Tree model accuracy on test set is 0.81.\n",
    "\n",
    "Random Forest model accuracy on test set is 0.80.\n",
    "\n",
    "Logistic Regression model accuracy on test set is 0.68, which is equivalent to the minimal quality model, so the logistic regression model is not a reliable model to use.\n",
    "\n",
    "After evaluating with the test set, the ranking is now decision tree > random forest > logistic regression. The decision tree accuracy actually went up on the test set, while the accuracy of the random forest model went down when evaluating the test set. The change in difference is actually fairly small and likely not that significant of a difference. From this analysis though, we were able to achieve accuracy on a test dataset of more than 75% with both decision tree and random forest models."
   ]
  }
 ],
 "metadata": {
  "kernelspec": {
   "display_name": "Python 3.9.12 ('base')",
   "language": "python",
   "name": "python3"
  },
  "language_info": {
   "codemirror_mode": {
    "name": "ipython",
    "version": 3
   },
   "file_extension": ".py",
   "mimetype": "text/x-python",
   "name": "python",
   "nbconvert_exporter": "python",
   "pygments_lexer": "ipython3",
   "version": "3.9.12"
  },
  "orig_nbformat": 4,
  "vscode": {
   "interpreter": {
    "hash": "ad2bdc8ecc057115af97d19610ffacc2b4e99fae6737bb82f5d7fb13d2f2c186"
   }
  }
 },
 "nbformat": 4,
 "nbformat_minor": 2
}
